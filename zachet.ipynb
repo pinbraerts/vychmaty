{
 "cells": [
  {
   "cell_type": "markdown",
   "id": "6e7bfdfb-7193-4080-b691-b6117520e154",
   "metadata": {},
   "source": [
    "# Задачи"
   ]
  },
  {
   "cell_type": "markdown",
   "id": "b4be07b3-6e2b-47b5-a58a-5a0667a3314d",
   "metadata": {},
   "source": [
    "# 1"
   ]
  },
  {
   "cell_type": "markdown",
   "id": "73a9bc71-79c2-4a07-9925-126696e4f32f",
   "metadata": {},
   "source": []
  },
  {
   "cell_type": "markdown",
   "id": "5dc4636e-f13a-4192-813c-fdb8a85c142e",
   "metadata": {},
   "source": [
    "## 2"
   ]
  },
  {
   "cell_type": "markdown",
   "id": "827bb070-1910-4763-bb43-e5b7a1bfbe2f",
   "metadata": {},
   "source": [
    "$$\n",
    "A = \\begin{pmatrix}\n",
    "     3.54 & -1.22 \\\\\n",
    "    -4.11 & 2.63\n",
    "\\end{pmatrix}\n",
    "\\qquad\n",
    "b = \\begin{pmatrix}\n",
    "     2.73 \\\\\n",
    "     -3.52\n",
    "\\end{pmatrix}\n",
    "$$\n",
    "$$\n",
    "\\det A = 4.296\n",
    "\\qquad\n",
    "A^{-1} = \\frac 1 {\\det A} \\begin{pmatrix}\n",
    "    2.63 & 1.22 \\\\\n",
    "    4.11 & 3.54\n",
    "\\end{pmatrix}\n",
    "$$\n",
    "$$\n",
    "\\delta f = 10^{-3} \\qquad\n",
    "\\delta a = 10^{-3}\n",
    "$$\n",
    "\n",
    "### $\\|\\bullet\\|_1$\n",
    "$$\n",
    "\\|A\\| = 7.65 \\qquad\n",
    "\\|A^{-1}\\| = 1.56 \\qquad\n",
    "\\mu = \\|A\\| \\|A^{-1}\\| \\approx 11.934 \\qquad\n",
    "\\delta u = 4.90 * 2 * 10^{-3} \\approx 2.4\\%\n",
    "$$\n",
    "\n",
    "### $\\|\\bullet\\|_2$\n",
    "$$\n",
    "\\|A\\| = 6.11 \\qquad\n",
    "\\|A^{-1}\\| = 1.4223 \\qquad\n",
    "\\mu = \\|A\\| \\|A^{-1}\\| \\approx 8.69 \\qquad\n",
    "\\delta u = 4.90 * 2 * 10^{-3} \\approx 1.74\\%\n",
    "$$"
   ]
  },
  {
   "cell_type": "markdown",
   "id": "43a0e1b0-0b86-4bf3-bd78-694f7208923c",
   "metadata": {},
   "source": [
    "# 3"
   ]
  },
  {
   "cell_type": "markdown",
   "id": "c11169e5-a22b-496c-aecc-cec86bd04454",
   "metadata": {},
   "source": [
    "$$\n",
    "A = \\begin{pmatrix}\n",
    "    -6 & -12 \\\\\n",
    "    -5 & -2\n",
    "\\end{pmatrix}\n",
    "\\qquad\n",
    "\\Delta A = \\begin{pmatrix}\n",
    "    \\epsilon_1 & 3 \\epsilon_2 \\\\\n",
    "    0 & \\epsilon_1\n",
    "\\end{pmatrix}\n",
    "\\qquad\n",
    "y = \\begin{pmatrix} -4 \\\\ 4 \\end{pmatrix}\n",
    "\\qquad\n",
    "\\Delta y = \\begin{pmatrix} \\epsilon_3 \\\\ \\epsilon_4 \\end{pmatrix}\n",
    "$$\n",
    "$$\n",
    "\\det A = -48 \\qquad\n",
    "A^{-1} = \\frac 1 {-48} \\begin{pmatrix}\n",
    "    -2 & 12 \\\\\n",
    "    5 & -6\n",
    "\\end{pmatrix}\n",
    "\\qquad\n",
    "x_0 = \\begin{pmatrix} -1 \\\\ 0.5 \\end{pmatrix}\n",
    "$$\n",
    "### $\\|\\bullet\\|_1$\n",
    "$$\n",
    "\\|A\\| = 14 \\qquad \\|A^{-1}\\| = 0.375 \\qquad \\mu = 5.25\n",
    "$$$$\n",
    "\\|\\Delta A\\| = 0.2 \\qquad \\|y\\| = 8 \\qquad \\|\\Delta y\\| = 0.1 \\qquad \\|x_0\\| = 1.5 \\qquad\n",
    "\\qquad\n",
    "\\Delta x = 1.5 * 5.25 * (0.2 / 14 + 0.1 / 8) = 0.21\n",
    "$$\n",
    "### $\\|\\bullet\\|_2$\n",
    "$$\n",
    "\\|A\\| = 14.05 \\qquad \\|A^{-1}\\| = 0.293 \\qquad \\mu = 4.11\n",
    "$$$$\n",
    "\\|\\Delta A\\| = \\sqrt {11} 0.05 = 0.166 \\qquad \\|y\\| = 4 \\sqrt 2 = 5.657\n",
    "$$$$\n",
    "\\|\\Delta y\\| = 0.05 * \\sqrt 2 = 0.07 \\qquad \\|x_0\\| = 1.18 \\qquad\n",
    "\\qquad\n",
    "\\Delta x = 1.15 * 4.11 * (0.293 / 14.05 + 0.05 / 5.657) = 0.14\n",
    "$$\n",
    "### $\\|\\bullet\\|_\\infty$\n",
    "$$\n",
    "\\|A\\| = 18 \\qquad \\|A^{-1}\\| = 0.292 \\qquad \\mu = 5.26\n",
    "$$$$\n",
    "\\|\\Delta A\\| = 0.2 \\qquad \\|y\\| = 4 \\qquad \\|\\Delta y\\| = 0.05 \\qquad \\|x_0\\| = 1 \\qquad\n",
    "\\qquad\n",
    "\\Delta x = 1 * 5.26 * (0.2 / 18 + 0.05 / 4) = 0.124\n",
    "$$"
   ]
  },
  {
   "cell_type": "markdown",
   "id": "bd27975b-cf3d-423b-afa6-679792f15841",
   "metadata": {},
   "source": [
    "# 4"
   ]
  },
  {
   "cell_type": "markdown",
   "id": "f779cc13-deab-4aa6-b9ff-6d1a4b95efcb",
   "metadata": {},
   "source": [
    "$$\n",
    "A \\approx \\begin{pmatrix}\n",
    "    5 & -3 \\\\\n",
    "    8 & 2\n",
    "\\end{pmatrix}\n",
    "\\qquad\n",
    "\\det A = 10 + 24 = 34\n",
    "\\qquad\n",
    "A^{-1} \\approx \\frac 1 {34} \\begin{pmatrix}\n",
    "    2 & 3 \\\\\n",
    "    -8 & 5\n",
    "\\end{pmatrix}\n",
    "$$\n",
    "$$\n",
    "\\|A\\| = 13 \\qquad \\|A^{-1}\\| = 0.294\n",
    "$$\n",
    "$$\n",
    "\\Delta A^{-1} = \\Delta A \\frac {\\|A^{-1}\\|} {\\|A\\|} = 0.01 * 0.294 / 13 \\approx 2.26 * 10^{-4}\n",
    "$$\n"
   ]
  },
  {
   "cell_type": "markdown",
   "id": "aa24c14a-0ae2-4f28-a137-4330a028f640",
   "metadata": {},
   "source": [
    "## 5"
   ]
  },
  {
   "cell_type": "code",
   "execution_count": 1,
   "id": "cc7febc7-8099-4146-8270-e0a05fd6440c",
   "metadata": {},
   "outputs": [
    {
     "name": "stdout",
     "output_type": "stream",
     "text": [
      "tau: 0.03, q: 0.5418901673048178, delta0: 0.32171415884290827, float k: 9.42343624171309, k: 9\n",
      "0 [0.09 0.15 0.27] 0.32171415884290827\n",
      "1 [0.0522 0.1866 0.3483] 0.09433604825304061\n",
      "2 [0.024381 0.196578 0.379917] 0.043279232132744684\n",
      "3 [0.01035243 0.19920741 0.39505455] 0.02080528762587771\n",
      "4 [0.00375939 0.1996929  0.40277383] 0.010163228870507655\n",
      "5 [0.00068262 0.19960716 0.4067969 ] 0.005065464317135937\n",
      "6 [-0.00076948  0.19942636  0.40891146] 0.0025715073611359872\n",
      "7 [-0.00146613  0.19927615  0.41002752] 0.0013241870042963548\n",
      "8 [-0.00180607  0.19917451  0.41061806] 0.0006889326920790372\n",
      "[-0.00180607  0.19917451  0.41061806] [ 0.00561727  0.00209471 -0.01043402]\n"
     ]
    }
   ],
   "source": [
    "import numpy as np\n",
    "\n",
    "A = np.array([\n",
    "    [24, 5, 5],\n",
    "    [1, 21, 2],\n",
    "    [4, 6, 19],\n",
    "])\n",
    "y = np.array([3, 5, 9])\n",
    "eps = 1e-3\n",
    "x0 = np.zeros(3)\n",
    "tau = 3e-2\n",
    "R = np.eye(3) - tau * A\n",
    "q = np.linalg.norm(R, ord=2)\n",
    "x1 = R @ x0 + tau * y\n",
    "delta0 = np.linalg.norm(x0 - x1)\n",
    "kk = (np.log(eps) - np.log(delta0)) / np.log(q)\n",
    "k = int(np.floor(kk))\n",
    "print(f'tau: {tau}, q: {q}, delta0: {delta0}, float k: {kk}, k: {k}')\n",
    "x = x0\n",
    "for i in range(k):\n",
    "    x1 = x\n",
    "    x = R @ x + tau * y\n",
    "    print(i, x, np.linalg.norm(x - x1))\n",
    "print(x, A @ x - y)"
   ]
  },
  {
   "cell_type": "markdown",
   "id": "7ee1cc8e-f892-4ed4-9b39-cc2f845522e3",
   "metadata": {},
   "source": [
    "# Вопросы"
   ]
  },
  {
   "cell_type": "markdown",
   "id": "7aed985c-213e-4137-825a-c551b76d60b4",
   "metadata": {},
   "source": [
    "1. Спектральное разложение не всегда возможно. Условие диагонализируемости -- равенство алгебраической и геометрической кратности корня. Сингулярное разложение получается из разложения симметричной $A A^T$, поэтому оно существует всегда. Например, для симметричной матрицы на диагоналях в спектральном разложении будут стоять собственные числа, а в сингулярном -- квадраты собственных чисел."
   ]
  },
  {
   "cell_type": "markdown",
   "id": "c26f5198-a467-43af-a826-0e2a3532d9aa",
   "metadata": {},
   "source": [
    "2. Число обусловленности показывает, как меняется ответ в зависимости от изменений условий. Плохое число обусловленности (сильно больше единицы) показывает, что ошибка ответа растёт очень сильно в зависимости от шума начальных условий"
   ]
  },
  {
   "cell_type": "markdown",
   "id": "ae029042-f1b5-42c9-8192-c3033fdbc023",
   "metadata": {},
   "source": [
    "3.\n",
    "$$ \\|x\\|_1 = \\sum_i |x_i| $$\n",
    "$$ \\|x\\|_2 = \\sqrt {\\sum_i |x_i|^2 }$$\n",
    "$$ \\|x\\|_\\infty = \\max_i |x_i| $$"
   ]
  },
  {
   "cell_type": "markdown",
   "id": "87d87dfb-2878-4e59-a311-0540ab05eb51",
   "metadata": {},
   "source": [
    "4.\n",
    "$$ \\|A\\|_F = \\sqrt{ \\sum_{ij} |a_{ij}|^2 } $$\n",
    "$$ \\|A\\|_1 = \\max_j \\sum_{i} |a_{ij}| $$\n",
    "максимальная сумма модулей в стоблце\n",
    "$$ \\|A\\|_\\infty = \\max_i \\sum_{j} |a_{ij}| $$\n",
    "максимальная сумма модулей в строке\n",
    "$$ \\|A\\|_2 = \\sum_j \\sqrt{ \\sum_{i} |a_{ij}|^2 } $$ \n",
    "сумма евклидовых норм столбцов"
   ]
  },
  {
   "cell_type": "markdown",
   "id": "26498756-7b38-4f48-b1bb-c3848c66a961",
   "metadata": {},
   "source": [
    "5. Если из системы $A x = y$ c некоторым фактором $\\tau$ удалось выделить одну диагональ $R = E - \\tau A$ и спектральная (длина максимального вектора при умножении на вектора из единичной сферы) норма оставшейся части меньше единицы, рекурсивный ряд из векторов становится убывающей геометрической прогрессией по модулю расстояния между друг другом и, соответственно (по Коши) своим пределом -- правильным ответом. Поэтому итерация заключается в вычислении $x_{n+1} = R x_n - \\tau y$ "
   ]
  }
 ],
 "metadata": {
  "kernelspec": {
   "display_name": "Python 3 (ipykernel)",
   "language": "python",
   "name": "python3"
  },
  "language_info": {
   "codemirror_mode": {
    "name": "ipython",
    "version": 3
   },
   "file_extension": ".py",
   "mimetype": "text/x-python",
   "name": "python",
   "nbconvert_exporter": "python",
   "pygments_lexer": "ipython3",
   "version": "3.11.1"
  }
 },
 "nbformat": 4,
 "nbformat_minor": 5
}
