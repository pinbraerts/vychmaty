{
 "cells": [
  {
   "cell_type": "markdown",
   "metadata": {
    "id": "Fjxrb9gRqm-l"
   },
   "source": [
    "__Задание 1. Генератор случайных матриц.__\n",
    "\n",
    "Реализовать генератор матриц, который должен поддерживать функции:"
   ]
  },
  {
   "cell_type": "code",
   "execution_count": 70,
   "metadata": {
    "ExecuteTime": {
     "end_time": "2023-09-09T13:40:58.513886Z",
     "start_time": "2023-09-09T13:40:57.923078Z"
    },
    "id": "CGIkiix6pq2s"
   },
   "outputs": [],
   "source": [
    "# Реализую произвольную m,n, верхнетреугольную и симметричную. Остальное на вас - вам нужно дописать функцию.\n",
    "# Не забудьте откомментировать ваши изменения в документации к функции!\n",
    "\n",
    "import numpy as np\n",
    "\n",
    "def matrix_generate(rows, columns, type_ = \"full\", eps = 0):\n",
    "    \"\"\"\n",
    "    matrix_generate(rows, columns, type_ = \"full\")\n",
    "\n",
    "    Создаёт случайную матрицу выбранного типа.\n",
    "\n",
    "    Если матрицу нужных размеров создать нельзя должен выдать\n",
    "    строку f\"Error with type {type_} and shape ({rows},{columns})\".\n",
    "\n",
    "    Parameters\n",
    "    ----------\n",
    "\n",
    "    rows : int\n",
    "        Количество строк в создаваемой матрице.\n",
    "    columns : int\n",
    "        Количество столбцов в создаваемой матрице.\n",
    "    type_ : str, optional\n",
    "        Тип создаваемой матрицы: \"full\", \"upper_triangular\", \"symmetric\" и т.д.\n",
    "    eps: float, optional\n",
    "        Дополнительное число, использующееся при генерации для некоторых типов матриц.\n",
    "\n",
    "    Returns\n",
    "    -------\n",
    "    out : ndarray or str\n",
    "        Выдаёт матрицу нужного типа либо ошибку.\n",
    "\n",
    "    Notes\n",
    "    -----\n",
    "    Поддерживаемые типы матриц:\n",
    "        \"full\",\"upper_triangular\",\n",
    "        \"symmetric\",\n",
    "        ...\n",
    "\n",
    "\n",
    "    \"\"\"\n",
    "\n",
    "    if type_ == 'full':\n",
    "        return np.random.rand(rows, columns)\n",
    "    elif type_ == 'perturbation':\n",
    "        return np.random.uniform(-eps, eps, size=(rows, columns))\n",
    "    elif type_ == 'upper_triangular':\n",
    "        B = np.zeros((rows, columns))\n",
    "        i = np.triu_indices(rows, m=columns)\n",
    "        B[i] = np.random.rand(len(i[0]))\n",
    "        return B\n",
    "    elif type_ == 'lower_triangular':\n",
    "        B = np.zeros((rows, columns))\n",
    "        i = np.tril_indices(rows, m=columns)\n",
    "        B[i] = np.random.rand(len(i[0]))\n",
    "        return B\n",
    "    elif rows != columns:\n",
    "        return f'Matrices of type {type_} should be square, current shape {rows}x{columns}'\n",
    "    elif type_ == 'diagonal':\n",
    "        return np.diag(np.random.rand(rows))\n",
    "    elif type_ == 'symmetric':\n",
    "        A = np.random.rand(rows, columns)\n",
    "        return A + A.T\n",
    "    return f'Unknown type {type_}'"
   ]
  },
  {
   "cell_type": "markdown",
   "metadata": {
    "id": "Fjxrb9gRqm-l"
   },
   "source": [
    "* Генерация абсолютно случайной матрицы $n\\times m$"
   ]
  },
  {
   "cell_type": "code",
   "execution_count": 84,
   "metadata": {},
   "outputs": [
    {
     "data": {
      "text/plain": [
       "array([[0.51171402, 0.4701135 , 0.86202344],\n",
       "       [0.45103079, 0.27068551, 0.33656308],\n",
       "       [0.47784474, 0.79147893, 0.30220428]])"
      ]
     },
     "execution_count": 84,
     "metadata": {},
     "output_type": "execute_result"
    }
   ],
   "source": [
    "matrix_generate(3, 3, 'full')"
   ]
  },
  {
   "cell_type": "code",
   "execution_count": 85,
   "metadata": {},
   "outputs": [
    {
     "data": {
      "text/plain": [
       "array([[0.00472342, 0.5009801 , 0.66363788],\n",
       "       [0.67359712, 0.44216502, 0.22487638],\n",
       "       [0.48090867, 0.06777354, 0.40346182],\n",
       "       [0.08748942, 0.48581902, 0.89972193],\n",
       "       [0.9305891 , 0.57667753, 0.24676108]])"
      ]
     },
     "execution_count": 85,
     "metadata": {},
     "output_type": "execute_result"
    }
   ],
   "source": [
    "matrix_generate(5, 3, 'full')"
   ]
  },
  {
   "cell_type": "code",
   "execution_count": 87,
   "metadata": {},
   "outputs": [
    {
     "data": {
      "text/plain": [
       "array([[0.28460371, 0.59247209, 0.15198865, 0.34407725, 0.28600635],\n",
       "       [0.42559572, 0.63559888, 0.18691127, 0.27813005, 0.86434815],\n",
       "       [0.58618414, 0.14696689, 0.58203503, 0.42097307, 0.77696943]])"
      ]
     },
     "execution_count": 87,
     "metadata": {},
     "output_type": "execute_result"
    }
   ],
   "source": [
    "matrix_generate(3, 5, 'full')"
   ]
  },
  {
   "cell_type": "markdown",
   "metadata": {
    "id": "Fjxrb9gRqm-l"
   },
   "source": [
    "* Генерация случайной диагональной матрицы $n\\times n$"
   ]
  },
  {
   "cell_type": "code",
   "execution_count": 88,
   "metadata": {},
   "outputs": [
    {
     "data": {
      "text/plain": [
       "array([[0.46488192, 0.        , 0.        ],\n",
       "       [0.        , 0.03474913, 0.        ],\n",
       "       [0.        , 0.        , 0.176526  ]])"
      ]
     },
     "execution_count": 88,
     "metadata": {},
     "output_type": "execute_result"
    }
   ],
   "source": [
    "matrix_generate(3, 3, 'diagonal')"
   ]
  },
  {
   "cell_type": "code",
   "execution_count": 89,
   "metadata": {},
   "outputs": [
    {
     "data": {
      "text/plain": [
       "'Matrices of type diagonal should be square, current shape 5x3'"
      ]
     },
     "execution_count": 89,
     "metadata": {},
     "output_type": "execute_result"
    }
   ],
   "source": [
    "matrix_generate(5, 3, 'diagonal')"
   ]
  },
  {
   "cell_type": "markdown",
   "metadata": {
    "id": "Fjxrb9gRqm-l"
   },
   "source": [
    "* Генерация случайной верхнетреугольной матрицы"
   ]
  },
  {
   "cell_type": "code",
   "execution_count": 90,
   "metadata": {},
   "outputs": [
    {
     "data": {
      "text/plain": [
       "array([[0.70633245, 0.49613962, 0.75364396],\n",
       "       [0.        , 0.20910312, 0.0276506 ],\n",
       "       [0.        , 0.        , 0.18590243]])"
      ]
     },
     "execution_count": 90,
     "metadata": {},
     "output_type": "execute_result"
    }
   ],
   "source": [
    "matrix_generate(3, 3, 'upper_triangular')"
   ]
  },
  {
   "cell_type": "code",
   "execution_count": 92,
   "metadata": {},
   "outputs": [
    {
     "data": {
      "text/plain": [
       "array([[0.70721639, 0.47086646, 0.61336322],\n",
       "       [0.        , 0.80120863, 0.34891503],\n",
       "       [0.        , 0.        , 0.26144259],\n",
       "       [0.        , 0.        , 0.        ],\n",
       "       [0.        , 0.        , 0.        ]])"
      ]
     },
     "execution_count": 92,
     "metadata": {},
     "output_type": "execute_result"
    }
   ],
   "source": [
    "matrix_generate(5, 3, 'upper_triangular')"
   ]
  },
  {
   "cell_type": "code",
   "execution_count": 94,
   "metadata": {},
   "outputs": [
    {
     "data": {
      "text/plain": [
       "array([[0.55718561, 0.7793886 , 0.76578305, 0.73745996, 0.65985749],\n",
       "       [0.        , 0.37737636, 0.70355675, 0.48569395, 0.50234804],\n",
       "       [0.        , 0.        , 0.05901902, 0.16795366, 0.76845725]])"
      ]
     },
     "execution_count": 94,
     "metadata": {},
     "output_type": "execute_result"
    }
   ],
   "source": [
    "matrix_generate(3, 5, 'upper_triangular')"
   ]
  },
  {
   "cell_type": "markdown",
   "metadata": {
    "id": "Fjxrb9gRqm-l"
   },
   "source": [
    "* Генерация случайной нижнетреугольной матрицы"
   ]
  },
  {
   "cell_type": "code",
   "execution_count": 95,
   "metadata": {},
   "outputs": [
    {
     "data": {
      "text/plain": [
       "array([[0.05627052, 0.        , 0.        ],\n",
       "       [0.29091288, 0.47480092, 0.        ],\n",
       "       [0.34925472, 0.25647232, 0.32317893]])"
      ]
     },
     "execution_count": 95,
     "metadata": {},
     "output_type": "execute_result"
    }
   ],
   "source": [
    "matrix_generate(3, 3, 'lower_triangular')"
   ]
  },
  {
   "cell_type": "code",
   "execution_count": 96,
   "metadata": {},
   "outputs": [
    {
     "data": {
      "text/plain": [
       "array([[0.68903371, 0.        , 0.        ],\n",
       "       [0.51334995, 0.41698581, 0.        ],\n",
       "       [0.6504006 , 0.87505444, 0.87695313],\n",
       "       [0.47369832, 0.9200324 , 0.40656095],\n",
       "       [0.483274  , 0.82793853, 0.03624889]])"
      ]
     },
     "execution_count": 96,
     "metadata": {},
     "output_type": "execute_result"
    }
   ],
   "source": [
    "matrix_generate(5, 3, 'lower_triangular')"
   ]
  },
  {
   "cell_type": "code",
   "execution_count": 98,
   "metadata": {},
   "outputs": [
    {
     "data": {
      "text/plain": [
       "array([[0.68116586, 0.        , 0.        , 0.        , 0.        ],\n",
       "       [0.30399586, 0.88489476, 0.        , 0.        , 0.        ],\n",
       "       [0.13426372, 0.77320383, 0.89320048, 0.        , 0.        ]])"
      ]
     },
     "execution_count": 98,
     "metadata": {},
     "output_type": "execute_result"
    }
   ],
   "source": [
    "matrix_generate(3, 5, 'lower_triangular')"
   ]
  },
  {
   "cell_type": "markdown",
   "metadata": {
    "id": "Fjxrb9gRqm-l"
   },
   "source": [
    "* Генерация симметричной матрицы"
   ]
  },
  {
   "cell_type": "code",
   "execution_count": 99,
   "metadata": {},
   "outputs": [
    {
     "data": {
      "text/plain": [
       "array([[0.54780643, 1.06582679, 0.47886826],\n",
       "       [1.06582679, 0.39450874, 0.6709881 ],\n",
       "       [0.47886826, 0.6709881 , 0.82894916]])"
      ]
     },
     "execution_count": 99,
     "metadata": {},
     "output_type": "execute_result"
    }
   ],
   "source": [
    "matrix_generate(3, 3, 'symmetric')"
   ]
  },
  {
   "cell_type": "code",
   "execution_count": 100,
   "metadata": {},
   "outputs": [
    {
     "data": {
      "text/plain": [
       "'Matrices of type symmetric should be square, current shape 3x5'"
      ]
     },
     "execution_count": 100,
     "metadata": {},
     "output_type": "execute_result"
    }
   ],
   "source": [
    "matrix_generate(3, 5, 'symmetric')"
   ]
  },
  {
   "cell_type": "markdown",
   "metadata": {
    "id": "Fjxrb9gRqm-l"
   },
   "source": [
    "* Генерация возмущения матрицы $n\\times m$, каждый элемент которой не превосходит по модулю заданный $\\varepsilon$"
   ]
  },
  {
   "cell_type": "code",
   "execution_count": 101,
   "metadata": {},
   "outputs": [
    {
     "data": {
      "text/plain": [
       "array([[ 0.03223514,  0.06929842,  0.44209469],\n",
       "       [-0.57168921,  0.34453215, -0.77250078],\n",
       "       [-0.1866493 ,  0.68840332, -0.18642191]])"
      ]
     },
     "execution_count": 101,
     "metadata": {},
     "output_type": "execute_result"
    }
   ],
   "source": [
    "matrix_generate(3, 3, 'perturbation', 1)"
   ]
  },
  {
   "cell_type": "code",
   "execution_count": 103,
   "metadata": {},
   "outputs": [
    {
     "data": {
      "text/plain": [
       "array([[-0.34355443,  0.16898431,  0.18801883,  0.27078229,  0.41835441],\n",
       "       [-0.24017712,  0.49031589, -0.10531756, -0.36821679,  0.01973176],\n",
       "       [ 0.23953607,  0.3081464 , -0.07917465,  0.32220239,  0.47889861]])"
      ]
     },
     "execution_count": 103,
     "metadata": {},
     "output_type": "execute_result"
    }
   ],
   "source": [
    "matrix_generate(3, 5, 'perturbation', 0.5)"
   ]
  },
  {
   "cell_type": "code",
   "execution_count": 104,
   "metadata": {},
   "outputs": [
    {
     "data": {
      "text/plain": [
       "array([[ 62.70864596, -52.75913131, -33.06644013],\n",
       "       [-19.97684516, -15.73826125, -23.48901735],\n",
       "       [ 68.42743714,  15.55775856,  23.89849261],\n",
       "       [ 53.42163729,  65.40030866,  39.26599343],\n",
       "       [-93.33870557,  32.17304358,  37.29585363]])"
      ]
     },
     "execution_count": 104,
     "metadata": {},
     "output_type": "execute_result"
    }
   ],
   "source": [
    "matrix_generate(5, 3, 'perturbation', 100)"
   ]
  },
  {
   "cell_type": "markdown",
   "metadata": {
    "id": "Fjxrb9gRqm-l"
   },
   "source": [
    "* Оценить величину нормы матрицы возмущений в зависимости от параметра $\\varepsilon$ (оценить верхную границу)"
   ]
  },
  {
   "cell_type": "code",
   "execution_count": 118,
   "metadata": {},
   "outputs": [
    {
     "data": {
      "application/vnd.jupyter.widget-view+json": {
       "model_id": "2223e59c8e964d1494016df796b4f651",
       "version_major": 2,
       "version_minor": 0
      },
      "text/plain": [
       "interactive(children=(IntSlider(value=10, description='n', min=1), IntSlider(value=10, description='m', min=1)…"
      ]
     },
     "metadata": {},
     "output_type": "display_data"
    },
    {
     "data": {
      "text/plain": [
       "<function __main__.plot_eps(n, m, k)>"
      ]
     },
     "execution_count": 118,
     "metadata": {},
     "output_type": "execute_result"
    }
   ],
   "source": [
    "import ipywidgets as widgets\n",
    "\n",
    "x = np.linspace(0, 1000, 10000)\n",
    "def count_eps(n, m, eps, k):\n",
    "    return sum(np.linalg.norm(matrix_generate(n, m, 'perturbation', eps)) for _ in range(k)) / k\n",
    "\n",
    "def plot_eps(n, m, k):\n",
    "    y = np.array([count_eps(10, 20, eps, k) for eps in x])\n",
    "    plt.plot(x, y)\n",
    "    a = np.polyfit(x[1:], y[1:] / x[1:], 0)[0]\n",
    "    plt.plot([x[0], x[-1]], [a * x[0], a * x[-1]], label=f'y = {a:0.5} * x')\n",
    "    plt.legend()\n",
    "\n",
    "n = widgets.IntSlider(10, 1, 100)\n",
    "m = widgets.IntSlider(10, 1, 100)\n",
    "k = widgets.IntSlider(10, 1, 1000)\n",
    "widgets.interact(plot_eps, n=n, m=m, k=k)"
   ]
  },
  {
   "cell_type": "markdown",
   "metadata": {
    "id": "Fjxrb9gRqm-l"
   },
   "source": [
    "Оценить численно вероятность того, что созданная матрица будет вырожденной для какого-либо случая выше."
   ]
  },
  {
   "cell_type": "code",
   "execution_count": 333,
   "metadata": {},
   "outputs": [],
   "source": [
    "types = ['full', 'upper_triangular', 'lower_triangular', 'perturbation', 'diagonal', 'symmetric']\n",
    "eps = 1\n",
    "n, m = 3, 1000000\n",
    "\n",
    "probability = []\n",
    "for type_ in types:\n",
    "    count = 0\n",
    "    for _ in range(m):\n",
    "        A = matrix_generate(n, n, type_, eps)\n",
    "        count += np.linalg.det(A) == 0\n",
    "    probability.append(count)"
   ]
  },
  {
   "cell_type": "code",
   "execution_count": 334,
   "metadata": {},
   "outputs": [
    {
     "data": {
      "text/plain": [
       "<BarContainer object of 6 artists>"
      ]
     },
     "execution_count": 334,
     "metadata": {},
     "output_type": "execute_result"
    },
    {
     "data": {
      "image/png": "[encoded data removed]",
      "text/plain": [
       "<Figure size 640x480 with 1 Axes>"
      ]
     },
     "metadata": {},
     "output_type": "display_data"
    }
   ],
   "source": [
    "import matplotlib.pyplot as plt\n",
    "plt.bar(types, probability)"
   ]
  },
  {
   "cell_type": "markdown",
   "metadata": {
    "id": "TKwkoxZopq2t"
   },
   "source": [
    "__Задание 2. Вычисление матричных норм и числа обусловленности.__\n",
    "\n",
    "Реализовать вычисление трех основных норм векторов (L1, L2 и максимальную) и подчиненных им матричных норм. Реализовать вычисление числа обусловленности.\n",
    "\n",
    "Примечание: для вычисления собственных значений можно использовать linalg.eigvals из модуля scipy."
   ]
  },
  {
   "cell_type": "code",
   "execution_count": 221,
   "metadata": {},
   "outputs": [],
   "source": [
    "import numpy as np\n",
    "\n",
    "def norm(x, p=None):\n",
    "    if p is None or p == 0 or p == np.inf:\n",
    "        return np.abs(x).max()\n",
    "    return (np.abs(x) ** p).sum() ** (1 / p)\n",
    "\n",
    "def mat_norm(a, p=None):\n",
    "    if p is None or p == 0 or p == np.inf:\n",
    "        return a.sum(axis=1).max()\n",
    "    elif p == 1:\n",
    "        return a.sum(axis=0).max()\n",
    "    elif p == 2:\n",
    "        return np.sqrt(np.linalg.eig(a.T @ a).eigenvalues.max())\n",
    "    else:\n",
    "        return f'unimplemented norm ||a||{p}'"
   ]
  },
  {
   "cell_type": "code",
   "execution_count": 200,
   "metadata": {},
   "outputs": [
    {
     "data": {
      "text/plain": [
       "array([0.67652058, 0.06223309, 0.6493091 , 0.42352444, 0.88822324,\n",
       "       0.73227376, 0.93711239, 0.71021214, 0.94758934, 0.29626686])"
      ]
     },
     "execution_count": 200,
     "metadata": {},
     "output_type": "execute_result"
    }
   ],
   "source": [
    "x = np.random.rand(10)\n",
    "x"
   ]
  },
  {
   "cell_type": "code",
   "execution_count": 201,
   "metadata": {},
   "outputs": [
    {
     "data": {
      "text/plain": [
       "(0.9475893413795631, 0.9475893413795631)"
      ]
     },
     "execution_count": 201,
     "metadata": {},
     "output_type": "execute_result"
    }
   ],
   "source": [
    "np.linalg.norm(x, np.inf), norm(x)"
   ]
  },
  {
   "cell_type": "code",
   "execution_count": 202,
   "metadata": {},
   "outputs": [
    {
     "data": {
      "text/plain": [
       "(6.323264940484268, 6.323264940484268)"
      ]
     },
     "execution_count": 202,
     "metadata": {},
     "output_type": "execute_result"
    }
   ],
   "source": [
    "np.linalg.norm(x, 1), norm(x, 1)"
   ]
  },
  {
   "cell_type": "code",
   "execution_count": 204,
   "metadata": {},
   "outputs": [
    {
     "data": {
      "text/plain": [
       "(2.1808196224370358, 2.1808196224370358)"
      ]
     },
     "execution_count": 204,
     "metadata": {},
     "output_type": "execute_result"
    }
   ],
   "source": [
    "np.linalg.norm(x, 2), norm(x, 2)"
   ]
  },
  {
   "cell_type": "code",
   "execution_count": 229,
   "metadata": {},
   "outputs": [
    {
     "data": {
      "text/plain": [
       "array([[0.39498628, 0.48666679, 0.77998377, 0.09316981, 0.40042222],\n",
       "       [0.53011419, 0.95034417, 0.01737259, 0.01821319, 0.80532362],\n",
       "       [0.18176669, 0.46154311, 0.86718385, 0.51873659, 0.78877746]])"
      ]
     },
     "execution_count": 229,
     "metadata": {},
     "output_type": "execute_result"
    }
   ],
   "source": [
    "a = np.random.rand(3, 5)\n",
    "a"
   ]
  },
  {
   "cell_type": "code",
   "execution_count": 231,
   "metadata": {},
   "outputs": [
    {
     "data": {
      "text/plain": [
       "(2.818007702049431, 2.818007702049431)"
      ]
     },
     "execution_count": 231,
     "metadata": {},
     "output_type": "execute_result"
    }
   ],
   "source": [
    "np.linalg.norm(a, np.inf), mat_norm(a)"
   ]
  },
  {
   "cell_type": "code",
   "execution_count": 233,
   "metadata": {},
   "outputs": [
    {
     "data": {
      "text/plain": [
       "(1.9945233044587862, 1.9945233044587862)"
      ]
     },
     "execution_count": 233,
     "metadata": {},
     "output_type": "execute_result"
    }
   ],
   "source": [
    "np.linalg.norm(a, 1), mat_norm(a, 1)"
   ]
  },
  {
   "cell_type": "code",
   "execution_count": 235,
   "metadata": {},
   "outputs": [
    {
     "data": {
      "text/plain": [
       "(2.0068711728329927, 2.0068711728329918)"
      ]
     },
     "execution_count": 235,
     "metadata": {},
     "output_type": "execute_result"
    }
   ],
   "source": [
    "np.linalg.norm(a, 2), mat_norm(a, 2)"
   ]
  },
  {
   "cell_type": "markdown",
   "metadata": {
    "id": "hQXJf36Lpq2t"
   },
   "source": [
    "__Задание 3. Эквивалентность первых двух норм.__\n",
    "\n",
    "Найдите константы $C_1$  и  $C_2$ такие, что\n",
    "\n",
    "$\\ C_1||\\mathbf{x}||_2\\leq||\\mathbf{x}||_1\\leq C_2||\\mathbf{x}||_2$\n",
    "\n",
    "\n",
    "Указание: в качестве подсказки можно использовать визуализацию норм из документа с теорией."
   ]
  },
  {
   "cell_type": "markdown",
   "metadata": {},
   "source": [
    "$ x^2 + y^2 \\le (x + y)^2 = x^2 + y^2 + 2xy \\le x^2 + y^2 + x^2 + y^2 = 2 * (x^2 + y^2) $"
   ]
  },
  {
   "cell_type": "markdown",
   "metadata": {},
   "source": [
    "$\\displaystyle \\sum_{i = 1}^m x_i^2 \\le {\\Bigl(\\displaystyle \\sum_{i = 1}^m |x_i|\\Bigr)}^2 \\le n \\displaystyle \\sum_{i = 1}^m x_i^2 $"
   ]
  },
  {
   "cell_type": "markdown",
   "metadata": {},
   "source": [
    "$ \\|x\\|_2 = \\sqrt{\\displaystyle \\sum_{i = 1}^m x_i^2} \\le \\displaystyle \\sum_{i = 1}^m |x_i| = \\|x\\|_1  \\le \\sqrt n \\sqrt{\\displaystyle \\sum_{i = 1}^m x_i^2}$"
   ]
  },
  {
   "cell_type": "markdown",
   "metadata": {},
   "source": [
    "$ \\|x\\|_2 \\le \\|x\\|_1 \\le \\sqrt n \\|x\\|_2$"
   ]
  },
  {
   "cell_type": "markdown",
   "metadata": {
    "id": "Ui5I6lIOpq2t"
   },
   "source": [
    "__Задание 4. Евклидова и бесконечная норма.__\n",
    "\n",
    " Пусть x — вектор размерности m, а A — матрица m×n. Докажите следующие неравенства и приведите\n",
    "примеры таких x и A, при которых неравенства обращаются в равенства:\n",
    "\n",
    "- $\\|x\\|_2 \\leq \\sqrt{m} \\cdot \\|x\\|_{\\infty}$"
   ]
  },
  {
   "cell_type": "markdown",
   "metadata": {},
   "source": [
    "$\\|x\\|_2 = \\sqrt{\\displaystyle \\sum_{i = 1}^m x_i^2} \\le \\sqrt{\\displaystyle \\sum_{i = 1}^m \\max_i x_i^2} = \\displaystyle \\max_i |x_i| = \\|x\\|_\\infty $"
   ]
  },
  {
   "cell_type": "markdown",
   "metadata": {},
   "source": [
    "$ \\mathbf{x}_{crit} = diag(1, 0, ..., 0)^T $"
   ]
  },
  {
   "cell_type": "markdown",
   "metadata": {
    "id": "Ui5I6lIOpq2t"
   },
   "source": [
    "- $\\|A\\|_{\\infty} \\leq \\sqrt{n} \\cdot \\|A\\|_2$"
   ]
  },
  {
   "cell_type": "markdown",
   "metadata": {},
   "source": [
    "$\\|A\\|_\\infty^2 = \\Bigl(\\displaystyle \\max_i \\sum_{j=1}^n |a_{ij}^2|\\Bigr)^2 \\le \\displaystyle \\sum_{ij} |a_{ij}|^2 = \\|A\\|_F^2 = \\displaystyle \\sum_i \\sigma_i^2 \\le n \\max_i \\sigma_i^2 \\le n \\|A\\|_2^2 $"
   ]
  },
  {
   "cell_type": "markdown",
   "metadata": {
    "id": "NWN_hVXWpq2t"
   },
   "source": [
    "__Задание 5.  Норма Фробениуса.__\n",
    "\n",
    "Докажите, что для любой унитарной матрицы U (и для произвольной матрицы A) имеет место равенство\n",
    "\n",
    " $\\| U A \\|_F = \\| AU \\|_F = \\| A \\|_F$ ,\n",
    "\n",
    " где $\\| \\cdot \\|_F$ — норма Фробениуса.\n",
    "\n",
    "Указание.  \n",
    "Задачу можно решить без вычислений, если использовать геометрический смысл нормы Фробениуса и геометрические свойства умножения на унитарную матрицу (что при умножении на неё сохраняется)."
   ]
  },
  {
   "cell_type": "markdown",
   "metadata": {},
   "source": [
    "$\\|UA\\|_F=\\|UuSV^+\\|_F=\\|(Uu)SV^+\\|_F=\\|U_1 L V^+\\|_F=\\sqrt{\\displaystyle\\sum_{i} \\sigma_i}=\\|A\\|_F$"
   ]
  },
  {
   "cell_type": "markdown",
   "metadata": {},
   "source": [
    "$\\|AU\\|_F=\\|uSV^+U\\|_F=\\|uS(V^+U)\\|_F=\\|u L (U^+V)^+\\|_F=\\|uLV_1^+\\|_F=\\sqrt{\\displaystyle\\sum_{i} \\sigma_i}=\\|A\\|_F$"
   ]
  },
  {
   "cell_type": "markdown",
   "metadata": {
    "id": "0TOFGN0upq2t"
   },
   "source": [
    "__Задание 6*.  Тензорная свёртка.__\n",
    "\n",
    "Рассмотрим функцию, отображающую шесть тензоров на один тензор: $Z\\left(\\lambda^{(1)}, \\lambda^{(2)}, \\lambda^{(3)}, \\Gamma^{(1)}, \\Gamma^{(2)}, U\\right)$ :\n",
    "\n",
    "\n",
    "$$\n",
    "Z_{a h i j}=\\sum_{b c d e f g} \\lambda^{(1)}{ }_{a b} \\Gamma_{c b d}^{(1)} \\lambda^{(2)}{ }_{d e} \\Gamma_{f e g}^{(2)} \\lambda_{g h}^{(3)} U_{i j c f}\n",
    "$$\n",
    "\n",
    "редположив, что все индексы пробегают значения от 1 до χ, проведите эксперимент и сравните скорость\n",
    "различных реализаций функции Z. Исследуйте значения χ в диапазоне 3–50.\n",
    "\n",
    "\n",
    "- В файле convolution.ipynb вы можете найти релизацию глупого способа вычисления этой свертки, который требует $\\chi^4 \\times \\chi^6=\\chi^{10}$ операций. На самом деле это можно вычислить гораздо быстрее!\n",
    "- С помощью функции numpy.einsum (нужно использовать аргумент optimize), можно добиться намного большей производительности. Чтобы понять, что происходит под капотом, воспользуйтесь функцией numpy.einsum_path. Какое минимальное количество операций требуется для вычисления $Z$ ?\n",
    "- Посмотрев на вывод функции numpy.einsum_path, peализуйте алгоритм для вычисления $Z$, который столь же эффективен, как numpy.einsum, но использует более элементарные numpy.dot и numpy.tensor_dot.\n"
   ]
  },
  {
   "cell_type": "code",
   "execution_count": 237,
   "metadata": {},
   "outputs": [],
   "source": [
    "import numpy as np\n",
    "import itertools"
   ]
  },
  {
   "cell_type": "code",
   "execution_count": 238,
   "metadata": {},
   "outputs": [],
   "source": [
    "def Z_naive(lambda1, lambda2, lambda3, G1, G2, U):\n",
    "    c = lambda1.shape[0]\n",
    "    Z = np.zeros(shape=(c, c, c, c))\n",
    "    for a, b, c, d, e, f, g, h, i, j in itertools.product(*([range(c)]*10)):\n",
    "        Z[a, h, i, j] += lambda1[a, b]*lambda2[d, e]*lambda3[g, h]*G1[c, b, d]*G2[f, e, g]*U[i, j, c, f]\n",
    "    return Z"
   ]
  },
  {
   "cell_type": "code",
   "execution_count": 239,
   "metadata": {},
   "outputs": [],
   "source": [
    "# Generate some data\n",
    "c = 3\n",
    "np.random.seed(42)\n",
    "lambda1 = np.random.normal(size=(c, c))\n",
    "lambda2 = np.random.normal(size=(c, c))\n",
    "lambda3 = np.random.normal(size=(c, c))\n",
    "G1 = np.random.normal(size=(c, c, c))\n",
    "G2 = np.random.normal(size=(c, c, c))\n",
    "U = np.random.normal(size=(c, c, c, c))"
   ]
  },
  {
   "cell_type": "code",
   "execution_count": 269,
   "metadata": {},
   "outputs": [
    {
     "name": "stdout",
     "output_type": "stream",
     "text": [
      "194 ms ± 3.54 ms per loop (mean ± std. dev. of 7 runs, 10 loops each)\n"
     ]
    }
   ],
   "source": [
    "%%timeit\n",
    "Z_n = Z_naive(lambda1, lambda2, lambda3, G1, G2, U)"
   ]
  },
  {
   "cell_type": "code",
   "execution_count": 287,
   "metadata": {},
   "outputs": [
    {
     "name": "stdout",
     "output_type": "stream",
     "text": [
      "5.74 ms ± 222 µs per loop (mean ± std. dev. of 7 runs, 100 loops each)\n"
     ]
    }
   ],
   "source": [
    "%%timeit\n",
    "Z_np = np.einsum('ab,cbd,de,feg,gh,ijcf', lambda1, G1, lambda2, G2, lambda3, U)"
   ]
  },
  {
   "cell_type": "code",
   "execution_count": 288,
   "metadata": {},
   "outputs": [
    {
     "name": "stdout",
     "output_type": "stream",
     "text": [
      "770 µs ± 32.4 µs per loop (mean ± std. dev. of 7 runs, 1,000 loops each)\n"
     ]
    }
   ],
   "source": [
    "%%timeit\n",
    "Z_npo = np.einsum('ab,cbd,de,feg,gh,ijcf', lambda1, G1, lambda2, G2, lambda3, U, optimize=True)"
   ]
  },
  {
   "cell_type": "code",
   "execution_count": 289,
   "metadata": {},
   "outputs": [
    {
     "name": "stdout",
     "output_type": "stream",
     "text": [
      "['einsum_path', (0, 1), (0, 1), (0, 3), (1, 2), (0, 1)]\n",
      "  Complete contraction:  ab,cbd,de,feg,gh,ijcf->ahij\n",
      "         Naive scaling:  10\n",
      "     Optimized scaling:  6\n",
      "      Naive FLOP count:  3.543e+05\n",
      "  Optimized FLOP count:  2.431e+03\n",
      "   Theoretical speedup:  145.740\n",
      "  Largest intermediate:  8.100e+01 elements\n",
      "--------------------------------------------------------------------------\n",
      "scaling                  current                                remaining\n",
      "--------------------------------------------------------------------------\n",
      "   4                 cbd,ab->acd                 de,feg,gh,ijcf,acd->ahij\n",
      "   4                 feg,de->dfg                    gh,ijcf,acd,dfg->ahij\n",
      "   4                 dfg,gh->dfh                       ijcf,acd,dfh->ahij\n",
      "   5               dfh,acd->acfh                          ijcf,acfh->ahij\n",
      "   6             acfh,ijcf->ahij                               ahij->ahij\n"
     ]
    }
   ],
   "source": [
    "path = np.einsum_path('ab,cbd,de,feg,gh,ijcf', lambda1, G1, lambda2, G2, lambda3, U, optimize=True)\n",
    "print(path[0])\n",
    "print(path[1])"
   ]
  },
  {
   "cell_type": "code",
   "execution_count": 302,
   "metadata": {},
   "outputs": [],
   "source": [
    "def Z_my(l1, l2, l3, g1, g2, u):\n",
    "    l1g1 = np.tensordot(l1, g1, (1, 1))\n",
    "    l2g2 = np.tensordot(l2, g2, (1, 1))\n",
    "    l2g2l3 = np.tensordot(l2g2, l3, (2, 0))\n",
    "    l1g1l2g2l3 = np.tensordot(l1g1, l2g2l3, (2, 0))\n",
    "    l1g1l2g2l3u = np.tensordot(l1g1l2g2l3, u, ((1, 2), (2, 3)))\n",
    "    return l1g1l2g2l3u"
   ]
  },
  {
   "cell_type": "code",
   "execution_count": null,
   "metadata": {},
   "outputs": [],
   "source": [
    "(np.abs(Z_naive(lambda1, lambda2, lambda3, G1, G2, U) - Z_my(lambda1, lambda2, lambda3, G1, G2, U)) < 1e-12).all()"
   ]
  },
  {
   "cell_type": "code",
   "execution_count": 296,
   "metadata": {},
   "outputs": [
    {
     "name": "stdout",
     "output_type": "stream",
     "text": [
      "179 µs ± 5.13 µs per loop (mean ± std. dev. of 7 runs, 10,000 loops each)\n"
     ]
    }
   ],
   "source": [
    "%%timeit\n",
    "Z_m = Z_my(lambda1, lambda2, lambda3, G1, G2, U)"
   ]
  },
  {
   "cell_type": "code",
   "execution_count": 329,
   "metadata": {},
   "outputs": [
    {
     "name": "stdout",
     "output_type": "stream",
     "text": [
      "3\n",
      "4\n",
      "5\n",
      "6\n"
     ]
    }
   ],
   "source": [
    "from timeit import timeit\n",
    "import numpy as np\n",
    "\n",
    "def generate_tensors(c):\n",
    "    l1 = np.random.normal(size=(c, c))\n",
    "    l2 = np.random.normal(size=(c, c))\n",
    "    l3 = np.random.normal(size=(c, c))\n",
    "    g1 = np.random.normal(size=(c, c, c))\n",
    "    g2 = np.random.normal(size=(c, c, c))\n",
    "    u = np.random.normal(size=(c, c, c, c))\n",
    "    return l1, l2, l3, g1, g2, u\n",
    "\n",
    "Z_np  = lambda l1, l2, l3, g1, g2, u: np.einsum('ab,cbd,de,feg,gh,ijcf', l1, g1, l2, g2, l3, u)\n",
    "Z_npo = lambda l1, l2, l3, g1, g2, u: np.einsum('ab,cbd,de,feg,gh,ijcf', l1, g1, l2, g2, l3, u, optimize=True)\n",
    "\n",
    "x = np.arange(3, 7)\n",
    "naive = []\n",
    "my = []\n",
    "einsum = []\n",
    "optimize = []\n",
    "\n",
    "for s in x:\n",
    "    print(s)\n",
    "    tensors = generate_tensors(s)\n",
    "    naive   .append(timeit(lambda: Z_naive(*tensors), number=1))\n",
    "    my      .append(timeit(lambda: Z_my   (*tensors), number=1))\n",
    "    einsum  .append(timeit(lambda: Z_np   (*tensors), number=1))\n",
    "    optimize.append(timeit(lambda: Z_npo  (*tensors), number=1))"
   ]
  },
  {
   "cell_type": "code",
   "execution_count": 332,
   "metadata": {},
   "outputs": [
    {
     "data": {
      "text/plain": [
       "<matplotlib.legend.Legend at 0x1af057baf10>"
      ]
     },
     "execution_count": 332,
     "metadata": {},
     "output_type": "execute_result"
    },
    {
     "data": {
      "image/png": "[encoded data removed]",
      "text/plain": [
       "<Figure size 640x480 with 1 Axes>"
      ]
     },
     "metadata": {},
     "output_type": "display_data"
    }
   ],
   "source": [
    "import matplotlib.pyplot as plt\n",
    "plt.plot(x, naive, label='naive')\n",
    "plt.plot(x, my, label='my')\n",
    "plt.plot(x, einsum, label='einsum')\n",
    "plt.plot(x, optimize, label='einsum optimized')\n",
    "plt.yscale('log')\n",
    "plt.legend()"
   ]
  },
  {
   "cell_type": "code",
   "execution_count": null,
   "metadata": {},
   "outputs": [],
   "source": []
  }
 ],
 "metadata": {
  "anaconda-cloud": {},
  "celltoolbar": "Слайд-шоу",
  "colab": {
   "provenance": []
  },
  "kernelspec": {
   "display_name": "Python 3 (ipykernel)",
   "language": "python",
   "name": "python3"
  },
  "language_info": {
   "codemirror_mode": {
    "name": "ipython",
    "version": 3
   },
   "file_extension": ".py",
   "mimetype": "text/x-python",
   "name": "python",
   "nbconvert_exporter": "python",
   "pygments_lexer": "ipython3",
   "version": "3.11.1"
  },
  "livereveal": {
   "scroll": true,
   "theme": "simple",
   "transition": "convex"
  },
  "nbpresent": {
   "slides": {
    "1ffee25c-251f-4cbf-af3d-a1d5521081b9": {
     "id": "1ffee25c-251f-4cbf-af3d-a1d5521081b9",
     "prev": "eb43fa9f-eb7c-417b-ab1a-99371ff452e2",
     "regions": {
      "2e1a7b46-c253-4096-a0a5-dfbc6cfb086e": {
       "attrs": {
        "height": 0.8,
        "width": 0.8,
        "x": 0.1,
        "y": 0.1
       },
       "content": {
        "cell": "bf40e897-f1f8-4e69-b826-fe53fb761aad",
        "part": "whole"
       },
       "id": "2e1a7b46-c253-4096-a0a5-dfbc6cfb086e"
      }
     }
    },
    "37c43f64-6426-4a98-8de1-a6ca1dd72190": {
     "id": "37c43f64-6426-4a98-8de1-a6ca1dd72190",
     "prev": "d2b700ea-e44e-4bed-9ce4-ddf1532b44cb",
     "regions": {
      "45a20e24-b33f-4c55-8df2-e96075b5e2af": {
       "attrs": {
        "height": 0.8,
        "width": 0.8,
        "x": 0.1,
        "y": 0.1
       },
       "content": {
        "cell": "e730e690-97c9-4acd-bf81-4c5ab0bbd48e",
        "part": "whole"
       },
       "id": "45a20e24-b33f-4c55-8df2-e96075b5e2af"
      }
     }
    },
    "5bf0841a-23d1-413e-a557-911111e3e336": {
     "id": "5bf0841a-23d1-413e-a557-911111e3e336",
     "prev": "ebd3a807-2380-4bd6-8e58-c9424f3ed713",
     "regions": {
      "3c8adac9-5366-49e9-96ab-965c77e83485": {
       "attrs": {
        "height": 0.8,
        "width": 0.8,
        "x": 0.1,
        "y": 0.1
       },
       "content": {
        "cell": "2e08a439-2699-4ecf-9189-dfbbf745ad4e",
        "part": "whole"
       },
       "id": "3c8adac9-5366-49e9-96ab-965c77e83485"
      }
     }
    },
    "60ffd9bc-f20d-41e5-8771-5f11695177c6": {
     "id": "60ffd9bc-f20d-41e5-8771-5f11695177c6",
     "prev": "97575fe4-de27-4833-b616-7479f99519d0",
     "regions": {
      "807a955a-60c8-4f03-8734-54dfd52113d6": {
       "attrs": {
        "height": 0.8,
        "width": 0.8,
        "x": 0.1,
        "y": 0.1
       },
       "content": {
        "cell": "795c8121-f820-4edc-aeba-fc399b38f4b2",
        "part": "whole"
       },
       "id": "807a955a-60c8-4f03-8734-54dfd52113d6"
      }
     }
    },
    "623d8bc9-43df-451f-b862-76c2b54708ea": {
     "id": "623d8bc9-43df-451f-b862-76c2b54708ea",
     "prev": "eded54a5-7710-4ab6-8229-3ca4029d1ae7",
     "regions": {
      "42b1d4d4-2905-454b-b564-92f58dec8f81": {
       "attrs": {
        "height": 0.8,
        "width": 0.8,
        "x": 0.1,
        "y": 0.1
       },
       "content": {
        "cell": "16fd05b0-8ac8-4da2-8980-54d0d253d110",
        "part": "whole"
       },
       "id": "42b1d4d4-2905-454b-b564-92f58dec8f81"
      }
     }
    },
    "6dabcfe1-1c90-4893-8f01-c39e431f00bb": {
     "id": "6dabcfe1-1c90-4893-8f01-c39e431f00bb",
     "prev": "37c43f64-6426-4a98-8de1-a6ca1dd72190",
     "regions": {
      "1126b4c4-7df3-4db1-962b-abe099db9928": {
       "attrs": {
        "height": 0.8,
        "width": 0.8,
        "x": 0.1,
        "y": 0.1
       },
       "content": {
        "cell": "54519c05-1028-4e5c-a2d2-e21f821e99aa",
        "part": "whole"
       },
       "id": "1126b4c4-7df3-4db1-962b-abe099db9928"
      }
     }
    },
    "91753ba8-05fe-465f-806d-0faf4a21a031": {
     "id": "91753ba8-05fe-465f-806d-0faf4a21a031",
     "prev": "5bf0841a-23d1-413e-a557-911111e3e336",
     "regions": {
      "eb271beb-70d0-452e-b896-43695be4ae85": {
       "attrs": {
        "height": 0.8,
        "width": 0.8,
        "x": 0.1,
        "y": 0.1
       },
       "content": {
        "cell": "31cc3d04-22a5-4773-b4e1-abfb09f8bbc2",
        "part": "whole"
       },
       "id": "eb271beb-70d0-452e-b896-43695be4ae85"
      }
     }
    },
    "97575fe4-de27-4833-b616-7479f99519d0": {
     "id": "97575fe4-de27-4833-b616-7479f99519d0",
     "prev": "b8aebb38-1266-40c2-928a-026f9d33ec5c",
     "regions": {
      "01deb5d1-73e8-4d64-b93e-e7646647af3b": {
       "attrs": {
        "height": 0.8,
        "width": 0.8,
        "x": 0.1,
        "y": 0.1
       },
       "content": {
        "cell": "7f2bdffe-4f2a-446b-8805-d4fd262fced1",
        "part": "whole"
       },
       "id": "01deb5d1-73e8-4d64-b93e-e7646647af3b"
      }
     }
    },
    "9cc88d72-9ac9-4c24-96d5-abc94cea6e92": {
     "id": "9cc88d72-9ac9-4c24-96d5-abc94cea6e92",
     "prev": "1ffee25c-251f-4cbf-af3d-a1d5521081b9",
     "regions": {
      "78febecd-5100-493b-8f0d-0cc35ceae42e": {
       "attrs": {
        "height": 0.8,
        "width": 0.8,
        "x": 0.1,
        "y": 0.1
       },
       "content": {
        "cell": "bef00443-818c-4614-aa63-8a2e117462ec",
        "part": "whole"
       },
       "id": "78febecd-5100-493b-8f0d-0cc35ceae42e"
      }
     }
    },
    "a5df524d-67a8-4ae1-8258-9231728bdd14": {
     "id": "a5df524d-67a8-4ae1-8258-9231728bdd14",
     "prev": "623d8bc9-43df-451f-b862-76c2b54708ea",
     "regions": {
      "68e876ca-f943-4b2e-8268-439db992b310": {
       "attrs": {
        "height": 0.8,
        "width": 0.8,
        "x": 0.1,
        "y": 0.1
       },
       "content": {
        "cell": "40af6766-3ae3-4acc-8417-439eb8968553",
        "part": "whole"
       },
       "id": "68e876ca-f943-4b2e-8268-439db992b310"
      }
     }
    },
    "b62355d8-8b93-4dfc-8016-6548952c0f8c": {
     "id": "b62355d8-8b93-4dfc-8016-6548952c0f8c",
     "prev": "f59840cf-124e-4d10-8b89-3aafe98f38ba",
     "regions": {
      "381cc6bd-bde3-4d58-8277-99fbd69c7a4f": {
       "attrs": {
        "height": 0.8,
        "width": 0.8,
        "x": 0.1,
        "y": 0.1
       },
       "content": {
        "cell": "b92c1827-c799-44b9-b770-f45e95c917da",
        "part": "whole"
       },
       "id": "381cc6bd-bde3-4d58-8277-99fbd69c7a4f"
      }
     }
    },
    "b8aebb38-1266-40c2-928a-026f9d33ec5c": {
     "id": "b8aebb38-1266-40c2-928a-026f9d33ec5c",
     "prev": "9cc88d72-9ac9-4c24-96d5-abc94cea6e92",
     "regions": {
      "1bc2d24e-0782-443b-83a4-bc683c5ac6cb": {
       "attrs": {
        "height": 0.8,
        "width": 0.8,
        "x": 0.1,
        "y": 0.1
       },
       "content": {
        "cell": "cbb3d96a-fdd6-436e-86b6-1be446b43e84",
        "part": "whole"
       },
       "id": "1bc2d24e-0782-443b-83a4-bc683c5ac6cb"
      }
     }
    },
    "d2b700ea-e44e-4bed-9ce4-ddf1532b44cb": {
     "id": "d2b700ea-e44e-4bed-9ce4-ddf1532b44cb",
     "prev": "a5df524d-67a8-4ae1-8258-9231728bdd14",
     "regions": {
      "474bc80d-f262-4e62-afae-4565c0979e03": {
       "attrs": {
        "height": 0.8,
        "width": 0.8,
        "x": 0.1,
        "y": 0.1
       },
       "content": {
        "cell": "a67001a3-e51e-4a22-bdcd-249cde5581c1",
        "part": "whole"
       },
       "id": "474bc80d-f262-4e62-afae-4565c0979e03"
      }
     }
    },
    "d989978f-1d85-4802-953f-0e82f1a0fd51": {
     "id": "d989978f-1d85-4802-953f-0e82f1a0fd51",
     "prev": null,
     "regions": {
      "e3ddb97a-209b-4c70-91d7-df0cadcefb0d": {
       "attrs": {
        "height": 0.8,
        "width": 0.8,
        "x": 0.1,
        "y": 0.1
       },
       "content": {
        "cell": "13101ac1-2637-4d0f-9f1f-cd32215b02c3",
        "part": "whole"
       },
       "id": "e3ddb97a-209b-4c70-91d7-df0cadcefb0d"
      }
     }
    },
    "eb43fa9f-eb7c-417b-ab1a-99371ff452e2": {
     "id": "eb43fa9f-eb7c-417b-ab1a-99371ff452e2",
     "prev": "b62355d8-8b93-4dfc-8016-6548952c0f8c",
     "regions": {
      "b9415d21-f857-4a93-a788-c7dc51dedea0": {
       "attrs": {
        "height": 0.8,
        "width": 0.8,
        "x": 0.1,
        "y": 0.1
       },
       "content": {
        "cell": "e29b9590-fc86-46fd-83be-3ff48c7a8df4",
        "part": "whole"
       },
       "id": "b9415d21-f857-4a93-a788-c7dc51dedea0"
      }
     }
    },
    "ebd3a807-2380-4bd6-8e58-c9424f3ed713": {
     "id": "ebd3a807-2380-4bd6-8e58-c9424f3ed713",
     "prev": "f3fb61c6-f807-4942-8c41-0e80240a5146",
     "regions": {
      "7eaeb4e2-d47e-43e4-92c4-ed8cc1e9aac7": {
       "attrs": {
        "height": 0.8,
        "width": 0.8,
        "x": 0.1,
        "y": 0.1
       },
       "content": {
        "cell": "412353c7-42b2-42c7-8702-69568c809a97",
        "part": "whole"
       },
       "id": "7eaeb4e2-d47e-43e4-92c4-ed8cc1e9aac7"
      }
     }
    },
    "eded54a5-7710-4ab6-8229-3ca4029d1ae7": {
     "id": "eded54a5-7710-4ab6-8229-3ca4029d1ae7",
     "prev": "91753ba8-05fe-465f-806d-0faf4a21a031",
     "regions": {
      "816c3f73-4147-4cdb-b7d1-f5f82fa6003b": {
       "attrs": {
        "height": 0.8,
        "width": 0.8,
        "x": 0.1,
        "y": 0.1
       },
       "content": {
        "cell": "fa2d4b89-0d7a-41f1-8635-c5905d106cf3",
        "part": "whole"
       },
       "id": "816c3f73-4147-4cdb-b7d1-f5f82fa6003b"
      }
     }
    },
    "f3fb61c6-f807-4942-8c41-0e80240a5146": {
     "id": "f3fb61c6-f807-4942-8c41-0e80240a5146",
     "prev": "d989978f-1d85-4802-953f-0e82f1a0fd51",
     "regions": {
      "4f7abbfb-161b-44ce-bdab-05ef0b2a5542": {
       "attrs": {
        "height": 0.8,
        "width": 0.8,
        "x": 0.1,
        "y": 0.1
       },
       "content": {
        "cell": "8ce7bf3f-66e0-4462-a540-e87bceeadb7f",
        "part": "whole"
       },
       "id": "4f7abbfb-161b-44ce-bdab-05ef0b2a5542"
      }
     }
    },
    "f59840cf-124e-4d10-8b89-3aafe98f38ba": {
     "id": "f59840cf-124e-4d10-8b89-3aafe98f38ba",
     "prev": "6dabcfe1-1c90-4893-8f01-c39e431f00bb",
     "regions": {
      "e67fa4b9-f237-40ff-8621-fcdbfdd83101": {
       "attrs": {
        "height": 0.8,
        "width": 0.8,
        "x": 0.1,
        "y": 0.1
       },
       "content": {
        "cell": "4ae9a30c-81bc-4396-90d8-939a8e59f287",
        "part": "whole"
       },
       "id": "e67fa4b9-f237-40ff-8621-fcdbfdd83101"
      }
     }
    }
   },
   "themes": {
    "default": "c04eebe0-c348-41e9-bcfb-a65d4bd126df",
    "theme": {
     "c04eebe0-c348-41e9-bcfb-a65d4bd126df": {
      "id": "c04eebe0-c348-41e9-bcfb-a65d4bd126df",
      "palette": {
       "19cc588f-0593-49c9-9f4b-e4d7cc113b1c": {
        "id": "19cc588f-0593-49c9-9f4b-e4d7cc113b1c",
        "rgb": [
         252,
         252,
         252
        ]
       },
       "31af15d2-7e15-44c5-ab5e-e04b16a89eff": {
        "id": "31af15d2-7e15-44c5-ab5e-e04b16a89eff",
        "rgb": [
         68,
         68,
         68
        ]
       },
       "50f92c45-a630-455b-aec3-788680ec7410": {
        "id": "50f92c45-a630-455b-aec3-788680ec7410",
        "rgb": [
         155,
         177,
         192
        ]
       },
       "c5cc3653-2ee1-402a-aba2-7caae1da4f6c": {
        "id": "c5cc3653-2ee1-402a-aba2-7caae1da4f6c",
        "rgb": [
         43,
         126,
         184
        ]
       },
       "efa7f048-9acb-414c-8b04-a26811511a21": {
        "id": "efa7f048-9acb-414c-8b04-a26811511a21",
        "rgb": [
         25.118061674008803,
         73.60176211453744,
         107.4819383259912
        ]
       }
      },
      "rules": {
       "blockquote": {
        "color": "50f92c45-a630-455b-aec3-788680ec7410"
       },
       "code": {
        "font-family": "Anonymous Pro"
       },
       "h1": {
        "color": "c5cc3653-2ee1-402a-aba2-7caae1da4f6c",
        "font-family": "Lato",
        "font-size": 8
       },
       "h2": {
        "color": "c5cc3653-2ee1-402a-aba2-7caae1da4f6c",
        "font-family": "Lato",
        "font-size": 6
       },
       "h3": {
        "color": "50f92c45-a630-455b-aec3-788680ec7410",
        "font-family": "Lato",
        "font-size": 5.5
       },
       "h4": {
        "color": "c5cc3653-2ee1-402a-aba2-7caae1da4f6c",
        "font-family": "Lato",
        "font-size": 5
       },
       "h5": {
        "font-family": "Lato"
       },
       "h6": {
        "font-family": "Lato"
       },
       "h7": {
        "font-family": "Lato"
       },
       "pre": {
        "font-family": "Anonymous Pro",
        "font-size": 4
       }
      },
      "text-base": {
       "font-family": "Merriweather",
       "font-size": 4
      }
     },
     "f0b95bb9-67a7-4d14-bf09-657a5b556dbe": {
      "id": "f0b95bb9-67a7-4d14-bf09-657a5b556dbe",
      "palette": {
       "19cc588f-0593-49c9-9f4b-e4d7cc113b1c": {
        "id": "19cc588f-0593-49c9-9f4b-e4d7cc113b1c",
        "rgb": [
         252,
         252,
         252
        ]
       },
       "31af15d2-7e15-44c5-ab5e-e04b16a89eff": {
        "id": "31af15d2-7e15-44c5-ab5e-e04b16a89eff",
        "rgb": [
         68,
         68,
         68
        ]
       },
       "50f92c45-a630-455b-aec3-788680ec7410": {
        "id": "50f92c45-a630-455b-aec3-788680ec7410",
        "rgb": [
         155,
         177,
         192
        ]
       },
       "c5cc3653-2ee1-402a-aba2-7caae1da4f6c": {
        "id": "c5cc3653-2ee1-402a-aba2-7caae1da4f6c",
        "rgb": [
         43,
         126,
         184
        ]
       },
       "efa7f048-9acb-414c-8b04-a26811511a21": {
        "id": "efa7f048-9acb-414c-8b04-a26811511a21",
        "rgb": [
         25.118061674008803,
         73.60176211453744,
         107.4819383259912
        ]
       }
      },
      "rules": {
       "blockquote": {
        "color": "50f92c45-a630-455b-aec3-788680ec7410"
       },
       "code": {
        "font-family": "Anonymous Pro"
       },
       "h1": {
        "color": "c5cc3653-2ee1-402a-aba2-7caae1da4f6c",
        "font-family": "Lato",
        "font-size": 8
       },
       "h2": {
        "color": "c5cc3653-2ee1-402a-aba2-7caae1da4f6c",
        "font-family": "Lato",
        "font-size": 6
       },
       "h3": {
        "color": "50f92c45-a630-455b-aec3-788680ec7410",
        "font-family": "Lato",
        "font-size": 5.5
       },
       "h4": {
        "color": "c5cc3653-2ee1-402a-aba2-7caae1da4f6c",
        "font-family": "Lato",
        "font-size": 5
       },
       "h5": {
        "font-family": "Lato"
       },
       "h6": {
        "font-family": "Lato"
       },
       "h7": {
        "font-family": "Lato"
       },
       "pre": {
        "font-family": "Anonymous Pro",
        "font-size": 4
       }
      },
      "text-base": {
       "font-family": "Merriweather",
       "font-size": 4
      }
     }
    }
   }
  }
 },
 "nbformat": 4,
 "nbformat_minor": 4
}
