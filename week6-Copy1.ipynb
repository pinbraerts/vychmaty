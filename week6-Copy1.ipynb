{
 "cells": [
  {
   "cell_type": "markdown",
   "metadata": {
    "id": "IEDkuzMVqm-J",
    "slideshow": {
     "slide_type": "slide"
    }
   },
   "source": [
    "# Вычислительная математика\n",
    "## 2.1 Байесовское оценивание. Регуляризация. Численное решение регрессии\n",
    "\n",
    "Содержание семинара:\n",
    "\n",
    "- __Критерии переобучения__\n",
    "- __Регуляризация наивно__\n",
    "    - Ridge (l2)\n",
    "    - Lasso (l1)\n",
    "    - ElasticNet\n",
    "- __Теорема Байеса__\n",
    "    - Уточнение параметров распределений\n",
    "    - Примеры применения\n",
    "- __Регуляризация из теоремы Байеса__\n",
    "- __Градиентный спуск - численный способ минимизации Loss-a. Простейший случай__\n",
    "    - Общий алгоритм\n",
    "    - Стохастический градиентный спуск\n",
    "- __Гиперпараметры и кросс-валидация__\n",
    "     - Grid search\n",
    "     - Random search\n",
    "- __Домашнее задание__"
   ]
  },
  {
   "cell_type": "markdown",
   "metadata": {
    "slideshow": {
     "slide_type": "slide"
    }
   },
   "source": [
    "## Критерии переобучения\n",
    "\n",
    "(Здесь и далее перезапускайте ячейку перед взаимодействием с графиками. Используются одинаковые глобальные переменные)\n",
    "\n",
    "Вспомним основную проблему - переобучение. Характерный пример:"
   ]
  },
  {
   "cell_type": "code",
   "execution_count": 1,
   "metadata": {
    "ExecuteTime": {
     "end_time": "2023-10-10T19:24:36.517051Z",
     "start_time": "2023-10-10T19:24:35.229307Z"
    },
    "slideshow": {
     "slide_type": "fragment"
    }
   },
   "outputs": [
    {
     "data": {
      "application/vnd.jupyter.widget-view+json": {
       "model_id": "fea3d97552a44cdfb135cfffb772638b",
       "version_major": 2,
       "version_minor": 0
      },
      "text/plain": [
       "interactive(children=(IntSlider(value=5, description='degree', max=98, min=1), Output()), _dom_classes=('widge…"
      ]
     },
     "metadata": {},
     "output_type": "display_data"
    },
    {
     "data": {
      "text/plain": [
       "<function __main__.plot_polynomial(degree)>"
      ]
     },
     "execution_count": 1,
     "metadata": {},
     "output_type": "execute_result"
    }
   ],
   "source": [
    "import numpy as np\n",
    "import matplotlib.pyplot as plt\n",
    "from sklearn.model_selection import train_test_split\n",
    "from sklearn.linear_model import LinearRegression\n",
    "from sklearn.preprocessing import PolynomialFeatures\n",
    "from sklearn.metrics import mean_squared_error\n",
    "from ipywidgets import interact, widgets\n",
    "from mpl_toolkits.axes_grid1.inset_locator import inset_axes\n",
    "\n",
    "# Generate random data with some noise\n",
    "np.random.seed(42)\n",
    "x = np.linspace(0, 1, 100)\n",
    "y = np.exp(-0.5*x)*np.sin(5*x) + 0.03*np.random.normal(0, 1, 100)\n",
    "\n",
    "# Split the data into training and test sets\n",
    "x_train, x_test, y_train, y_test = train_test_split(x, y, test_size=0.3, random_state=0)\n",
    "\n",
    "# Define a range of model complexities (degrees of polynomial)\n",
    "degrees = np.arange(1, 100)\n",
    "train_loss = []\n",
    "test_loss = []\n",
    "\n",
    "for degree in degrees:\n",
    "    # Create polynomial features\n",
    "    poly = PolynomialFeatures(degree=degree)\n",
    "    X_train_poly = poly.fit_transform(x_train.reshape(-1, 1))\n",
    "    X_test_poly = poly.transform(x_test.reshape(-1, 1))\n",
    "    \n",
    "    # Fit a linear regression model\n",
    "    model = LinearRegression()\n",
    "    model.fit(X_train_poly, y_train)\n",
    "    \n",
    "    # Calculate training and test loss\n",
    "    train_loss.append(mean_squared_error(y_train, model.predict(X_train_poly)))\n",
    "    test_loss.append(mean_squared_error(y_test, model.predict(X_test_poly)))\n",
    "\n",
    "# Function to plot based on chosen degree\n",
    "def plot_polynomial(degree):\n",
    "\n",
    "    plt.figure(figsize=(12, 5))\n",
    "    \n",
    "    plt.subplot(1, 2, 1)\n",
    "    plt.scatter(x, y, color='blue', label='Original data with noise')\n",
    "    \n",
    "    poly = PolynomialFeatures(degree=degree)\n",
    "    X_poly = poly.fit_transform(x_train.reshape(-1, 1))\n",
    "    model = LinearRegression()\n",
    "    model.fit(X_poly, y_train)\n",
    "    \n",
    "    x_plot = np.linspace(0, 1, 500).reshape(-1, 1)\n",
    "    X_poly_plot = poly.fit_transform(x_plot)\n",
    "    y_pred = model.predict(X_poly_plot)\n",
    "    plt.plot(x_plot, y_pred, label=f'Degree {degree}', lw = 4, color = 'r')\n",
    "\n",
    "    plt.xlabel('X')\n",
    "    plt.ylabel('y')\n",
    "    plt.ylim((-2.5, 3))\n",
    "    plt.legend(loc = 1)\n",
    "\n",
    "    inset_ax = inset_axes(plt.subplot(1, 2, 1), width=\"30%\", height=\"30%\", loc=3)\n",
    "    inset_ax.bar(np.arange(degree+1), np.abs(model.coef_), color = '#32CD32')\n",
    "    inset_ax.set_yscale('log')\n",
    "    inset_ax.set_title('Weights')\n",
    "    inset_ax.tick_params(axis='x', which='both', top=True, direction = 'in', pad = -15)\n",
    "    inset_ax.tick_params(axis='y', which='both', right=True, direction = 'in', pad = -25)\n",
    "\n",
    "    plt.subplot(1, 2, 2)\n",
    "    plt.semilogy(degrees, train_loss, label='Train Loss')\n",
    "    plt.semilogy(degrees, test_loss, label='Test Loss')\n",
    "    plt.scatter(degrees[degree - 1], test_loss[degree - 1], c = 'r',\n",
    "                label='Current Loss', s=75, zorder=3)\n",
    "    plt.xlabel('Model Complexity (Degree)')\n",
    "    plt.ylabel('Mean Squared Error')\n",
    "    plt.legend()\n",
    "\n",
    "\n",
    "    plt.show()\n",
    "\n",
    "# Create the slider\n",
    "interact(plot_polynomial, degree=widgets.IntSlider(min=1, max=98, step=1, value=5))\n"
   ]
  },
  {
   "cell_type": "markdown",
   "metadata": {
    "slideshow": {
     "slide_type": "fragment"
    }
   },
   "source": [
    "Видим характерные признаки переобучения:\n",
    "\n",
    "1. __Потеря предсказательной способности__ на тестовой выборке - а зачем нам такая модель?\n",
    "2. __\"Взрыв\" весов__ - при большой сложности модели $m$ почти все веса становятся примерно одинаковыми и очень большими\n",
    "\n",
    "Возникает идея, что корень проблемы лежит именно в странном поведении весов модели при увеличении её сложности. Действительно, кажется __маловероятным__, что в какой-либо задаче регрессии мы будем получать коэффициенты порядка $10^{12}$ и больше. Значит, логично давать модели __штраф за \"сложность\"__ (величину коэффициентов).\n",
    "\n",
    "На этом и основан метод борьбы с переобучением - __регуляризация__."
   ]
  },
  {
   "cell_type": "markdown",
   "metadata": {
    "slideshow": {
     "slide_type": "slide"
    }
   },
   "source": [
    "## Регуляризация наивно\n",
    "\n",
    "Наивно, эвристически, бороться с переобучением можно удаляя этот симптом больших весов (сложности модели). Иными словами, добавим в функцию ошибок слагаемое, отвечающие штрафу за такие скачки.\n",
    "\n",
    "$$\n",
    "\\mathcal{L} \\rightarrow \\mathcal{L}+R(\\mathbf w)\n",
    "$$\n",
    "\n",
    "Такой штраф должен ограничивать количество признаков (чтобы их не стало больше количества точек в train-е) или рост весов модели $\\mathbf w$ (чтобы функция не могла быстро осциллировать).\n",
    "\n",
    "- __L2-регуляризация__\n",
    "\n",
    "Таким образом, самой простой функцией регуляризации является просто квадрат нормы вектора весов модели $w$, также называемая __L2-регуляризация__ (__ridge__).\n",
    "\n",
    "$$\n",
    "R(\\mathbf w)=\\tau\\|\\mathbf w\\|^2=\\tau \\cdot \\mathbf w^{T} \\mathbf w, \\quad \\tau > 0\n",
    "$$\n",
    "\n",
    "Здесь параметр $\\tau$ отвечает \"силе\" регуляризации. Чем он больше, теми сильнее мы \"штрафуем\" модель за большие признаки.\n",
    "\n",
    "Таким образом, модифицированный MSE, например, будет выглядеть как\n",
    "\n",
    "$$\n",
    "\\mathcal{L}=\\frac{1}{N}\\|X w-Y\\|^2+\\tau\\|w\\|^2\n",
    "$$\n",
    "\n",
    "Отметим, что в данном случае мы опять можем решить задачу аналитически, т.к. выбранная функция регуляризации дифференциируема.\n",
    "\n",
    "$$\n",
    "\\frac{\\partial \\mathcal{L}}{\\partial w}=2 X^{T}(X w-Y)+2 \\tau w=0\n",
    "$$\n",
    "\n",
    "$$\n",
    "2\\left(X^{T} X+\\tau \\cdot \\mathbb{1}\\right) w=2 X^{T} Y\n",
    "$$\n",
    "\n",
    "$$\n",
    "w_{best}=\\left(X^{T} X+\\tau \\cdot \\mathbb{1}\\right)^{-1} X^{T} Y\n",
    "$$\n",
    "\n",
    "Видим, что при росте $\\tau$ в обращаемой матрице растёт диагональ, что приводит к изменению её числа обусловленности. Как мы помним, число обусловленности напрямую влияет на эффективность и погрешность любых численных методов и чем оно меньше, тем лучше.\n",
    "\n",
    "$$\n",
    "\\mu(X^TX)=\\sqrt{\\frac{\\lambda_{\\text {max }}}{\\lambda_{\\text {min }}}} \\rightarrow \\sqrt{\\frac{\\lambda_{\\text {max }}+\\tau}{\\lambda_{\\text {min }}+\\tau}}\n",
    "$$\n",
    "\n",
    "Таким образом, чем меньше это выражениe, тем проще и точнее происходит обращение матрицы. Тем не менее, наша основная цель не эффективность обращения матрицы, а хорошая модель! Это значит, что параметр $\\tau$ надо выбирать не из условия минимизации числа обусловленности, а из условия минимизации Loss-a.\n",
    "\n",
    "Говорят, что $\\tau$ - __гиперпараметр__ (внешний параметр), т.к. он не изменяется при обучении модели (процесса нахождения наилучшего $\\mathbf w$). Они напрямую влияют на качество обучения и итоговую модель. Как подбирать наилучшие значения гиперпараметров обсудим в конце семинара.\n",
    "\n",
    "- __L1-регуляризация__\n",
    "\n",
    "Иным выбором функции регуляризации может служить __L1-регуляризация__ (__lasso__). Вместо квадрата модуля, мы возьмём модуль вектора непосредственно.\n",
    "\n",
    "$$\n",
    "R(\\mathbf w)=\\mu\\|\\mathbf w\\|_1=\\mu \\sum_{\\alpha=1}^m\\left|\\text w_\\alpha\\right|, \\quad \\mu > 0\n",
    "$$\n",
    "\n",
    "Таким образом, новая функция ошибок будет выглядеть как\n",
    "\n",
    "$$\n",
    "\\mathcal{L}=\\frac{1}{N}\\left\\|X\\mathbf w-Y\\right\\|^2+\\mu \\sum_\\alpha\\left|\\text w_\\alpha\\right|\n",
    "$$\n",
    "\n",
    "Отметим, что при данной регуляризации, функция ошибок недиффиренциируема в нуле и аналитическое решение получить можно, но крайне сложно и никто так не делает. Необходимо численно её минимизировать - как это делать обсудим позже в этом семинаре.\n",
    "\n",
    "Тем не менее, данная регуляризация имеет существенное преимущество - вес признака $w_k$ может в определённый момент обнулиться, что отвечает неважности этого признака для модели. Т.е. данная регуляризация приводит к __отбору признаков__. Это позволяет избавляться от линейно-зависимых или бессмысленных признаков.\n",
    "\n",
    "Чем больше гиперпараметр $mu$, тем больше признаков будет зануляться. При этом по мере роста $mu$ самые неинформативные признаки будут зануляться первыми. Этой процедурой можно отбирать самые важные признаки (коэффициенты модели).\n",
    "\n",
    "-  __ElasticNet__\n",
    "\n",
    "Иногда применяют комбинированный способ - сумма ridge и lasso. Такой регуляризатор называется __ElasticNet__. В среднем работает лучше.\n",
    "\n",
    "$$\n",
    "\\mathcal{L} \\rightarrow \\mathcal{L}+\\tau\\|\\mathbf w\\|^2+\\mu \\sum_\\alpha\\left|\\text w_\\alpha\\right|\n",
    "$$\n",
    "\n",
    "Есть и другие регуляризации (см. документацию sklearn и лекцию).\n",
    "\n",
    "- __Важность нормировки__\n",
    "\n",
    "Отдельно отметим важность нормировки данных. Во всех приведённых регуляризаторах веса признаков одинаковы ($\\tau$ и $\\mu$) - таким образом нам важно нормировать входные данные для модели (и иксы, и игреки) - т.е. вычитать среднее и масштабировать к единичной дисперсии, чтобы регуляризатор \"одинаково относился\" ко всем признакам. Естественно при таком раскладе, мы как бы \"шифруем\" данные для модели и при получении предсказаний их надо обратно \"дешифровать\".\n",
    "\n",
    "$$\n",
    "x_i^{\\prime}=\\left(x_i-\\bar{x}\\right) / \\sigma_x\n",
    "$$"
   ]
  },
  {
   "cell_type": "code",
   "execution_count": 2,
   "metadata": {
    "ExecuteTime": {
     "end_time": "2023-10-10T19:24:37.221671Z",
     "start_time": "2023-10-10T19:24:36.519111Z"
    },
    "code_folding": [],
    "slideshow": {
     "slide_type": "fragment"
    }
   },
   "outputs": [
    {
     "data": {
      "application/vnd.jupyter.widget-view+json": {
       "model_id": "3bf678912f4f46119b69dead3507bbf5",
       "version_major": 2,
       "version_minor": 0
      },
      "text/plain": [
       "interactive(children=(IntSlider(value=48, description='degree', max=98, min=1), FloatSlider(value=0.001, descr…"
      ]
     },
     "metadata": {},
     "output_type": "display_data"
    },
    {
     "data": {
      "text/plain": [
       "<function __main__.plot_polynomial(degree, tau, use_scaling)>"
      ]
     },
     "execution_count": 2,
     "metadata": {},
     "output_type": "execute_result"
    }
   ],
   "source": [
    "# L2-регуляризация (Ridge)\n",
    "\n",
    "import numpy as np\n",
    "import matplotlib.pyplot as plt\n",
    "from sklearn.model_selection import train_test_split\n",
    "from sklearn.linear_model import Ridge\n",
    "from sklearn.preprocessing import PolynomialFeatures, StandardScaler\n",
    "from sklearn.metrics import mean_squared_error\n",
    "from ipywidgets import interact, widgets\n",
    "from mpl_toolkits.axes_grid1.inset_locator import inset_axes\n",
    "\n",
    "# Generate random data with some noise\n",
    "np.random.seed(42)\n",
    "x = np.linspace(0, 2*np.pi, 100)\n",
    "y = 5*np.exp(-0.5*x)*np.sin(x) + 0.05*np.random.normal(0, 1, 100)\n",
    "\n",
    "# Split the data into training and test sets\n",
    "x_train, x_test, y_train, y_test = train_test_split(x, y, test_size=0.3, random_state=0)\n",
    "\n",
    "# Function to plot based on chosen degree\n",
    "def plot_polynomial(degree, tau, use_scaling):\n",
    "    \n",
    "    # Define a range of model complexities (degrees of polynomial)\n",
    "    degrees = np.arange(1, 100)\n",
    "    train_loss = []\n",
    "    test_loss = []\n",
    "\n",
    "    for d in degrees:\n",
    "        # Create polynomial features\n",
    "        poly = PolynomialFeatures(degree=d)\n",
    "        X_train_poly = poly.fit_transform(x_train.reshape(-1, 1))\n",
    "        X_test_poly = poly.transform(x_test.reshape(-1, 1))\n",
    "\n",
    "        # Apply standard scaling if selected\n",
    "        if use_scaling:\n",
    "            scaler = StandardScaler()\n",
    "            X_train_poly = scaler.fit_transform(X_train_poly)\n",
    "            X_test_poly = scaler.transform(X_test_poly)\n",
    "\n",
    "        # Fit a linear regression model\n",
    "        model = Ridge(tau, fit_intercept=True, solver='lsqr')\n",
    "        model.fit(X_train_poly, y_train)\n",
    "\n",
    "        # Calculate training and test loss\n",
    "        train_loss.append(mean_squared_error(y_train, model.predict(X_train_poly)))\n",
    "        test_loss.append(mean_squared_error(y_test, model.predict(X_test_poly)))\n",
    "\n",
    "    plt.figure(figsize=(12, 5))\n",
    "    \n",
    "    plt.subplot(1, 2, 1)\n",
    "    plt.scatter(x, y, color='blue', label='Original data with noise')\n",
    "    \n",
    "    poly = PolynomialFeatures(degree=degree)\n",
    "    X_poly = poly.fit_transform(x_train.reshape(-1, 1))\n",
    "    \n",
    "    # Apply standard scaling if selected\n",
    "    if use_scaling:\n",
    "        scaler = StandardScaler()\n",
    "        X_poly = scaler.fit_transform(X_poly)\n",
    "\n",
    "    model = Ridge(tau, fit_intercept=True, solver='lsqr')\n",
    "    model.fit(X_poly, y_train)\n",
    "    \n",
    "    x_plot = np.linspace(0, 2*np.pi, 200).reshape(-1, 1)\n",
    "    X_poly_plot = poly.transform(x_plot)\n",
    "    \n",
    "    # Apply standard scaling if selected\n",
    "    if use_scaling:\n",
    "        X_poly_plot = scaler.transform(X_poly_plot)\n",
    "    \n",
    "    y_pred = model.predict(X_poly_plot)\n",
    "    plt.plot(x_plot, y_pred, label=f'Degree {degree}', lw = 4, color = 'r')\n",
    "\n",
    "    plt.xlabel('X')\n",
    "    plt.ylabel('y')\n",
    "    plt.ylim((-2.5, 3))\n",
    "    plt.legend(loc = 1)\n",
    "\n",
    "    inset_ax = inset_axes(plt.subplot(1, 2, 1), width=\"30%\", height=\"30%\", loc=3)\n",
    "    inset_ax.bar(np.arange(degree+1), np.abs(model.coef_), color = '#32CD32')\n",
    "    inset_ax.set_yscale('log')\n",
    "    inset_ax.set_title('Weights')\n",
    "    inset_ax.tick_params(axis='x', which='both', top=True, direction = 'in', pad = -15)\n",
    "    inset_ax.tick_params(axis='y', which='both', right=True, direction = 'in', pad = -25)\n",
    "\n",
    "    plt.subplot(1, 2, 2)\n",
    "    plt.semilogy(degrees, train_loss, label='Train Loss')\n",
    "    plt.semilogy(degrees, test_loss, label='Test Loss')\n",
    "    plt.scatter(degrees[degree - 1], test_loss[degree - 1], c = 'r',\n",
    "                label='Current Loss', s=75, zorder=3)\n",
    "    plt.xlabel('Model Complexity (Degree)')\n",
    "    plt.ylabel('Mean Squared Error')\n",
    "    plt.legend()\n",
    "\n",
    "    plt.show()\n",
    "\n",
    "# Create the slider\n",
    "interact(plot_polynomial, \n",
    "         degree=widgets.IntSlider(min=1, max=98, step=1, value=48), \n",
    "         tau = widgets.FloatSlider(min=0.001, max=1.0, step=0.001, value=0.001, readout_format = '.3f'),\n",
    "         use_scaling=widgets.Checkbox(value=True, description='Use Standard Scaling'))\n"
   ]
  },
  {
   "cell_type": "markdown",
   "metadata": {
    "slideshow": {
     "slide_type": "fragment"
    }
   },
   "source": [
    "Видим, что теперь веса модели не взрываются + смогли получить хорошую аппроксимацию даже при большом $m$!\n",
    "\n",
    "Отдельно отметим крайне большую важность нормировки данных.\n",
    "\n",
    "Попробуем другую регуляризацию."
   ]
  },
  {
   "cell_type": "code",
   "execution_count": 3,
   "metadata": {
    "ExecuteTime": {
     "end_time": "2023-10-10T19:24:38.846797Z",
     "start_time": "2023-10-10T19:24:37.225196Z"
    },
    "scrolled": true,
    "slideshow": {
     "slide_type": "fragment"
    }
   },
   "outputs": [
    {
     "data": {
      "application/vnd.jupyter.widget-view+json": {
       "model_id": "78b2d0b2ba2d41b9a4eb13d5e6c7b9b2",
       "version_major": 2,
       "version_minor": 0
      },
      "text/plain": [
       "interactive(children=(IntSlider(value=90, description='degree', max=98, min=1), FloatSlider(value=0.001, descr…"
      ]
     },
     "metadata": {},
     "output_type": "display_data"
    },
    {
     "data": {
      "text/plain": [
       "<function __main__.plot_polynomial(degree, mu, use_scaling)>"
      ]
     },
     "execution_count": 3,
     "metadata": {},
     "output_type": "execute_result"
    }
   ],
   "source": [
    "# L1-регуляризация (Lasso)\n",
    "\n",
    "import numpy as np\n",
    "import matplotlib.pyplot as plt\n",
    "from sklearn.model_selection import train_test_split\n",
    "from sklearn.linear_model import Lasso\n",
    "from sklearn.preprocessing import PolynomialFeatures, StandardScaler\n",
    "from sklearn.metrics import mean_squared_error\n",
    "from ipywidgets import interact, widgets\n",
    "from mpl_toolkits.axes_grid1.inset_locator import inset_axes\n",
    "\n",
    "# Generate random data with some noise\n",
    "np.random.seed(42)\n",
    "x = np.linspace(0, 2*np.pi, 100)\n",
    "y = 5*np.exp(-0.5*x)*np.sin(x) + 0.05*np.random.normal(0, 1, 100)\n",
    "\n",
    "# Split the data into training and test sets\n",
    "x_train, x_test, y_train, y_test = train_test_split(x, y, test_size=0.3, random_state=0)\n",
    "\n",
    "# Function to plot based on chosen degree\n",
    "def plot_polynomial(degree, mu, use_scaling):\n",
    "    \n",
    "    # Define a range of model complexities (degrees of polynomial)\n",
    "    degrees = np.arange(1, 100)\n",
    "    train_loss = []\n",
    "    test_loss = []\n",
    "\n",
    "    for d in degrees:\n",
    "        # Create polynomial features\n",
    "        poly = PolynomialFeatures(degree=d)\n",
    "        X_train_poly = poly.fit_transform(x_train.reshape(-1, 1))\n",
    "        X_test_poly = poly.transform(x_test.reshape(-1, 1))\n",
    "\n",
    "        # Apply standard scaling if selected\n",
    "        if use_scaling:\n",
    "            scaler = StandardScaler()\n",
    "            X_train_poly = scaler.fit_transform(X_train_poly)\n",
    "            X_test_poly = scaler.transform(X_test_poly)\n",
    "\n",
    "        # Fit a linear regression model\n",
    "        model = Lasso(mu, fit_intercept=True, max_iter=10000, tol = 0.5*1e-2, warm_start=True)\n",
    "        model.fit(X_train_poly, y_train)\n",
    "\n",
    "        # Calculate training and test loss\n",
    "        train_loss.append(mean_squared_error(y_train, model.predict(X_train_poly)))\n",
    "        test_loss.append(mean_squared_error(y_test, model.predict(X_test_poly)))\n",
    "\n",
    "    plt.figure(figsize=(12, 5))\n",
    "    \n",
    "    plt.subplot(1, 2, 1)\n",
    "    plt.scatter(x, y, color='blue', label='Original data with noise')\n",
    "    \n",
    "    poly = PolynomialFeatures(degree=degree)\n",
    "    X_poly = poly.fit_transform(x_train.reshape(-1, 1))\n",
    "    \n",
    "    # Apply standard scaling if selected\n",
    "    if use_scaling:\n",
    "        scaler = StandardScaler()\n",
    "        X_poly = scaler.fit_transform(X_poly)\n",
    "    \n",
    "    model = Lasso(mu, fit_intercept=True, max_iter=10000, tol = 0.5*1e-2, warm_start=True)\n",
    "    model.fit(X_poly, y_train)\n",
    "    \n",
    "    x_plot = np.linspace(0, 2*np.pi, 200).reshape(-1, 1)\n",
    "    X_poly_plot = poly.transform(x_plot)\n",
    "    \n",
    "    # Apply standard scaling if selected\n",
    "    if use_scaling:\n",
    "        X_poly_plot = scaler.transform(X_poly_plot)\n",
    "    \n",
    "    y_pred = model.predict(X_poly_plot)\n",
    "    plt.plot(x_plot, y_pred, label=f'Degree {degree}', lw=4, color='r')\n",
    "\n",
    "    plt.xlabel('X')\n",
    "    plt.ylabel('y')\n",
    "    plt.ylim((-2.5, 3))\n",
    "    plt.legend(loc=1)\n",
    "\n",
    "    inset_ax = inset_axes(plt.subplot(1, 2, 1), width=\"30%\", height=\"30%\", loc=3)\n",
    "    inset_ax.bar(np.arange(degree+1), np.abs(model.coef_), color='#32CD32')\n",
    "    inset_ax.set_yscale('log')\n",
    "    inset_ax.set_title('Weights')\n",
    "    inset_ax.tick_params(axis='x', which='both', top=True, direction='in', pad=-15)\n",
    "    inset_ax.tick_params(axis='y', which='both', right=True, direction='in', pad=-25)\n",
    "\n",
    "    plt.subplot(1, 2, 2)\n",
    "    plt.semilogy(degrees, train_loss, label='Train Loss')\n",
    "    plt.semilogy(degrees, test_loss, label='Test Loss')\n",
    "    plt.scatter(degrees[degree - 1], test_loss[degree - 1], c='r',\n",
    "                label='Current Loss', s=75, zorder=3)\n",
    "    plt.xlabel('Model Complexity (Degree)')\n",
    "    plt.ylabel('Mean Squared Error')\n",
    "    plt.legend()\n",
    "\n",
    "    plt.show()\n",
    "\n",
    "# Create the slider\n",
    "interact(plot_polynomial, \n",
    "         degree=widgets.IntSlider(min=1, max=98, step=1, value=90), \n",
    "         mu=widgets.FloatSlider(min=0.001, max=0.1, step=0.001,\n",
    "                                value=0.001, readout_format='.4f'),\n",
    "         use_scaling=widgets.Checkbox(value=True, description='Use Standard Scaling'))\n"
   ]
  },
  {
   "cell_type": "markdown",
   "metadata": {
    "slideshow": {
     "slide_type": "fragment"
    }
   },
   "source": [
    "Видим, что также смогли получить относительно хорошую аппроксимацию при большой сложности модели.\n",
    "\n",
    "Заметим, что теперь почти все признаки занулились! Более того, чем больше параметр $\\mu$, тем больше параметров зануляется. Так можно выявлять наиболее важные параметры в задаче регрессии.\n",
    "\n",
    "Таким образом, регуляризация позволяет обучать сложные модели (что критично в тех случаях, когда простой моделью хорошего результата получить не удалось)."
   ]
  },
  {
   "cell_type": "markdown",
   "metadata": {
    "slideshow": {
     "slide_type": "slide"
    }
   },
   "source": [
    "## Теорема Байеса\n",
    "\n",
    "Основная идея теоремы Байеса - __уточнение вероятности гипотезы при учёте новых данных__.\n",
    "\n",
    "__Формула Байеса__:\n",
    "\n",
    ">$$\n",
    "P(A \\mid B)=\\frac{P(B \\mid A) \\cdot P(A)}{P(B)}\n",
    "$$\n",
    ">\n",
    ">где\n",
    ">\n",
    ">- $P(A)$ - __априорная вероятность__ гипотезы $A$ (до получения данных о истинности события $B$);\n",
    ">\n",
    ">- $P(A \\mid B)$ - вероятность гипотезы $A$ при наступлении события $B$ (уточнённая, __апостериорная вероятность__);\n",
    ">\n",
    ">- $P(B \\mid A)$ - вероятность наступления события $B$ при истинности гипотезы $A$ (__правдоподобие, likelihood__;\n",
    ">\n",
    ">- $P(B)$ - полная вероятность наступления события $B$.\n",
    "\n",
    "Последнее в простом случае можно считать через __формулу полной вероятности__:\n",
    "\n",
    ">$$\n",
    "P(B) =P(B \\mid A) \\cdot P(A) + P(B \\mid \\bar{A}) \\cdot P(\\bar{A})\n",
    "$$\n",
    ">\n",
    ">где $\\bar{A}$ - означает событие ложности гипотезы $A$.\n",
    "\n",
    "__Примечание.__ В более общем случае можно обобщить формулу Байеса на $n$ непересекающихся гипотез $A_i$, имеющих суммарную вероятность 1:\n",
    "\n",
    "$$\n",
    "P\\left(A_j \\mid B\\right)=\\frac{P\\left(B \\mid A_j\\right) P\\left(A_j\\right)}{\\sum_{i=1}^n P\\left(B \\mid A_i\\right) P\\left(A_i\\right)}\n",
    "$$\n",
    "\n",
    "или, что то же самое:\n",
    "\n",
    "$$\n",
    "P\\left(A_j \\mid B\\right)=\\frac{P\\left(B \\cap A_j\\right)}{\\sum_{k=1}^n P\\left(B \\cap A_k\\right)}\n",
    "$$"
   ]
  },
  {
   "cell_type": "markdown",
   "metadata": {
    "slideshow": {
     "slide_type": "fragment"
    }
   },
   "source": [
    "![image.png](data:image/png;base64,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)"
   ]
  },
  {
   "cell_type": "markdown",
   "metadata": {
    "slideshow": {
     "slide_type": "slide"
    }
   },
   "source": [
    "### Пример с короновирусом\n",
    "\n",
    "Ультрачувствительный тест от короновируса ошибается в 1\\% случаев (как в одну, так и в другую сторону). В данный момент в популяциии доля заболевших $10^{-5}$. Петя получил положительный тест на коронавирус.\n",
    "\n",
    "С какой вероятностью он действительно болеет коронавирусом?"
   ]
  },
  {
   "cell_type": "markdown",
   "metadata": {
    "slideshow": {
     "slide_type": "fragment"
    }
   },
   "source": [
    "__Решение:__\n",
    "\n",
    "Обозначим за $A$ событие болезни короновирусом (__гипотезу__), через $B$ - положительный результат теста (__новые данные__). \n",
    "\n",
    "Тогда до новых данных вероятность Пете заболеть (__априорная вероятность__) была:\n",
    "\n",
    "$$\n",
    "P(A) = 10^{-5}\n",
    "$$\n",
    "\n",
    "Хотим уточнить эту вероятность с учётом новых данных (события $B$), для которых верно:\n",
    "\n",
    "$$ \n",
    "P(B \\mid A)=0.99, \\quad P(B \\mid \\bar{A})=0.01\n",
    "$$\n",
    "\n",
    "По формуле Байеса для уточнённой вероятности:\n",
    "\n",
    "$$ \\\\\n",
    "\\begin{gathered}\n",
    "P(A \\mid B)=\\frac{P(B \\mid A) P(A)}{P(B)}=\\frac{P(B \\mid A) P(A)}{P(B \\mid A) P(A)+P(B \\mid \\bar{A}) P(\\bar{A})} \\\\   \\\\  \n",
    "P(A \\mid B)=\\frac{0.99 \\cdot 10^{-5}}{0.99 \\cdot 10^{-5}+0.01 \\cdot\\left(1-10^{-5}\\right)}=9.89 \\cdot 10^{-4} \\approx 10^{-3}\n",
    "\\end{gathered} \\\\\n",
    "$$\n",
    "\n",
    "Видим, что вероятность быть больным после учёта теста (__апостериорная вероятность__) возросла! Но не очень-то и сильно, т.к. в целом больных короновирусом много меньше всех остальных, что и учитывает формула Байеса. \n",
    "\n",
    "Возможно, Пете стоит сделать пройти тест ещё раз."
   ]
  },
  {
   "cell_type": "markdown",
   "metadata": {
    "slideshow": {
     "slide_type": "slide"
    }
   },
   "source": [
    "### Уточнение параметров распределений\n",
    "\n",
    "Пусть имеем некоторое распределение, зависящее от некоторых параметров $λ$. Например:\n",
    "\n",
    "- дискретное распределение Пуассона $p_λ(k) \\equiv \\mathbb{P}(Y=k) =\\, \\frac{λ^k}{k !} e^{-λ} = P(k \\mid \\lambda)$\n",
    "- непрерывное распределение Гаусса $p_λ(x)=\\frac{1}{λ_1 \\sqrt{2 \\pi}} e^{-\\frac{1}{2}\\left(\\frac{x-λ_2}{λ_1}\\right)^2} = p(x \\mid \\lambda)$\n",
    "\n",
    "На практике мы __не знаем__ параметры $λ$ этого распределения. Их нужно как-то определить. Теорема Байеса даёт один из возможных подходов исходя из разной вероятности иметь текущие $λ$ для данного распределния. Иными словами, у нас есть __ещё одно распределение на параметры $λ$__, которое мы и хотим получить.\n",
    "\n",
    "Схема такая:\n",
    "\n",
    ">1. Имеем $P(λ)$ - априорное распределение значения параметр(а/ов) распределения\n",
    ">2. Получаем экспериментальную точку $m$\n",
    ">3. Из теоремы Байеса получаем уточнённое (апостериорное) распределение параметров при новых данных $P(λ \\mid m)$.\n",
    ">4. Принимаем уточненное распределение за априорное и повторяем п. 1 - 3 пока не ~надоест~ сойдёмся.\n",
    "\n",
    "Наивно, стартовать можно с любого априорного распределения, но доказывать сиё утверждение мы, конечно, не будем.\n",
    "\n",
    "А как считать $P(λ|m)$ - апостериорное распределение на параметры при учёте получения данных $m$? Просто записываем теорему Байеса в следующем виде:\n",
    "\n",
    ">$$ \n",
    "P(λ \\mid m)=\\frac{P(m \\mid λ) \\cdot P(λ)}{P(m)}=\\frac{P(m \\mid λ) \\cdot P(λ)}{\\int d λ \\cdot P(m \\mid λ) \\cdot P(λ)} = \\frac{p_λ(m) \\cdot P(λ)}{\\int d λ \\cdot p_λ(m) \\cdot P(λ)}\n",
    "$$\n",
    "\n",
    "Как видим, отличие в основном в том, что в формуле полной вероятности сумму заменил интеграл по распределению.\n",
    "\n",
    "Таким образом, __апостериорное распределение на иксы__ после учёта __ВСЕХ__ новых данных:\n",
    "\n",
    ">$$\n",
    "\\tilde{p} (x) = \\int d \\lambda \\cdot P ( x \\mid \\lambda) \\cdot P ( \\lambda \\mid m_1, m_2, \\cdots )\n",
    "$$\n"
   ]
  },
  {
   "cell_type": "markdown",
   "metadata": {
    "slideshow": {
     "slide_type": "fragment"
    }
   },
   "source": [
    "### Пример с фальшивой монеткой\n",
    "\n",
    "Пусть есть монетка, которая может выпадать решкой или орлом. Здесь и далее $m=0$ - выпала решка, $m=1$ - выпал орёл.\n",
    "\n",
    "За параметр распределения $λ$ возьмём вероятность выпадения орла. Тогда распределение на возможные варианты исхода одного броска:\n",
    "\n",
    "$$\n",
    "p_\\lambda(m)=\\left\\{\\begin{array}{c}\n",
    "1-\\lambda, \\quad m=0 \\\\\n",
    "\\lambda, \\quad m=1\n",
    "\\end{array}\\right.\\\\\n",
    "$$\n",
    "\n",
    "Как и выше, считаем, что есть некоторое распределение на возможные $λ$. Понятно, что для обычной монеты оно должно быть в идеале $P_\\text{ideal}(\\lambda) = \\delta (\\lambda - 0.5)$, а для шулерской что-то пойдёт не так.\n",
    "\n",
    "Для примера, положим, что шулерская монета только в 40% случаев выпадает орлом. В качестве начального априорного распределения положим равновероятный вариант иметь честную и шулерскую монету. Математически, это можно записать как:\n",
    "\n",
    "$$\n",
    "P(\\lambda) = \\frac{1}{2} \\cdot \\delta (\\lambda - 0.5) + \\frac{1}{2} \\cdot \\delta (\\lambda - 0.4)\n",
    "$$\n",
    "\n",
    "Проведём один эксперимент в котором, положим, выпал орёл $m=1$. Апостериорная вероятность с учётом новых данных:\n",
    "\n",
    "$$\n",
    "P(\\lambda \\mid 1)=\\cfrac{p(1 \\mid \\lambda) \\cdot P(\\lambda)}{p(1)} = \\cfrac{p_\\lambda(1) \\cdot P(\\lambda)}{\\int_\\lambda d \\lambda P(\\lambda) p_\\lambda(1)} = \\cfrac{\\frac{\\lambda}{2} \\cdot \\delta (\\lambda - 0.5) + \\frac{\\lambda}{2} \\cdot \\delta (\\lambda - 0.4)}{\\int_\\lambda d \\lambda \\left(\\frac{\\lambda}{2} \\cdot \\delta (\\lambda - 0.5) + \\frac{\\lambda}{2} \\cdot \\delta (\\lambda - 0.4)\\right) }\n",
    "$$\n",
    "\n",
    "$$\n",
    "P(\\lambda \\mid 1)= \\cfrac{\\frac{0.5}{2} \\cdot \\delta (\\lambda - 0.5) + \\frac{0.4}{2} \\cdot \\delta (\\lambda - 0.4)}{0.5 \\cdot 0.4+0.5 \\cdot 0.5}\n",
    "$$\n",
    "\n",
    "$$\n",
    "P(\\lambda \\mid 1)= \\frac{5}{9} \\cdot \\delta (\\lambda - 0.5) + \\frac{4}{9} \\cdot \\delta (\\lambda - 0.4)\n",
    "$$\n",
    "\n",
    "Аналогично, можно считать и далее. Например, пусть второй раз выпала решка $m=0$. Пользуемся теми же самыми формулами, приняв последнее выражение за новую априорную вероятность $P(\\lambda)\\stackrel{\\text{redefine}}{=}P(\\lambda \\mid 1)$. \n",
    "\n",
    "Итого,\n",
    "\n",
    "$$\n",
    "P(\\lambda \\mid 1, 0)= \\frac{25}{41} \\cdot \\delta (\\lambda - 0.5) + \\frac{16}{41} \\cdot \\delta (\\lambda - 0.4)\n",
    "$$\n",
    "\n",
    "И т.д. Т.е. для конкретного набора результатов бросков мы всегда можем оценить вероятность, была ли использована шулерская монета. \n",
    "\n",
    "Алгоритм, работающий аналогичным образом для решения задач классификации, называется __наивным байесовским классификатором__. Чтобы определить вероятность истинности гипотезы о принадлежности объекта к тому или иному классу, наивный байесовский классификатор аналогичным образом использует информацию по каждому признаку. Результаты выпадения монетки в данном случае аналогичны проявлению класса объекта в виде того или иного признака."
   ]
  },
  {
   "cell_type": "markdown",
   "metadata": {
    "slideshow": {
     "slide_type": "slide"
    }
   },
   "source": [
    "## Регуляризация из теоремы Байеса\n",
    "\n",
    "Модели зависимости переменных также бывают вероятностные - это иной подход к решению задачи регрессии, основанный не на минимизации функции потерь, а на максимизации вероятностного правдоподобия модели.\n",
    "\n",
    "В этом рассмотрении мы сможем дать вероятностное объяснение корректности решения задачи регрессии с использованием регуляризации. Это позволит также оценить случайную погрешность весов модели.\n",
    "\n",
    "__Гауссова вероятностная модель (напоминание)__\n",
    "\n",
    "Пусть нам дан набор точек $\\left\\{\\left(x_i, y_i\\right)\\right\\}_{i=1}^N$ и пусть их систематическая (приборная) погрешность равна нулю. Опять-таки надо найти наилучшую аппроксимирующую модель.\n",
    "\n",
    "Как и раньше, будем решать эту задачу линейной регрессией. Пусть также наша модель отличается от истинных $y_i$ на некоторый шум\n",
    "\n",
    "$$\n",
    "y_i=X_{i \\alpha} w_\\alpha+\\epsilon_i, \\quad \\epsilon_i \\sim  \\mathcal{N}\\left(0, \\sigma^2\\right)\n",
    "$$\n",
    "\n",
    "Здесь $\\epsilon_i$ - это случайный гауссов шум, объясняющий, почему исходные точки не лежат точно на нашей модели. Отметим, что $\\sigma$ нам неизвестна, но одинакова для всех точек выборки.\n",
    "\n",
    " __Принцип максимизации правдоподобия (likelyhood) (напоминание)__\n",
    "\n",
    "В отличие от эмпирически выбранной функции потерь, будем пользоваться __принципом максимизации правдоподобия (likelyhood)__. Он заключается в максимизации вероятности пронаблюдать истинные $y_i$ в нашей нашей вероятностной модели.\n",
    "\n",
    "Иными словами, нам надо подобрать такие $w$, чтобы вероятность $P_w(y)$ нашей модели $\\check{y}_i=X_{i \\alpha} w_\\alpha$ с учётом шума $\\epsilon_i$ выдать истинные $y_i$ была максимальной. При этом выборка фиксирована. Эта вероятность называется __правдоподобием данных__.\n",
    "\n",
    "$$P_w(y) \\rightarrow \\max _w$$\n",
    "\n",
    "Т.к. вероятность независимость событий есть произведение их вероятностей, суммарная верность будет большим произведением, что не очень удобно. Поэтому переходят к эквивалентной задаче, беря логарифм от этой вероятности (это эквивалентный шаг, т.к. максимизация $\\log P_w(y)$ равносильна максимизации $P_w(y)$). Для удобства, эту штуку также называют правдоподобием.\n",
    "\n",
    "$$\\log P_w(y) $$\n",
    "\n",
    "Распишем подробнее,\n",
    "\n",
    "$$\n",
    "P_w(y)=\\prod_{i=1}^l \\mathcal{N}\\left(0, \\sigma^2\\right)\\left[\\epsilon_i\\right]=\\prod_{i=1}^N \\frac{1}{\\sqrt{2 \\pi \\sigma^2}} \\exp \\left(-\\frac{\\left(y_i-X_{i \\alpha} w_\\alpha\\right)^2}{2 \\sigma^2}\\right)\n",
    "$$\n",
    "\n",
    "Логарифмируем,\n",
    "\n",
    "$$\n",
    "\\log P_w(y)=\\sum_{i=1}^N\\left\\{-\\frac{1}{2} \\log 2 \\pi \\sigma^2-\\frac{\\left(y_i-X_{i\\alpha} w_\\alpha\\right)^2}{2 \\sigma^2}\\right\\} \\rightarrow \\max _w\n",
    "$$\n",
    "\n",
    "Заметим, что первые слагаемые от $w$ не зависят, а вторые слагаемые в этой сумме образуют сумму квадратов отклонений, т.е. они образуют функцию потерь в методе наименьших квадратов. Получается, что __МНК эквивалентен принципу максимизации правдоподобия с гауссовой вероятностной моделью__. Это и есть вероятностный смысл МНК.\n",
    "\n",
    "\n",
    "__Вероятностный смысл регуляризации__\n",
    "\n",
    "Перепишем наше правдоподобие в терминах условной вероятности. Действительно вероятность $P_w(y)$ по сути своей есть вероятность пронаблюдать $y$ при фиксированных $w$ и $x$:\n",
    "\n",
    "$$\n",
    "P_w(y)=P(y \\mid w, x)\n",
    "$$\n",
    "\n",
    "Посмотрим на это со следующей точки зрения. До самого процесса максимизации правдоподобия, уже имелось некоторое распределение вероятности получить те или иные $w$ - __априорное распределение__ (до процесса измерения $w$). Действительно, вероятность получить крайне большие $w$ крайне мала для любой задачи. Обозначим это априорное распределение как $p_\\gamma(w)$, где $\\gamma$ - некоторые гиперпараметры.\n",
    "\n",
    "Т.к. мы ввели функцию распределения, мы обязаны трактовать $w$ как случайные величины. Таким образом в такой трактовке мы обязаны максимизировать __правдоподобие данных и модели__. Обозначим её за $\\widetilde{P}(y, w \\mid x)$ и тогда,\n",
    "\n",
    "$$\n",
    "\\widetilde{P}(y, w \\mid x)=P(y \\mid x, w) \\cdot p_\\gamma(w)=P_w(y) \\cdot p_\\gamma(w)\n",
    "$$\n",
    "\n",
    "Логарифмируя,\n",
    "\n",
    "$$\n",
    "\\log \\widetilde{P}(y, w \\mid x)=\\log P_w(y) + \\log p_\\gamma(w) = \\text { const по }w-\\frac{1}{2 \\sigma^2} \\mathcal{L}+\\log p_\\gamma(w)\\rightarrow \\max _w\n",
    "$$\n",
    "\n",
    "А отсюда уже видно, что выбор подходящего априорного распределения $p_\\gamma(w)$ и даёт нам нужную функцию потерь! Иначе говоря, регуляризация - это лишь постулирование, что $w$ до процесса измерения имеют некоторое распределение  $p_\\gamma(w)$, отвечающее выбранной регуляризации. Проиллюстрируем это.\n",
    "\n",
    "Если взять  $p_\\gamma(w)$ как гауссово распределение, мы получим L2-регуляризацию:\n",
    "\n",
    "$$\n",
    "p_\\gamma\\left(w_\\alpha\\right)=\\frac{1}{\\sqrt{2 \\pi \\gamma}} e^{-\\frac{w_\\alpha^2}{2 \\gamma}}\n",
    "$$\n",
    "\n",
    "$$\n",
    "\\log p_\\gamma=\\text{const по $w$} -\\frac{w_\\alpha^2}{2 \\gamma}\n",
    "$$\n",
    "\n",
    "$$\n",
    "\\log \\widetilde{P}(y, w \\mid x)= \\text { const по }w-\\frac{1}{2 \\sigma^2} \\left( \\mathcal{L}-w_\\alpha^2\\frac{\\sigma^2}{\\gamma} \\right)\\rightarrow \\max _w\n",
    "$$\n",
    "\n",
    "Откуда видим, что в прежних обозначениях $\\tau = \\frac{\\sigma^2}{\\gamma}$.\n",
    "\n",
    "Аналогично, L1-регуляризация получается из распределения Лапласа $p_ \\gamma\\left(w_\\alpha\\right)=\\frac{1}{2 \\gamma} e^{-\\frac{\\left|w_\\alpha\\right|}{\\gamma}}$.\n",
    "\n",
    "Опять таки видим одинаковый масштаб для всех весов $w$ - т.е. важно нормировать данные! Иначе, мы бы сразу неявно воспринимали некоторые признаки более важными, чем другие."
   ]
  },
  {
   "cell_type": "markdown",
   "metadata": {
    "slideshow": {
     "slide_type": "slide"
    }
   },
   "source": [
    "## Градиентный спуск - численный способ минимизации Loss-a. Простейший случай\n",
    "\n",
    "Напомним, что градиент функции нескольких переменных - это вектор направления наибольшего роста функции.\n",
    "\n",
    "Как мы уже поняли, аналитически решать задачу регрессии не всегда получается эффективно, если вообще получается. Таким образом, нам надо научится численно минимизировать функцию потерь. Простейший и самый распространённый способ это сделать заключается в применении __градиентного спуска__.\n",
    "\n",
    "Продемонстрируем на примере решении задачи линейной регрессии с MSE Loss и регуляризатором ElasticNet. Она не решается аналитически, и необходимо численно минимизировать\n",
    "\n",
    "$$\n",
    "\\mathcal{L}(w)=\\frac{1}{N} \\sum_{i=1}^{N}\\left( X_{i \\alpha} w_\\alpha-y_i\\right)^2+\\tau \\sum_{i=1}^N w_i^2+\\mu \\sum_{i=1}^N\\left|w_i\\right|\n",
    "$$\n",
    "\n",
    "$$\n",
    "\\mathcal{L}(w) \\longrightarrow \\min _w\n",
    "$$\n",
    "\n",
    "Общий __алгоритм градиентного спуска__ будет следующим образом:\n",
    "\n",
    "\n",
    "\n",
    ">0. Фиксируем малый $\\varepsilon$ - условие остановки алгоритма.\n",
    ">\n",
    ">1. Выберем начальное приближение $w^{(0)} \\in \\mathbb{R}^m$. Как правило, инициализируют случайным образом.\n",
    "\n",
    ">2. Каждую последующую точку выбираем в направлении обратном градиенту $\\mathcal{L}$ - таким образом мы двигаемся в направлении минимизации $\\mathcal{L}$.\n",
    ">$$w^{(n+1)}_k=w^{(n)}_k-\\alpha \\cdot  \\left.\\frac{\\partial \\mathcal{L}(w)}{\\partial w_{k}}\\right|_{w^{(n)}} $$\n",
    "\n",
    ">Здесь $\\alpha$ - так называемый шаг градиентного спуска (или __learning rate__). Если он будет слишком большим, мы не упадём в минимум и будем туда-сюда скакать около него. Если он будет слишком маленьким, мы рискуем так и не дойти до минимума. Таким образом, он является подбираемым гиперпараметром.\n",
    "\n",
    ">3. Если на каком-то шаге получилось, что\n",
    "\n",
    ">$$|\\mathcal{L}(w^{(n+1)}) - \\mathcal{L}(w^{(n)})| < \\varepsilon$$\n",
    "\n",
    ">То алгоритм останавливается и последнее получившееся $w_{final}=w^{(n+1)}$  принимается за окончательный ответ. Иначе на шаг 2.\n",
    "\n",
    "\n",
    "\n",
    "Стоит отметить, что по хорошему, надо строить зависимость $\\mathcal{L}(n)$. Т.к. для произвольной функции или для данных гиперпараметров алгоритм может и не сойтись. В идеальном случае, это будет монотонно стремящаяся к нулю функция. В плохом - сильно осциллирующая краказябра.\n",
    "\n",
    "\n",
    "Естественно, это самая простая реализация градиентного спуска. Её можно существенно улучшить различными приёмчиками. В частности, learning rate можно сделать зависимым от $n$. К примеру,\n",
    "\n",
    "$$\n",
    "\\alpha(n) = \\frac{1}{n}\n",
    "$$\n",
    "\n",
    "Если же мы попали в точку, где градиента не существует (что крайне маловероятно, т.к. их мера нуль), то можно просто взять любое небольшое направление сдвига, чтобы из неё выйти - хорошим ориентром будет градиент в близкой точке, в которой функция дифференциируема.\n",
    "\n",
    "__Стохастический градиентный спуск__\n",
    "\n",
    "Часто функция потерь - это сумма большого числа слагаемых. Если обучающая выборка достаточно велика, вычислять эту сумму будет проблематично и затратно - градиентный спуск будет работать крайне медленно.\n",
    "\n",
    "Решить эту проблему помогает стохастический градиентный спуск. Его идея - вычислять градиент функции потерь на каждом шаге алгоритма не по всей выборке, а по некоторой подвыборке (__batch__), которая будет меняться каждый шаг.\n",
    "\n",
    "Если старый градиент рассчитывался по всей выборке\n",
    "\n",
    "$$\n",
    "\\nabla \\mathcal{L}=\\frac{1}{N} \\sum_{i=1}^N\\left(\\nabla \\mathcal{L}_i\\right)\n",
    "$$\n",
    "\n",
    "то на batch-е размером $B \\ll N$ градиент не должен сильно поменяться\n",
    "\n",
    "$$\n",
    "\\nabla \\mathcal{L} \\approx \\frac{1}{B} \\sum_{i=1}^B\\left(\\nabla \\mathcal{L}_i\\right)\n",
    "$$\n",
    "\n",
    "Иными словами, мы \"нарезаем\" нашу обучающую выборку из $N$ элементов на $N/B$ кусков, на каждом из которых вычисляем градиент поочередно. Таким образом вся обучающая выборка используется, но нам нет необходимости суммировать огромное количество слагаемых для одного шага алгоритма.\n",
    "\n",
    "Один проход по всей выборке называется __эпохой__. После окончания эпохи (прохода по всей выборке) можно опять \"нарезать\" выборку на $N/B$ частей случайным образом (чтобы исключить какие-либо корреляции) и повторять процесс. В таком случае, как правило, строят зависимость $\\mathcal{L}$ от $k$-ой эпохи.\n",
    "\n",
    "Понятно, что процесс будет стохастическим, и на каждом шаге алгоритма мы будем чутка отклоняться от направления на минимум. Тем не менее, этот шум даже полезен, т.к. он помогает не проваливаться в узкие локальные минимумы - эмпирический факт :)."
   ]
  },
  {
   "cell_type": "code",
   "execution_count": 4,
   "metadata": {
    "ExecuteTime": {
     "end_time": "2023-10-10T19:24:39.024542Z",
     "start_time": "2023-10-10T19:24:38.848315Z"
    },
    "slideshow": {
     "slide_type": "fragment"
    }
   },
   "outputs": [
    {
     "data": {
      "image/png": "[encoded data removed]",
      "text/plain": [
       "<Figure size 1000x700 with 2 Axes>"
      ]
     },
     "metadata": {},
     "output_type": "display_data"
    }
   ],
   "source": [
    "# Реализация градиентного спуска\n",
    "# Ищем минимум следующей функции\n",
    "\n",
    "def f(x1, x2):\n",
    "    return 0.5*x1**2 + (5/2)*x2**2 - x1*x2 - 2*(x1 + x2)\n",
    "\n",
    "def gradient(x1, x2):\n",
    "    return np.array([-2 + x1 - x2, -2 - x1 + 5*x2])\n",
    "\n",
    "def norm(matrice_1x2):\n",
    "    n_line = matrice_1x2.shape[0]\n",
    "    N = 0\n",
    "    for i in range(n_line):\n",
    "        N += matrice_1x2[i]**2\n",
    "    return np.sqrt(N)\n",
    "\n",
    "x1, x2 = -25, -35\n",
    "alpha = 0.1\n",
    "epsilon = pow(10,-6)\n",
    "\n",
    "grad_f = gradient(x1, x2)\n",
    "n_grad = norm(grad_f)\n",
    "\n",
    "i = 1\n",
    "evolution_X1_X2 = [[x1, x2]]\n",
    "while n_grad > epsilon:\n",
    "\n",
    "    direction = -grad_f\n",
    "    x1, x2 = x1 + alpha*direction[0], x2 + alpha*direction[1]\n",
    "    evolution_X1_X2 = np.vstack((evolution_X1_X2, [x1, x2]))\n",
    "    grad_f = gradient(x1, x2)\n",
    "    n_grad = norm(grad_f)\n",
    "    i += 1\n",
    "\n",
    "evolution_X1 = evolution_X1_X2[:, 0]\n",
    "evolution_X2 = evolution_X1_X2[:, 1]\n",
    "\n",
    "\n",
    "x1 = np.linspace(-30, 25, 150)\n",
    "x2 = np.linspace(-40, 20, 150)\n",
    "X1, X2 = np.meshgrid(x1, x2)\n",
    "Z = f(X1, X2)\n",
    "\n",
    "fig = plt.figure(figsize = (10,7))\n",
    "plt.grid(False)\n",
    "plt.imshow(Z, extent = [-30,25,-40,20], origin = 'lower', cmap = 'jet', alpha = 1)\n",
    "plt.title(\"Evolution of the cost function during gradient descent with level circles\", fontsize=15)\n",
    "plt.plot(evolution_X1, evolution_X2)\n",
    "plt.plot(evolution_X1, evolution_X2, '*', label = \"Cost function\")\n",
    "plt.xlabel('x1', fontsize=11)\n",
    "plt.ylabel('x2', fontsize=11)\n",
    "plt.colorbar()\n",
    "plt.legend(loc = \"upper right\")\n",
    "plt.show()"
   ]
  },
  {
   "cell_type": "markdown",
   "metadata": {
    "slideshow": {
     "slide_type": "slide"
    }
   },
   "source": [
    "## Гиперпараметры и кросс-валидация\n",
    "\n",
    "Для подбора гиперпараметров необходимо минимизировать влияние конкретного выбора тестовой и обучающей выборки. Для этого можно например использовать следующий алгоритм __кросс-валидации__ K-Fold:\n",
    "\n",
    ">1. Фиксируется некоторое целое число $k$ (обычно от 5 до 10), меньшее числа семплов в датасете.\n",
    ">2. Датасет разбивается на $k$ одинаковых частей (в последней части может быть меньше семплов, чем в остальных). Эти части называются фолдами.\n",
    ">3. Далее происходит $k$ итераций, во время каждой из которых один фолд выступает в роли тестового множества, а объединение остальных - в роли тренировочного. Модель учится на $k-1$ фолде и тестируется на оставшемся.\n",
    ">4. Финальный скор модели получается либо усреднением $k$ получившихся тестовых результатов, либо измеряется на отложенном тестовом множестве, не участвовавшем в кросс-валидации.\n",
    "\n",
    "\n",
    "![image](https://yastatic.net/s3/ml-handbook/admin/7_3_98fef6af39.png)\n",
    "\n",
    "Подробнее тут: https://academy.yandex.ru/handbook/ml/article/kross-validaciya\n",
    "\n",
    "Наконец, обcудим процесс подбора гиперпараметров. Тут всё просто - перебираем какое-либо количество гиперпараметров по сетке (__grid-search__) или случайным образом (__random-search__), считаем кросс-валидацией Loss на каждой точке перебора, а в конце выбираем наилучший набор гиперпараметров."
   ]
  },
  {
   "cell_type": "code",
   "execution_count": 5,
   "metadata": {
    "ExecuteTime": {
     "end_time": "2023-10-10T19:24:39.029352Z",
     "start_time": "2023-10-10T19:24:39.026033Z"
    },
    "slideshow": {
     "slide_type": "fragment"
    }
   },
   "outputs": [],
   "source": [
    "# Кросс-валидация гиперпараметров -\n",
    "\n",
    "hyperparams = {'alpha': [10000, 1e-1, 1e-2, 1e-3, 1e-4, 1e-5, 1e-6, 1e-7, 1e-8, 1e-9],\n",
    "               'max_iter': [1000, 10000, 100000]}\n",
    "\n",
    "from sklearn.model_selection import GridSearchCV\n",
    "\n",
    "gs = GridSearchCV(estimator=Lasso(fit_intercept=False, warm_start=False),\n",
    "                      param_grid=hyperparams,\n",
    "                      cv=5,\n",
    "                      verbose=1,\n",
    "                      scoring='neg_mean_squared_error', # Эта функция максимизирует, берём neg\n",
    "                      return_train_score=True)"
   ]
  },
  {
   "cell_type": "code",
   "execution_count": 6,
   "metadata": {
    "ExecuteTime": {
     "end_time": "2023-10-10T19:24:39.034065Z",
     "start_time": "2023-10-10T19:24:39.031719Z"
    },
    "slideshow": {
     "slide_type": "fragment"
    }
   },
   "outputs": [],
   "source": [
    "from sklearn.metrics import get_scorer_names\n",
    "#get_scorer_names()"
   ]
  },
  {
   "cell_type": "code",
   "execution_count": 7,
   "metadata": {
    "ExecuteTime": {
     "end_time": "2023-10-10T19:24:46.865863Z",
     "start_time": "2023-10-10T19:24:39.035792Z"
    },
    "slideshow": {
     "slide_type": "fragment"
    }
   },
   "outputs": [
    {
     "name": "stdout",
     "output_type": "stream",
     "text": [
      "Fitting 5 folds for each of 30 candidates, totalling 150 fits\n"
     ]
    },
    {
     "name": "stderr",
     "output_type": "stream",
     "text": [
      "/home/rfrelpe/.local/lib/python3.8/site-packages/sklearn/linear_model/_coordinate_descent.py:634: ConvergenceWarning: Objective did not converge. You might want to increase the number of iterations, check the scale of the features or consider increasing regularisation. Duality gap: 2.267e-02, tolerance: 1.171e-02\n",
      "  model = cd_fast.enet_coordinate_descent(\n",
      "/home/rfrelpe/.local/lib/python3.8/site-packages/sklearn/linear_model/_coordinate_descent.py:634: ConvergenceWarning: Objective did not converge. You might want to increase the number of iterations, check the scale of the features or consider increasing regularisation. Duality gap: 4.683e-02, tolerance: 1.376e-02\n",
      "  model = cd_fast.enet_coordinate_descent(\n",
      "/home/rfrelpe/.local/lib/python3.8/site-packages/sklearn/linear_model/_coordinate_descent.py:634: ConvergenceWarning: Objective did not converge. You might want to increase the number of iterations, check the scale of the features or consider increasing regularisation. Duality gap: 3.985e-02, tolerance: 1.189e-02\n",
      "  model = cd_fast.enet_coordinate_descent(\n",
      "/home/rfrelpe/.local/lib/python3.8/site-packages/sklearn/linear_model/_coordinate_descent.py:634: ConvergenceWarning: Objective did not converge. You might want to increase the number of iterations, check the scale of the features or consider increasing regularisation. Duality gap: 1.338e-02, tolerance: 1.117e-02\n",
      "  model = cd_fast.enet_coordinate_descent(\n",
      "/home/rfrelpe/.local/lib/python3.8/site-packages/sklearn/linear_model/_coordinate_descent.py:634: ConvergenceWarning: Objective did not converge. You might want to increase the number of iterations, check the scale of the features or consider increasing regularisation. Duality gap: 3.139e-02, tolerance: 1.319e-02\n",
      "  model = cd_fast.enet_coordinate_descent(\n",
      "/home/rfrelpe/.local/lib/python3.8/site-packages/sklearn/linear_model/_coordinate_descent.py:634: ConvergenceWarning: Objective did not converge. You might want to increase the number of iterations, check the scale of the features or consider increasing regularisation. Duality gap: 1.160e-01, tolerance: 1.171e-02\n",
      "  model = cd_fast.enet_coordinate_descent(\n",
      "/home/rfrelpe/.local/lib/python3.8/site-packages/sklearn/linear_model/_coordinate_descent.py:634: ConvergenceWarning: Objective did not converge. You might want to increase the number of iterations, check the scale of the features or consider increasing regularisation. Duality gap: 9.221e-02, tolerance: 1.376e-02\n",
      "  model = cd_fast.enet_coordinate_descent(\n",
      "/home/rfrelpe/.local/lib/python3.8/site-packages/sklearn/linear_model/_coordinate_descent.py:634: ConvergenceWarning: Objective did not converge. You might want to increase the number of iterations, check the scale of the features or consider increasing regularisation. Duality gap: 8.920e-02, tolerance: 1.189e-02\n",
      "  model = cd_fast.enet_coordinate_descent(\n",
      "/home/rfrelpe/.local/lib/python3.8/site-packages/sklearn/linear_model/_coordinate_descent.py:634: ConvergenceWarning: Objective did not converge. You might want to increase the number of iterations, check the scale of the features or consider increasing regularisation. Duality gap: 8.568e-02, tolerance: 1.117e-02\n",
      "  model = cd_fast.enet_coordinate_descent(\n",
      "/home/rfrelpe/.local/lib/python3.8/site-packages/sklearn/linear_model/_coordinate_descent.py:634: ConvergenceWarning: Objective did not converge. You might want to increase the number of iterations, check the scale of the features or consider increasing regularisation. Duality gap: 7.950e-02, tolerance: 1.319e-02\n",
      "  model = cd_fast.enet_coordinate_descent(\n",
      "/home/rfrelpe/.local/lib/python3.8/site-packages/sklearn/linear_model/_coordinate_descent.py:634: ConvergenceWarning: Objective did not converge. You might want to increase the number of iterations, check the scale of the features or consider increasing regularisation. Duality gap: 1.030e+00, tolerance: 1.171e-02\n",
      "  model = cd_fast.enet_coordinate_descent(\n",
      "/home/rfrelpe/.local/lib/python3.8/site-packages/sklearn/linear_model/_coordinate_descent.py:634: ConvergenceWarning: Objective did not converge. You might want to increase the number of iterations, check the scale of the features or consider increasing regularisation. Duality gap: 1.150e+00, tolerance: 1.376e-02\n",
      "  model = cd_fast.enet_coordinate_descent(\n",
      "/home/rfrelpe/.local/lib/python3.8/site-packages/sklearn/linear_model/_coordinate_descent.py:634: ConvergenceWarning: Objective did not converge. You might want to increase the number of iterations, check the scale of the features or consider increasing regularisation. Duality gap: 8.121e-01, tolerance: 1.189e-02\n",
      "  model = cd_fast.enet_coordinate_descent(\n",
      "/home/rfrelpe/.local/lib/python3.8/site-packages/sklearn/linear_model/_coordinate_descent.py:634: ConvergenceWarning: Objective did not converge. You might want to increase the number of iterations, check the scale of the features or consider increasing regularisation. Duality gap: 8.449e-01, tolerance: 1.117e-02\n",
      "  model = cd_fast.enet_coordinate_descent(\n",
      "/home/rfrelpe/.local/lib/python3.8/site-packages/sklearn/linear_model/_coordinate_descent.py:634: ConvergenceWarning: Objective did not converge. You might want to increase the number of iterations, check the scale of the features or consider increasing regularisation. Duality gap: 1.006e+00, tolerance: 1.319e-02\n",
      "  model = cd_fast.enet_coordinate_descent(\n",
      "/home/rfrelpe/.local/lib/python3.8/site-packages/sklearn/linear_model/_coordinate_descent.py:634: ConvergenceWarning: Objective did not converge. You might want to increase the number of iterations, check the scale of the features or consider increasing regularisation. Duality gap: 2.763e-01, tolerance: 1.171e-02\n",
      "  model = cd_fast.enet_coordinate_descent(\n",
      "/home/rfrelpe/.local/lib/python3.8/site-packages/sklearn/linear_model/_coordinate_descent.py:634: ConvergenceWarning: Objective did not converge. You might want to increase the number of iterations, check the scale of the features or consider increasing regularisation. Duality gap: 2.961e-01, tolerance: 1.376e-02\n",
      "  model = cd_fast.enet_coordinate_descent(\n",
      "/home/rfrelpe/.local/lib/python3.8/site-packages/sklearn/linear_model/_coordinate_descent.py:634: ConvergenceWarning: Objective did not converge. You might want to increase the number of iterations, check the scale of the features or consider increasing regularisation. Duality gap: 1.403e-01, tolerance: 1.189e-02\n",
      "  model = cd_fast.enet_coordinate_descent(\n",
      "/home/rfrelpe/.local/lib/python3.8/site-packages/sklearn/linear_model/_coordinate_descent.py:634: ConvergenceWarning: Objective did not converge. You might want to increase the number of iterations, check the scale of the features or consider increasing regularisation. Duality gap: 3.688e-01, tolerance: 1.117e-02\n",
      "  model = cd_fast.enet_coordinate_descent(\n",
      "/home/rfrelpe/.local/lib/python3.8/site-packages/sklearn/linear_model/_coordinate_descent.py:634: ConvergenceWarning: Objective did not converge. You might want to increase the number of iterations, check the scale of the features or consider increasing regularisation. Duality gap: 7.636e-01, tolerance: 1.319e-02\n",
      "  model = cd_fast.enet_coordinate_descent(\n",
      "/home/rfrelpe/.local/lib/python3.8/site-packages/sklearn/linear_model/_coordinate_descent.py:634: ConvergenceWarning: Objective did not converge. You might want to increase the number of iterations, check the scale of the features or consider increasing regularisation. Duality gap: 1.247e+00, tolerance: 1.171e-02\n",
      "  model = cd_fast.enet_coordinate_descent(\n",
      "/home/rfrelpe/.local/lib/python3.8/site-packages/sklearn/linear_model/_coordinate_descent.py:634: ConvergenceWarning: Objective did not converge. You might want to increase the number of iterations, check the scale of the features or consider increasing regularisation. Duality gap: 1.279e+00, tolerance: 1.376e-02\n",
      "  model = cd_fast.enet_coordinate_descent(\n",
      "/home/rfrelpe/.local/lib/python3.8/site-packages/sklearn/linear_model/_coordinate_descent.py:634: ConvergenceWarning: Objective did not converge. You might want to increase the number of iterations, check the scale of the features or consider increasing regularisation. Duality gap: 1.201e+00, tolerance: 1.189e-02\n",
      "  model = cd_fast.enet_coordinate_descent(\n",
      "/home/rfrelpe/.local/lib/python3.8/site-packages/sklearn/linear_model/_coordinate_descent.py:634: ConvergenceWarning: Objective did not converge. You might want to increase the number of iterations, check the scale of the features or consider increasing regularisation. Duality gap: 1.172e+00, tolerance: 1.117e-02\n",
      "  model = cd_fast.enet_coordinate_descent(\n",
      "/home/rfrelpe/.local/lib/python3.8/site-packages/sklearn/linear_model/_coordinate_descent.py:634: ConvergenceWarning: Objective did not converge. You might want to increase the number of iterations, check the scale of the features or consider increasing regularisation. Duality gap: 1.153e+00, tolerance: 1.319e-02\n",
      "  model = cd_fast.enet_coordinate_descent(\n",
      "/home/rfrelpe/.local/lib/python3.8/site-packages/sklearn/linear_model/_coordinate_descent.py:634: ConvergenceWarning: Objective did not converge. You might want to increase the number of iterations, check the scale of the features or consider increasing regularisation. Duality gap: 1.177e+00, tolerance: 1.171e-02\n",
      "  model = cd_fast.enet_coordinate_descent(\n",
      "/home/rfrelpe/.local/lib/python3.8/site-packages/sklearn/linear_model/_coordinate_descent.py:634: ConvergenceWarning: Objective did not converge. You might want to increase the number of iterations, check the scale of the features or consider increasing regularisation. Duality gap: 1.145e+00, tolerance: 1.376e-02\n",
      "  model = cd_fast.enet_coordinate_descent(\n",
      "/home/rfrelpe/.local/lib/python3.8/site-packages/sklearn/linear_model/_coordinate_descent.py:634: ConvergenceWarning: Objective did not converge. You might want to increase the number of iterations, check the scale of the features or consider increasing regularisation. Duality gap: 9.372e-01, tolerance: 1.189e-02\n",
      "  model = cd_fast.enet_coordinate_descent(\n",
      "/home/rfrelpe/.local/lib/python3.8/site-packages/sklearn/linear_model/_coordinate_descent.py:634: ConvergenceWarning: Objective did not converge. You might want to increase the number of iterations, check the scale of the features or consider increasing regularisation. Duality gap: 1.135e+00, tolerance: 1.117e-02\n",
      "  model = cd_fast.enet_coordinate_descent(\n",
      "/home/rfrelpe/.local/lib/python3.8/site-packages/sklearn/linear_model/_coordinate_descent.py:634: ConvergenceWarning: Objective did not converge. You might want to increase the number of iterations, check the scale of the features or consider increasing regularisation. Duality gap: 1.116e+00, tolerance: 1.319e-02\n",
      "  model = cd_fast.enet_coordinate_descent(\n"
     ]
    },
    {
     "name": "stderr",
     "output_type": "stream",
     "text": [
      "/home/rfrelpe/.local/lib/python3.8/site-packages/sklearn/linear_model/_coordinate_descent.py:634: ConvergenceWarning: Objective did not converge. You might want to increase the number of iterations, check the scale of the features or consider increasing regularisation. Duality gap: 1.045e+00, tolerance: 1.171e-02\n",
      "  model = cd_fast.enet_coordinate_descent(\n",
      "/home/rfrelpe/.local/lib/python3.8/site-packages/sklearn/linear_model/_coordinate_descent.py:634: ConvergenceWarning: Objective did not converge. You might want to increase the number of iterations, check the scale of the features or consider increasing regularisation. Duality gap: 1.068e+00, tolerance: 1.376e-02\n",
      "  model = cd_fast.enet_coordinate_descent(\n",
      "/home/rfrelpe/.local/lib/python3.8/site-packages/sklearn/linear_model/_coordinate_descent.py:634: ConvergenceWarning: Objective did not converge. You might want to increase the number of iterations, check the scale of the features or consider increasing regularisation. Duality gap: 8.935e-01, tolerance: 1.189e-02\n",
      "  model = cd_fast.enet_coordinate_descent(\n",
      "/home/rfrelpe/.local/lib/python3.8/site-packages/sklearn/linear_model/_coordinate_descent.py:634: ConvergenceWarning: Objective did not converge. You might want to increase the number of iterations, check the scale of the features or consider increasing regularisation. Duality gap: 1.095e-01, tolerance: 1.117e-02\n",
      "  model = cd_fast.enet_coordinate_descent(\n",
      "/home/rfrelpe/.local/lib/python3.8/site-packages/sklearn/linear_model/_coordinate_descent.py:634: ConvergenceWarning: Objective did not converge. You might want to increase the number of iterations, check the scale of the features or consider increasing regularisation. Duality gap: 9.775e-02, tolerance: 1.319e-02\n",
      "  model = cd_fast.enet_coordinate_descent(\n",
      "/home/rfrelpe/.local/lib/python3.8/site-packages/sklearn/linear_model/_coordinate_descent.py:634: ConvergenceWarning: Objective did not converge. You might want to increase the number of iterations, check the scale of the features or consider increasing regularisation. Duality gap: 1.265e+00, tolerance: 1.171e-02\n",
      "  model = cd_fast.enet_coordinate_descent(\n",
      "/home/rfrelpe/.local/lib/python3.8/site-packages/sklearn/linear_model/_coordinate_descent.py:634: ConvergenceWarning: Objective did not converge. You might want to increase the number of iterations, check the scale of the features or consider increasing regularisation. Duality gap: 1.292e+00, tolerance: 1.376e-02\n",
      "  model = cd_fast.enet_coordinate_descent(\n",
      "/home/rfrelpe/.local/lib/python3.8/site-packages/sklearn/linear_model/_coordinate_descent.py:634: ConvergenceWarning: Objective did not converge. You might want to increase the number of iterations, check the scale of the features or consider increasing regularisation. Duality gap: 1.236e+00, tolerance: 1.189e-02\n",
      "  model = cd_fast.enet_coordinate_descent(\n",
      "/home/rfrelpe/.local/lib/python3.8/site-packages/sklearn/linear_model/_coordinate_descent.py:634: ConvergenceWarning: Objective did not converge. You might want to increase the number of iterations, check the scale of the features or consider increasing regularisation. Duality gap: 1.200e+00, tolerance: 1.117e-02\n",
      "  model = cd_fast.enet_coordinate_descent(\n",
      "/home/rfrelpe/.local/lib/python3.8/site-packages/sklearn/linear_model/_coordinate_descent.py:634: ConvergenceWarning: Objective did not converge. You might want to increase the number of iterations, check the scale of the features or consider increasing regularisation. Duality gap: 1.165e+00, tolerance: 1.319e-02\n",
      "  model = cd_fast.enet_coordinate_descent(\n",
      "/home/rfrelpe/.local/lib/python3.8/site-packages/sklearn/linear_model/_coordinate_descent.py:634: ConvergenceWarning: Objective did not converge. You might want to increase the number of iterations, check the scale of the features or consider increasing regularisation. Duality gap: 1.252e+00, tolerance: 1.171e-02\n",
      "  model = cd_fast.enet_coordinate_descent(\n",
      "/home/rfrelpe/.local/lib/python3.8/site-packages/sklearn/linear_model/_coordinate_descent.py:634: ConvergenceWarning: Objective did not converge. You might want to increase the number of iterations, check the scale of the features or consider increasing regularisation. Duality gap: 1.273e+00, tolerance: 1.376e-02\n",
      "  model = cd_fast.enet_coordinate_descent(\n",
      "/home/rfrelpe/.local/lib/python3.8/site-packages/sklearn/linear_model/_coordinate_descent.py:634: ConvergenceWarning: Objective did not converge. You might want to increase the number of iterations, check the scale of the features or consider increasing regularisation. Duality gap: 1.211e+00, tolerance: 1.189e-02\n",
      "  model = cd_fast.enet_coordinate_descent(\n",
      "/home/rfrelpe/.local/lib/python3.8/site-packages/sklearn/linear_model/_coordinate_descent.py:634: ConvergenceWarning: Objective did not converge. You might want to increase the number of iterations, check the scale of the features or consider increasing regularisation. Duality gap: 1.189e+00, tolerance: 1.117e-02\n",
      "  model = cd_fast.enet_coordinate_descent(\n",
      "/home/rfrelpe/.local/lib/python3.8/site-packages/sklearn/linear_model/_coordinate_descent.py:634: ConvergenceWarning: Objective did not converge. You might want to increase the number of iterations, check the scale of the features or consider increasing regularisation. Duality gap: 1.139e+00, tolerance: 1.319e-02\n",
      "  model = cd_fast.enet_coordinate_descent(\n",
      "/home/rfrelpe/.local/lib/python3.8/site-packages/sklearn/linear_model/_coordinate_descent.py:634: ConvergenceWarning: Objective did not converge. You might want to increase the number of iterations, check the scale of the features or consider increasing regularisation. Duality gap: 1.236e+00, tolerance: 1.171e-02\n",
      "  model = cd_fast.enet_coordinate_descent(\n",
      "/home/rfrelpe/.local/lib/python3.8/site-packages/sklearn/linear_model/_coordinate_descent.py:634: ConvergenceWarning: Objective did not converge. You might want to increase the number of iterations, check the scale of the features or consider increasing regularisation. Duality gap: 1.264e+00, tolerance: 1.376e-02\n",
      "  model = cd_fast.enet_coordinate_descent(\n",
      "/home/rfrelpe/.local/lib/python3.8/site-packages/sklearn/linear_model/_coordinate_descent.py:634: ConvergenceWarning: Objective did not converge. You might want to increase the number of iterations, check the scale of the features or consider increasing regularisation. Duality gap: 1.213e+00, tolerance: 1.189e-02\n",
      "  model = cd_fast.enet_coordinate_descent(\n",
      "/home/rfrelpe/.local/lib/python3.8/site-packages/sklearn/linear_model/_coordinate_descent.py:634: ConvergenceWarning: Objective did not converge. You might want to increase the number of iterations, check the scale of the features or consider increasing regularisation. Duality gap: 1.020e+00, tolerance: 1.117e-02\n",
      "  model = cd_fast.enet_coordinate_descent(\n",
      "/home/rfrelpe/.local/lib/python3.8/site-packages/sklearn/linear_model/_coordinate_descent.py:634: ConvergenceWarning: Objective did not converge. You might want to increase the number of iterations, check the scale of the features or consider increasing regularisation. Duality gap: 8.778e-01, tolerance: 1.319e-02\n",
      "  model = cd_fast.enet_coordinate_descent(\n",
      "/home/rfrelpe/.local/lib/python3.8/site-packages/sklearn/linear_model/_coordinate_descent.py:634: ConvergenceWarning: Objective did not converge. You might want to increase the number of iterations, check the scale of the features or consider increasing regularisation. Duality gap: 1.267e+00, tolerance: 1.171e-02\n",
      "  model = cd_fast.enet_coordinate_descent(\n",
      "/home/rfrelpe/.local/lib/python3.8/site-packages/sklearn/linear_model/_coordinate_descent.py:634: ConvergenceWarning: Objective did not converge. You might want to increase the number of iterations, check the scale of the features or consider increasing regularisation. Duality gap: 1.293e+00, tolerance: 1.376e-02\n",
      "  model = cd_fast.enet_coordinate_descent(\n",
      "/home/rfrelpe/.local/lib/python3.8/site-packages/sklearn/linear_model/_coordinate_descent.py:634: ConvergenceWarning: Objective did not converge. You might want to increase the number of iterations, check the scale of the features or consider increasing regularisation. Duality gap: 1.239e+00, tolerance: 1.189e-02\n",
      "  model = cd_fast.enet_coordinate_descent(\n",
      "/home/rfrelpe/.local/lib/python3.8/site-packages/sklearn/linear_model/_coordinate_descent.py:634: ConvergenceWarning: Objective did not converge. You might want to increase the number of iterations, check the scale of the features or consider increasing regularisation. Duality gap: 1.203e+00, tolerance: 1.117e-02\n",
      "  model = cd_fast.enet_coordinate_descent(\n",
      "/home/rfrelpe/.local/lib/python3.8/site-packages/sklearn/linear_model/_coordinate_descent.py:634: ConvergenceWarning: Objective did not converge. You might want to increase the number of iterations, check the scale of the features or consider increasing regularisation. Duality gap: 1.167e+00, tolerance: 1.319e-02\n",
      "  model = cd_fast.enet_coordinate_descent(\n",
      "/home/rfrelpe/.local/lib/python3.8/site-packages/sklearn/linear_model/_coordinate_descent.py:634: ConvergenceWarning: Objective did not converge. You might want to increase the number of iterations, check the scale of the features or consider increasing regularisation. Duality gap: 1.258e+00, tolerance: 1.171e-02\n",
      "  model = cd_fast.enet_coordinate_descent(\n",
      "/home/rfrelpe/.local/lib/python3.8/site-packages/sklearn/linear_model/_coordinate_descent.py:634: ConvergenceWarning: Objective did not converge. You might want to increase the number of iterations, check the scale of the features or consider increasing regularisation. Duality gap: 1.284e+00, tolerance: 1.376e-02\n",
      "  model = cd_fast.enet_coordinate_descent(\n",
      "/home/rfrelpe/.local/lib/python3.8/site-packages/sklearn/linear_model/_coordinate_descent.py:634: ConvergenceWarning: Objective did not converge. You might want to increase the number of iterations, check the scale of the features or consider increasing regularisation. Duality gap: 1.235e+00, tolerance: 1.189e-02\n",
      "  model = cd_fast.enet_coordinate_descent(\n",
      "/home/rfrelpe/.local/lib/python3.8/site-packages/sklearn/linear_model/_coordinate_descent.py:634: ConvergenceWarning: Objective did not converge. You might want to increase the number of iterations, check the scale of the features or consider increasing regularisation. Duality gap: 1.194e+00, tolerance: 1.117e-02\n",
      "  model = cd_fast.enet_coordinate_descent(\n",
      "/home/rfrelpe/.local/lib/python3.8/site-packages/sklearn/linear_model/_coordinate_descent.py:634: ConvergenceWarning: Objective did not converge. You might want to increase the number of iterations, check the scale of the features or consider increasing regularisation. Duality gap: 1.141e+00, tolerance: 1.319e-02\n",
      "  model = cd_fast.enet_coordinate_descent(\n"
     ]
    },
    {
     "name": "stderr",
     "output_type": "stream",
     "text": [
      "/home/rfrelpe/.local/lib/python3.8/site-packages/sklearn/linear_model/_coordinate_descent.py:634: ConvergenceWarning: Objective did not converge. You might want to increase the number of iterations, check the scale of the features or consider increasing regularisation. Duality gap: 1.252e+00, tolerance: 1.171e-02\n",
      "  model = cd_fast.enet_coordinate_descent(\n",
      "/home/rfrelpe/.local/lib/python3.8/site-packages/sklearn/linear_model/_coordinate_descent.py:634: ConvergenceWarning: Objective did not converge. You might want to increase the number of iterations, check the scale of the features or consider increasing regularisation. Duality gap: 1.279e+00, tolerance: 1.376e-02\n",
      "  model = cd_fast.enet_coordinate_descent(\n",
      "/home/rfrelpe/.local/lib/python3.8/site-packages/sklearn/linear_model/_coordinate_descent.py:634: ConvergenceWarning: Objective did not converge. You might want to increase the number of iterations, check the scale of the features or consider increasing regularisation. Duality gap: 1.234e+00, tolerance: 1.189e-02\n",
      "  model = cd_fast.enet_coordinate_descent(\n",
      "/home/rfrelpe/.local/lib/python3.8/site-packages/sklearn/linear_model/_coordinate_descent.py:634: ConvergenceWarning: Objective did not converge. You might want to increase the number of iterations, check the scale of the features or consider increasing regularisation. Duality gap: 1.175e+00, tolerance: 1.117e-02\n",
      "  model = cd_fast.enet_coordinate_descent(\n",
      "/home/rfrelpe/.local/lib/python3.8/site-packages/sklearn/linear_model/_coordinate_descent.py:634: ConvergenceWarning: Objective did not converge. You might want to increase the number of iterations, check the scale of the features or consider increasing regularisation. Duality gap: 1.109e+00, tolerance: 1.319e-02\n",
      "  model = cd_fast.enet_coordinate_descent(\n",
      "/home/rfrelpe/.local/lib/python3.8/site-packages/sklearn/linear_model/_coordinate_descent.py:634: ConvergenceWarning: Objective did not converge. You might want to increase the number of iterations, check the scale of the features or consider increasing regularisation. Duality gap: 1.267e+00, tolerance: 1.171e-02\n",
      "  model = cd_fast.enet_coordinate_descent(\n",
      "/home/rfrelpe/.local/lib/python3.8/site-packages/sklearn/linear_model/_coordinate_descent.py:634: ConvergenceWarning: Objective did not converge. You might want to increase the number of iterations, check the scale of the features or consider increasing regularisation. Duality gap: 1.293e+00, tolerance: 1.376e-02\n",
      "  model = cd_fast.enet_coordinate_descent(\n",
      "/home/rfrelpe/.local/lib/python3.8/site-packages/sklearn/linear_model/_coordinate_descent.py:634: ConvergenceWarning: Objective did not converge. You might want to increase the number of iterations, check the scale of the features or consider increasing regularisation. Duality gap: 1.239e+00, tolerance: 1.189e-02\n",
      "  model = cd_fast.enet_coordinate_descent(\n",
      "/home/rfrelpe/.local/lib/python3.8/site-packages/sklearn/linear_model/_coordinate_descent.py:634: ConvergenceWarning: Objective did not converge. You might want to increase the number of iterations, check the scale of the features or consider increasing regularisation. Duality gap: 1.203e+00, tolerance: 1.117e-02\n",
      "  model = cd_fast.enet_coordinate_descent(\n",
      "/home/rfrelpe/.local/lib/python3.8/site-packages/sklearn/linear_model/_coordinate_descent.py:634: ConvergenceWarning: Objective did not converge. You might want to increase the number of iterations, check the scale of the features or consider increasing regularisation. Duality gap: 1.167e+00, tolerance: 1.319e-02\n",
      "  model = cd_fast.enet_coordinate_descent(\n",
      "/home/rfrelpe/.local/lib/python3.8/site-packages/sklearn/linear_model/_coordinate_descent.py:634: ConvergenceWarning: Objective did not converge. You might want to increase the number of iterations, check the scale of the features or consider increasing regularisation. Duality gap: 1.259e+00, tolerance: 1.171e-02\n",
      "  model = cd_fast.enet_coordinate_descent(\n",
      "/home/rfrelpe/.local/lib/python3.8/site-packages/sklearn/linear_model/_coordinate_descent.py:634: ConvergenceWarning: Objective did not converge. You might want to increase the number of iterations, check the scale of the features or consider increasing regularisation. Duality gap: 1.285e+00, tolerance: 1.376e-02\n",
      "  model = cd_fast.enet_coordinate_descent(\n",
      "/home/rfrelpe/.local/lib/python3.8/site-packages/sklearn/linear_model/_coordinate_descent.py:634: ConvergenceWarning: Objective did not converge. You might want to increase the number of iterations, check the scale of the features or consider increasing regularisation. Duality gap: 1.238e+00, tolerance: 1.189e-02\n",
      "  model = cd_fast.enet_coordinate_descent(\n",
      "/home/rfrelpe/.local/lib/python3.8/site-packages/sklearn/linear_model/_coordinate_descent.py:634: ConvergenceWarning: Objective did not converge. You might want to increase the number of iterations, check the scale of the features or consider increasing regularisation. Duality gap: 1.194e+00, tolerance: 1.117e-02\n",
      "  model = cd_fast.enet_coordinate_descent(\n",
      "/home/rfrelpe/.local/lib/python3.8/site-packages/sklearn/linear_model/_coordinate_descent.py:634: ConvergenceWarning: Objective did not converge. You might want to increase the number of iterations, check the scale of the features or consider increasing regularisation. Duality gap: 1.141e+00, tolerance: 1.319e-02\n",
      "  model = cd_fast.enet_coordinate_descent(\n",
      "/home/rfrelpe/.local/lib/python3.8/site-packages/sklearn/linear_model/_coordinate_descent.py:634: ConvergenceWarning: Objective did not converge. You might want to increase the number of iterations, check the scale of the features or consider increasing regularisation. Duality gap: 1.253e+00, tolerance: 1.171e-02\n",
      "  model = cd_fast.enet_coordinate_descent(\n",
      "/home/rfrelpe/.local/lib/python3.8/site-packages/sklearn/linear_model/_coordinate_descent.py:634: ConvergenceWarning: Objective did not converge. You might want to increase the number of iterations, check the scale of the features or consider increasing regularisation. Duality gap: 1.280e+00, tolerance: 1.376e-02\n",
      "  model = cd_fast.enet_coordinate_descent(\n",
      "/home/rfrelpe/.local/lib/python3.8/site-packages/sklearn/linear_model/_coordinate_descent.py:634: ConvergenceWarning: Objective did not converge. You might want to increase the number of iterations, check the scale of the features or consider increasing regularisation. Duality gap: 1.236e+00, tolerance: 1.189e-02\n",
      "  model = cd_fast.enet_coordinate_descent(\n",
      "/home/rfrelpe/.local/lib/python3.8/site-packages/sklearn/linear_model/_coordinate_descent.py:634: ConvergenceWarning: Objective did not converge. You might want to increase the number of iterations, check the scale of the features or consider increasing regularisation. Duality gap: 1.189e+00, tolerance: 1.117e-02\n",
      "  model = cd_fast.enet_coordinate_descent(\n",
      "/home/rfrelpe/.local/lib/python3.8/site-packages/sklearn/linear_model/_coordinate_descent.py:634: ConvergenceWarning: Objective did not converge. You might want to increase the number of iterations, check the scale of the features or consider increasing regularisation. Duality gap: 1.127e+00, tolerance: 1.319e-02\n",
      "  model = cd_fast.enet_coordinate_descent(\n"
     ]
    },
    {
     "data": {
      "text/html": [
       "<style>#sk-container-id-1 {color: black;background-color: white;}#sk-container-id-1 pre{padding: 0;}#sk-container-id-1 div.sk-toggleable {background-color: white;}#sk-container-id-1 label.sk-toggleable__label {cursor: pointer;display: block;width: 100%;margin-bottom: 0;padding: 0.3em;box-sizing: border-box;text-align: center;}#sk-container-id-1 label.sk-toggleable__label-arrow:before {content: \"▸\";float: left;margin-right: 0.25em;color: #696969;}#sk-container-id-1 label.sk-toggleable__label-arrow:hover:before {color: black;}#sk-container-id-1 div.sk-estimator:hover label.sk-toggleable__label-arrow:before {color: black;}#sk-container-id-1 div.sk-toggleable__content {max-height: 0;max-width: 0;overflow: hidden;text-align: left;background-color: #f0f8ff;}#sk-container-id-1 div.sk-toggleable__content pre {margin: 0.2em;color: black;border-radius: 0.25em;background-color: #f0f8ff;}#sk-container-id-1 input.sk-toggleable__control:checked~div.sk-toggleable__content {max-height: 200px;max-width: 100%;overflow: auto;}#sk-container-id-1 input.sk-toggleable__control:checked~label.sk-toggleable__label-arrow:before {content: \"▾\";}#sk-container-id-1 div.sk-estimator input.sk-toggleable__control:checked~label.sk-toggleable__label {background-color: #d4ebff;}#sk-container-id-1 div.sk-label input.sk-toggleable__control:checked~label.sk-toggleable__label {background-color: #d4ebff;}#sk-container-id-1 input.sk-hidden--visually {border: 0;clip: rect(1px 1px 1px 1px);clip: rect(1px, 1px, 1px, 1px);height: 1px;margin: -1px;overflow: hidden;padding: 0;position: absolute;width: 1px;}#sk-container-id-1 div.sk-estimator {font-family: monospace;background-color: #f0f8ff;border: 1px dotted black;border-radius: 0.25em;box-sizing: border-box;margin-bottom: 0.5em;}#sk-container-id-1 div.sk-estimator:hover {background-color: #d4ebff;}#sk-container-id-1 div.sk-parallel-item::after {content: \"\";width: 100%;border-bottom: 1px solid gray;flex-grow: 1;}#sk-container-id-1 div.sk-label:hover label.sk-toggleable__label {background-color: #d4ebff;}#sk-container-id-1 div.sk-serial::before {content: \"\";position: absolute;border-left: 1px solid gray;box-sizing: border-box;top: 0;bottom: 0;left: 50%;z-index: 0;}#sk-container-id-1 div.sk-serial {display: flex;flex-direction: column;align-items: center;background-color: white;padding-right: 0.2em;padding-left: 0.2em;position: relative;}#sk-container-id-1 div.sk-item {position: relative;z-index: 1;}#sk-container-id-1 div.sk-parallel {display: flex;align-items: stretch;justify-content: center;background-color: white;position: relative;}#sk-container-id-1 div.sk-item::before, #sk-container-id-1 div.sk-parallel-item::before {content: \"\";position: absolute;border-left: 1px solid gray;box-sizing: border-box;top: 0;bottom: 0;left: 50%;z-index: -1;}#sk-container-id-1 div.sk-parallel-item {display: flex;flex-direction: column;z-index: 1;position: relative;background-color: white;}#sk-container-id-1 div.sk-parallel-item:first-child::after {align-self: flex-end;width: 50%;}#sk-container-id-1 div.sk-parallel-item:last-child::after {align-self: flex-start;width: 50%;}#sk-container-id-1 div.sk-parallel-item:only-child::after {width: 0;}#sk-container-id-1 div.sk-dashed-wrapped {border: 1px dashed gray;margin: 0 0.4em 0.5em 0.4em;box-sizing: border-box;padding-bottom: 0.4em;background-color: white;}#sk-container-id-1 div.sk-label label {font-family: monospace;font-weight: bold;display: inline-block;line-height: 1.2em;}#sk-container-id-1 div.sk-label-container {text-align: center;}#sk-container-id-1 div.sk-container {/* jupyter's `normalize.less` sets `[hidden] { display: none; }` but bootstrap.min.css set `[hidden] { display: none !important; }` so we also need the `!important` here to be able to override the default hidden behavior on the sphinx rendered scikit-learn.org. See: https://github.com/scikit-learn/scikit-learn/issues/21755 */display: inline-block !important;position: relative;}#sk-container-id-1 div.sk-text-repr-fallback {display: none;}</style><div id=\"sk-container-id-1\" class=\"sk-top-container\"><div class=\"sk-text-repr-fallback\"><pre>GridSearchCV(cv=5, estimator=Lasso(fit_intercept=False),\n",
       "             param_grid={&#x27;alpha&#x27;: [10000, 0.1, 0.01, 0.001, 0.0001, 1e-05,\n",
       "                                   1e-06, 1e-07, 1e-08, 1e-09],\n",
       "                         &#x27;max_iter&#x27;: [1000, 10000, 100000]},\n",
       "             return_train_score=True, scoring=&#x27;neg_mean_squared_error&#x27;,\n",
       "             verbose=1)</pre><b>In a Jupyter environment, please rerun this cell to show the HTML representation or trust the notebook. <br />On GitHub, the HTML representation is unable to render, please try loading this page with nbviewer.org.</b></div><div class=\"sk-container\" hidden><div class=\"sk-item sk-dashed-wrapped\"><div class=\"sk-label-container\"><div class=\"sk-label sk-toggleable\"><input class=\"sk-toggleable__control sk-hidden--visually\" id=\"sk-estimator-id-1\" type=\"checkbox\" ><label for=\"sk-estimator-id-1\" class=\"sk-toggleable__label sk-toggleable__label-arrow\">GridSearchCV</label><div class=\"sk-toggleable__content\"><pre>GridSearchCV(cv=5, estimator=Lasso(fit_intercept=False),\n",
       "             param_grid={&#x27;alpha&#x27;: [10000, 0.1, 0.01, 0.001, 0.0001, 1e-05,\n",
       "                                   1e-06, 1e-07, 1e-08, 1e-09],\n",
       "                         &#x27;max_iter&#x27;: [1000, 10000, 100000]},\n",
       "             return_train_score=True, scoring=&#x27;neg_mean_squared_error&#x27;,\n",
       "             verbose=1)</pre></div></div></div><div class=\"sk-parallel\"><div class=\"sk-parallel-item\"><div class=\"sk-item\"><div class=\"sk-label-container\"><div class=\"sk-label sk-toggleable\"><input class=\"sk-toggleable__control sk-hidden--visually\" id=\"sk-estimator-id-2\" type=\"checkbox\" ><label for=\"sk-estimator-id-2\" class=\"sk-toggleable__label sk-toggleable__label-arrow\">estimator: Lasso</label><div class=\"sk-toggleable__content\"><pre>Lasso(fit_intercept=False)</pre></div></div></div><div class=\"sk-serial\"><div class=\"sk-item\"><div class=\"sk-estimator sk-toggleable\"><input class=\"sk-toggleable__control sk-hidden--visually\" id=\"sk-estimator-id-3\" type=\"checkbox\" ><label for=\"sk-estimator-id-3\" class=\"sk-toggleable__label sk-toggleable__label-arrow\">Lasso</label><div class=\"sk-toggleable__content\"><pre>Lasso(fit_intercept=False)</pre></div></div></div></div></div></div></div></div></div></div>"
      ],
      "text/plain": [
       "GridSearchCV(cv=5, estimator=Lasso(fit_intercept=False),\n",
       "             param_grid={'alpha': [10000, 0.1, 0.01, 0.001, 0.0001, 1e-05,\n",
       "                                   1e-06, 1e-07, 1e-08, 1e-09],\n",
       "                         'max_iter': [1000, 10000, 100000]},\n",
       "             return_train_score=True, scoring='neg_mean_squared_error',\n",
       "             verbose=1)"
      ]
     },
     "execution_count": 7,
     "metadata": {},
     "output_type": "execute_result"
    }
   ],
   "source": [
    "# Возьмём следующий пример:\n",
    "xs = np.arange(0, 1, 0.01).reshape((-1, 1))\n",
    "noise = np.random.normal(0., 0.2, size = xs.shape[0]).reshape((-1, 1))\n",
    "ys = np.sin(20*xs) + np.sin(10*xs) + np.sin(40*xs) + noise\n",
    "\n",
    "def make_sin_matrix(x, max_order):\n",
    "    X = np.ones(x.shape)\n",
    "    for k in range(1, max_order + 1):\n",
    "        X = np.concatenate([X, np.sin(k*x)], axis = 1)\n",
    "    return X\n",
    "\n",
    "gs.fit(make_sin_matrix(xs, 50), ys)"
   ]
  },
  {
   "cell_type": "code",
   "execution_count": 8,
   "metadata": {
    "ExecuteTime": {
     "end_time": "2023-10-10T19:24:46.871396Z",
     "start_time": "2023-10-10T19:24:46.867570Z"
    },
    "slideshow": {
     "slide_type": "fragment"
    }
   },
   "outputs": [
    {
     "data": {
      "text/plain": [
       "{'alpha': 0.01, 'max_iter': 1000}"
      ]
     },
     "execution_count": 8,
     "metadata": {},
     "output_type": "execute_result"
    }
   ],
   "source": [
    "gs.best_params_"
   ]
  },
  {
   "cell_type": "code",
   "execution_count": 9,
   "metadata": {
    "ExecuteTime": {
     "end_time": "2023-10-10T19:24:46.878134Z",
     "start_time": "2023-10-10T19:24:46.874414Z"
    },
    "slideshow": {
     "slide_type": "fragment"
    }
   },
   "outputs": [
    {
     "data": {
      "text/plain": [
       "-0.05930858768400178"
      ]
     },
     "execution_count": 9,
     "metadata": {},
     "output_type": "execute_result"
    }
   ],
   "source": [
    "gs.best_score_"
   ]
  },
  {
   "cell_type": "code",
   "execution_count": 10,
   "metadata": {
    "ExecuteTime": {
     "end_time": "2023-10-10T19:24:47.156176Z",
     "start_time": "2023-10-10T19:24:46.880269Z"
    },
    "slideshow": {
     "slide_type": "fragment"
    }
   },
   "outputs": [
    {
     "data": {
      "text/html": [
       "<div>\n",
       "<style scoped>\n",
       "    .dataframe tbody tr th:only-of-type {\n",
       "        vertical-align: middle;\n",
       "    }\n",
       "\n",
       "    .dataframe tbody tr th {\n",
       "        vertical-align: top;\n",
       "    }\n",
       "\n",
       "    .dataframe thead th {\n",
       "        text-align: right;\n",
       "    }\n",
       "</style>\n",
       "<table border=\"1\" class=\"dataframe\">\n",
       "  <thead>\n",
       "    <tr style=\"text-align: right;\">\n",
       "      <th></th>\n",
       "      <th>alpha</th>\n",
       "      <th>max_iter</th>\n",
       "      <th>test_score</th>\n",
       "    </tr>\n",
       "  </thead>\n",
       "  <tbody>\n",
       "    <tr>\n",
       "      <th>0</th>\n",
       "      <td>1.000000e+04</td>\n",
       "      <td>1000</td>\n",
       "      <td>-1.543034</td>\n",
       "    </tr>\n",
       "    <tr>\n",
       "      <th>1</th>\n",
       "      <td>1.000000e+04</td>\n",
       "      <td>10000</td>\n",
       "      <td>-1.543034</td>\n",
       "    </tr>\n",
       "    <tr>\n",
       "      <th>2</th>\n",
       "      <td>1.000000e+04</td>\n",
       "      <td>100000</td>\n",
       "      <td>-1.543034</td>\n",
       "    </tr>\n",
       "    <tr>\n",
       "      <th>3</th>\n",
       "      <td>1.000000e-01</td>\n",
       "      <td>1000</td>\n",
       "      <td>-0.316938</td>\n",
       "    </tr>\n",
       "    <tr>\n",
       "      <th>4</th>\n",
       "      <td>1.000000e-01</td>\n",
       "      <td>10000</td>\n",
       "      <td>-0.316938</td>\n",
       "    </tr>\n",
       "    <tr>\n",
       "      <th>5</th>\n",
       "      <td>1.000000e-01</td>\n",
       "      <td>100000</td>\n",
       "      <td>-0.316938</td>\n",
       "    </tr>\n",
       "    <tr>\n",
       "      <th>6</th>\n",
       "      <td>1.000000e-02</td>\n",
       "      <td>1000</td>\n",
       "      <td>-0.059309</td>\n",
       "    </tr>\n",
       "    <tr>\n",
       "      <th>7</th>\n",
       "      <td>1.000000e-02</td>\n",
       "      <td>10000</td>\n",
       "      <td>-0.059309</td>\n",
       "    </tr>\n",
       "    <tr>\n",
       "      <th>8</th>\n",
       "      <td>1.000000e-02</td>\n",
       "      <td>100000</td>\n",
       "      <td>-0.059309</td>\n",
       "    </tr>\n",
       "    <tr>\n",
       "      <th>9</th>\n",
       "      <td>1.000000e-03</td>\n",
       "      <td>1000</td>\n",
       "      <td>-0.171500</td>\n",
       "    </tr>\n",
       "    <tr>\n",
       "      <th>10</th>\n",
       "      <td>1.000000e-03</td>\n",
       "      <td>10000</td>\n",
       "      <td>-0.130614</td>\n",
       "    </tr>\n",
       "    <tr>\n",
       "      <th>11</th>\n",
       "      <td>1.000000e-03</td>\n",
       "      <td>100000</td>\n",
       "      <td>-0.130614</td>\n",
       "    </tr>\n",
       "    <tr>\n",
       "      <th>12</th>\n",
       "      <td>1.000000e-04</td>\n",
       "      <td>1000</td>\n",
       "      <td>-1.818537</td>\n",
       "    </tr>\n",
       "    <tr>\n",
       "      <th>13</th>\n",
       "      <td>1.000000e-04</td>\n",
       "      <td>10000</td>\n",
       "      <td>-1.400357</td>\n",
       "    </tr>\n",
       "    <tr>\n",
       "      <th>14</th>\n",
       "      <td>1.000000e-04</td>\n",
       "      <td>100000</td>\n",
       "      <td>-1.400357</td>\n",
       "    </tr>\n",
       "    <tr>\n",
       "      <th>15</th>\n",
       "      <td>1.000000e-05</td>\n",
       "      <td>1000</td>\n",
       "      <td>-3.708200</td>\n",
       "    </tr>\n",
       "    <tr>\n",
       "      <th>16</th>\n",
       "      <td>1.000000e-05</td>\n",
       "      <td>10000</td>\n",
       "      <td>-15.442560</td>\n",
       "    </tr>\n",
       "    <tr>\n",
       "      <th>17</th>\n",
       "      <td>1.000000e-05</td>\n",
       "      <td>100000</td>\n",
       "      <td>-24.655014</td>\n",
       "    </tr>\n",
       "    <tr>\n",
       "      <th>18</th>\n",
       "      <td>1.000000e-06</td>\n",
       "      <td>1000</td>\n",
       "      <td>-4.057622</td>\n",
       "    </tr>\n",
       "    <tr>\n",
       "      <th>19</th>\n",
       "      <td>1.000000e-06</td>\n",
       "      <td>10000</td>\n",
       "      <td>-21.501974</td>\n",
       "    </tr>\n",
       "    <tr>\n",
       "      <th>20</th>\n",
       "      <td>1.000000e-06</td>\n",
       "      <td>100000</td>\n",
       "      <td>-72.530283</td>\n",
       "    </tr>\n",
       "    <tr>\n",
       "      <th>21</th>\n",
       "      <td>1.000000e-07</td>\n",
       "      <td>1000</td>\n",
       "      <td>-4.094617</td>\n",
       "    </tr>\n",
       "    <tr>\n",
       "      <th>22</th>\n",
       "      <td>1.000000e-07</td>\n",
       "      <td>10000</td>\n",
       "      <td>-22.153934</td>\n",
       "    </tr>\n",
       "    <tr>\n",
       "      <th>23</th>\n",
       "      <td>1.000000e-07</td>\n",
       "      <td>100000</td>\n",
       "      <td>-88.129566</td>\n",
       "    </tr>\n",
       "    <tr>\n",
       "      <th>24</th>\n",
       "      <td>1.000000e-08</td>\n",
       "      <td>1000</td>\n",
       "      <td>-4.098333</td>\n",
       "    </tr>\n",
       "    <tr>\n",
       "      <th>25</th>\n",
       "      <td>1.000000e-08</td>\n",
       "      <td>10000</td>\n",
       "      <td>-22.219780</td>\n",
       "    </tr>\n",
       "    <tr>\n",
       "      <th>26</th>\n",
       "      <td>1.000000e-08</td>\n",
       "      <td>100000</td>\n",
       "      <td>-89.932478</td>\n",
       "    </tr>\n",
       "    <tr>\n",
       "      <th>27</th>\n",
       "      <td>1.000000e-09</td>\n",
       "      <td>1000</td>\n",
       "      <td>-4.098704</td>\n",
       "    </tr>\n",
       "    <tr>\n",
       "      <th>28</th>\n",
       "      <td>1.000000e-09</td>\n",
       "      <td>10000</td>\n",
       "      <td>-22.226372</td>\n",
       "    </tr>\n",
       "    <tr>\n",
       "      <th>29</th>\n",
       "      <td>1.000000e-09</td>\n",
       "      <td>100000</td>\n",
       "      <td>-90.114442</td>\n",
       "    </tr>\n",
       "  </tbody>\n",
       "</table>\n",
       "</div>"
      ],
      "text/plain": [
       "           alpha  max_iter  test_score\n",
       "0   1.000000e+04      1000   -1.543034\n",
       "1   1.000000e+04     10000   -1.543034\n",
       "2   1.000000e+04    100000   -1.543034\n",
       "3   1.000000e-01      1000   -0.316938\n",
       "4   1.000000e-01     10000   -0.316938\n",
       "5   1.000000e-01    100000   -0.316938\n",
       "6   1.000000e-02      1000   -0.059309\n",
       "7   1.000000e-02     10000   -0.059309\n",
       "8   1.000000e-02    100000   -0.059309\n",
       "9   1.000000e-03      1000   -0.171500\n",
       "10  1.000000e-03     10000   -0.130614\n",
       "11  1.000000e-03    100000   -0.130614\n",
       "12  1.000000e-04      1000   -1.818537\n",
       "13  1.000000e-04     10000   -1.400357\n",
       "14  1.000000e-04    100000   -1.400357\n",
       "15  1.000000e-05      1000   -3.708200\n",
       "16  1.000000e-05     10000  -15.442560\n",
       "17  1.000000e-05    100000  -24.655014\n",
       "18  1.000000e-06      1000   -4.057622\n",
       "19  1.000000e-06     10000  -21.501974\n",
       "20  1.000000e-06    100000  -72.530283\n",
       "21  1.000000e-07      1000   -4.094617\n",
       "22  1.000000e-07     10000  -22.153934\n",
       "23  1.000000e-07    100000  -88.129566\n",
       "24  1.000000e-08      1000   -4.098333\n",
       "25  1.000000e-08     10000  -22.219780\n",
       "26  1.000000e-08    100000  -89.932478\n",
       "27  1.000000e-09      1000   -4.098704\n",
       "28  1.000000e-09     10000  -22.226372\n",
       "29  1.000000e-09    100000  -90.114442"
      ]
     },
     "execution_count": 10,
     "metadata": {},
     "output_type": "execute_result"
    }
   ],
   "source": [
    "import pandas as pd\n",
    "\n",
    "results = pd.DataFrame(gs.cv_results_['params'])\n",
    "results['test_score'] = gs.cv_results_['mean_test_score']\n",
    "\n",
    "results"
   ]
  }
 ],
 "metadata": {
  "anaconda-cloud": {},
  "celltoolbar": "Слайд-шоу",
  "colab": {
   "provenance": []
  },
  "kernelspec": {
   "display_name": "Python 3 (ipykernel)",
   "language": "python",
   "name": "python3"
  },
  "language_info": {
   "codemirror_mode": {
    "name": "ipython",
    "version": 3
   },
   "file_extension": ".py",
   "mimetype": "text/x-python",
   "name": "python",
   "nbconvert_exporter": "python",
   "pygments_lexer": "ipython3",
   "version": "3.12.0"
  },
  "livereveal": {
   "scroll": true,
   "theme": "simple",
   "transition": "convex"
  },
  "nbpresent": {
   "slides": {
    "1ffee25c-251f-4cbf-af3d-a1d5521081b9": {
     "id": "1ffee25c-251f-4cbf-af3d-a1d5521081b9",
     "prev": "eb43fa9f-eb7c-417b-ab1a-99371ff452e2",
     "regions": {
      "2e1a7b46-c253-4096-a0a5-dfbc6cfb086e": {
       "attrs": {
        "height": 0.8,
        "width": 0.8,
        "x": 0.1,
        "y": 0.1
       },
       "content": {
        "cell": "bf40e897-f1f8-4e69-b826-fe53fb761aad",
        "part": "whole"
       },
       "id": "2e1a7b46-c253-4096-a0a5-dfbc6cfb086e"
      }
     }
    },
    "37c43f64-6426-4a98-8de1-a6ca1dd72190": {
     "id": "37c43f64-6426-4a98-8de1-a6ca1dd72190",
     "prev": "d2b700ea-e44e-4bed-9ce4-ddf1532b44cb",
     "regions": {
      "45a20e24-b33f-4c55-8df2-e96075b5e2af": {
       "attrs": {
        "height": 0.8,
        "width": 0.8,
        "x": 0.1,
        "y": 0.1
       },
       "content": {
        "cell": "e730e690-97c9-4acd-bf81-4c5ab0bbd48e",
        "part": "whole"
       },
       "id": "45a20e24-b33f-4c55-8df2-e96075b5e2af"
      }
     }
    },
    "5bf0841a-23d1-413e-a557-911111e3e336": {
     "id": "5bf0841a-23d1-413e-a557-911111e3e336",
     "prev": "ebd3a807-2380-4bd6-8e58-c9424f3ed713",
     "regions": {
      "3c8adac9-5366-49e9-96ab-965c77e83485": {
       "attrs": {
        "height": 0.8,
        "width": 0.8,
        "x": 0.1,
        "y": 0.1
       },
       "content": {
        "cell": "2e08a439-2699-4ecf-9189-dfbbf745ad4e",
        "part": "whole"
       },
       "id": "3c8adac9-5366-49e9-96ab-965c77e83485"
      }
     }
    },
    "60ffd9bc-f20d-41e5-8771-5f11695177c6": {
     "id": "60ffd9bc-f20d-41e5-8771-5f11695177c6",
     "prev": "97575fe4-de27-4833-b616-7479f99519d0",
     "regions": {
      "807a955a-60c8-4f03-8734-54dfd52113d6": {
       "attrs": {
        "height": 0.8,
        "width": 0.8,
        "x": 0.1,
        "y": 0.1
       },
       "content": {
        "cell": "795c8121-f820-4edc-aeba-fc399b38f4b2",
        "part": "whole"
       },
       "id": "807a955a-60c8-4f03-8734-54dfd52113d6"
      }
     }
    },
    "623d8bc9-43df-451f-b862-76c2b54708ea": {
     "id": "623d8bc9-43df-451f-b862-76c2b54708ea",
     "prev": "eded54a5-7710-4ab6-8229-3ca4029d1ae7",
     "regions": {
      "42b1d4d4-2905-454b-b564-92f58dec8f81": {
       "attrs": {
        "height": 0.8,
        "width": 0.8,
        "x": 0.1,
        "y": 0.1
       },
       "content": {
        "cell": "16fd05b0-8ac8-4da2-8980-54d0d253d110",
        "part": "whole"
       },
       "id": "42b1d4d4-2905-454b-b564-92f58dec8f81"
      }
     }
    },
    "6dabcfe1-1c90-4893-8f01-c39e431f00bb": {
     "id": "6dabcfe1-1c90-4893-8f01-c39e431f00bb",
     "prev": "37c43f64-6426-4a98-8de1-a6ca1dd72190",
     "regions": {
      "1126b4c4-7df3-4db1-962b-abe099db9928": {
       "attrs": {
        "height": 0.8,
        "width": 0.8,
        "x": 0.1,
        "y": 0.1
       },
       "content": {
        "cell": "54519c05-1028-4e5c-a2d2-e21f821e99aa",
        "part": "whole"
       },
       "id": "1126b4c4-7df3-4db1-962b-abe099db9928"
      }
     }
    },
    "91753ba8-05fe-465f-806d-0faf4a21a031": {
     "id": "91753ba8-05fe-465f-806d-0faf4a21a031",
     "prev": "5bf0841a-23d1-413e-a557-911111e3e336",
     "regions": {
      "eb271beb-70d0-452e-b896-43695be4ae85": {
       "attrs": {
        "height": 0.8,
        "width": 0.8,
        "x": 0.1,
        "y": 0.1
       },
       "content": {
        "cell": "31cc3d04-22a5-4773-b4e1-abfb09f8bbc2",
        "part": "whole"
       },
       "id": "eb271beb-70d0-452e-b896-43695be4ae85"
      }
     }
    },
    "97575fe4-de27-4833-b616-7479f99519d0": {
     "id": "97575fe4-de27-4833-b616-7479f99519d0",
     "prev": "b8aebb38-1266-40c2-928a-026f9d33ec5c",
     "regions": {
      "01deb5d1-73e8-4d64-b93e-e7646647af3b": {
       "attrs": {
        "height": 0.8,
        "width": 0.8,
        "x": 0.1,
        "y": 0.1
       },
       "content": {
        "cell": "7f2bdffe-4f2a-446b-8805-d4fd262fced1",
        "part": "whole"
       },
       "id": "01deb5d1-73e8-4d64-b93e-e7646647af3b"
      }
     }
    },
    "9cc88d72-9ac9-4c24-96d5-abc94cea6e92": {
     "id": "9cc88d72-9ac9-4c24-96d5-abc94cea6e92",
     "prev": "1ffee25c-251f-4cbf-af3d-a1d5521081b9",
     "regions": {
      "78febecd-5100-493b-8f0d-0cc35ceae42e": {
       "attrs": {
        "height": 0.8,
        "width": 0.8,
        "x": 0.1,
        "y": 0.1
       },
       "content": {
        "cell": "bef00443-818c-4614-aa63-8a2e117462ec",
        "part": "whole"
       },
       "id": "78febecd-5100-493b-8f0d-0cc35ceae42e"
      }
     }
    },
    "a5df524d-67a8-4ae1-8258-9231728bdd14": {
     "id": "a5df524d-67a8-4ae1-8258-9231728bdd14",
     "prev": "623d8bc9-43df-451f-b862-76c2b54708ea",
     "regions": {
      "68e876ca-f943-4b2e-8268-439db992b310": {
       "attrs": {
        "height": 0.8,
        "width": 0.8,
        "x": 0.1,
        "y": 0.1
       },
       "content": {
        "cell": "40af6766-3ae3-4acc-8417-439eb8968553",
        "part": "whole"
       },
       "id": "68e876ca-f943-4b2e-8268-439db992b310"
      }
     }
    },
    "b62355d8-8b93-4dfc-8016-6548952c0f8c": {
     "id": "b62355d8-8b93-4dfc-8016-6548952c0f8c",
     "prev": "f59840cf-124e-4d10-8b89-3aafe98f38ba",
     "regions": {
      "381cc6bd-bde3-4d58-8277-99fbd69c7a4f": {
       "attrs": {
        "height": 0.8,
        "width": 0.8,
        "x": 0.1,
        "y": 0.1
       },
       "content": {
        "cell": "b92c1827-c799-44b9-b770-f45e95c917da",
        "part": "whole"
       },
       "id": "381cc6bd-bde3-4d58-8277-99fbd69c7a4f"
      }
     }
    },
    "b8aebb38-1266-40c2-928a-026f9d33ec5c": {
     "id": "b8aebb38-1266-40c2-928a-026f9d33ec5c",
     "prev": "9cc88d72-9ac9-4c24-96d5-abc94cea6e92",
     "regions": {
      "1bc2d24e-0782-443b-83a4-bc683c5ac6cb": {
       "attrs": {
        "height": 0.8,
        "width": 0.8,
        "x": 0.1,
        "y": 0.1
       },
       "content": {
        "cell": "cbb3d96a-fdd6-436e-86b6-1be446b43e84",
        "part": "whole"
       },
       "id": "1bc2d24e-0782-443b-83a4-bc683c5ac6cb"
      }
     }
    },
    "d2b700ea-e44e-4bed-9ce4-ddf1532b44cb": {
     "id": "d2b700ea-e44e-4bed-9ce4-ddf1532b44cb",
     "prev": "a5df524d-67a8-4ae1-8258-9231728bdd14",
     "regions": {
      "474bc80d-f262-4e62-afae-4565c0979e03": {
       "attrs": {
        "height": 0.8,
        "width": 0.8,
        "x": 0.1,
        "y": 0.1
       },
       "content": {
        "cell": "a67001a3-e51e-4a22-bdcd-249cde5581c1",
        "part": "whole"
       },
       "id": "474bc80d-f262-4e62-afae-4565c0979e03"
      }
     }
    },
    "d989978f-1d85-4802-953f-0e82f1a0fd51": {
     "id": "d989978f-1d85-4802-953f-0e82f1a0fd51",
     "prev": null,
     "regions": {
      "e3ddb97a-209b-4c70-91d7-df0cadcefb0d": {
       "attrs": {
        "height": 0.8,
        "width": 0.8,
        "x": 0.1,
        "y": 0.1
       },
       "content": {
        "cell": "13101ac1-2637-4d0f-9f1f-cd32215b02c3",
        "part": "whole"
       },
       "id": "e3ddb97a-209b-4c70-91d7-df0cadcefb0d"
      }
     }
    },
    "eb43fa9f-eb7c-417b-ab1a-99371ff452e2": {
     "id": "eb43fa9f-eb7c-417b-ab1a-99371ff452e2",
     "prev": "b62355d8-8b93-4dfc-8016-6548952c0f8c",
     "regions": {
      "b9415d21-f857-4a93-a788-c7dc51dedea0": {
       "attrs": {
        "height": 0.8,
        "width": 0.8,
        "x": 0.1,
        "y": 0.1
       },
       "content": {
        "cell": "e29b9590-fc86-46fd-83be-3ff48c7a8df4",
        "part": "whole"
       },
       "id": "b9415d21-f857-4a93-a788-c7dc51dedea0"
      }
     }
    },
    "ebd3a807-2380-4bd6-8e58-c9424f3ed713": {
     "id": "ebd3a807-2380-4bd6-8e58-c9424f3ed713",
     "prev": "f3fb61c6-f807-4942-8c41-0e80240a5146",
     "regions": {
      "7eaeb4e2-d47e-43e4-92c4-ed8cc1e9aac7": {
       "attrs": {
        "height": 0.8,
        "width": 0.8,
        "x": 0.1,
        "y": 0.1
       },
       "content": {
        "cell": "412353c7-42b2-42c7-8702-69568c809a97",
        "part": "whole"
       },
       "id": "7eaeb4e2-d47e-43e4-92c4-ed8cc1e9aac7"
      }
     }
    },
    "eded54a5-7710-4ab6-8229-3ca4029d1ae7": {
     "id": "eded54a5-7710-4ab6-8229-3ca4029d1ae7",
     "prev": "91753ba8-05fe-465f-806d-0faf4a21a031",
     "regions": {
      "816c3f73-4147-4cdb-b7d1-f5f82fa6003b": {
       "attrs": {
        "height": 0.8,
        "width": 0.8,
        "x": 0.1,
        "y": 0.1
       },
       "content": {
        "cell": "fa2d4b89-0d7a-41f1-8635-c5905d106cf3",
        "part": "whole"
       },
       "id": "816c3f73-4147-4cdb-b7d1-f5f82fa6003b"
      }
     }
    },
    "f3fb61c6-f807-4942-8c41-0e80240a5146": {
     "id": "f3fb61c6-f807-4942-8c41-0e80240a5146",
     "prev": "d989978f-1d85-4802-953f-0e82f1a0fd51",
     "regions": {
      "4f7abbfb-161b-44ce-bdab-05ef0b2a5542": {
       "attrs": {
        "height": 0.8,
        "width": 0.8,
        "x": 0.1,
        "y": 0.1
       },
       "content": {
        "cell": "8ce7bf3f-66e0-4462-a540-e87bceeadb7f",
        "part": "whole"
       },
       "id": "4f7abbfb-161b-44ce-bdab-05ef0b2a5542"
      }
     }
    },
    "f59840cf-124e-4d10-8b89-3aafe98f38ba": {
     "id": "f59840cf-124e-4d10-8b89-3aafe98f38ba",
     "prev": "6dabcfe1-1c90-4893-8f01-c39e431f00bb",
     "regions": {
      "e67fa4b9-f237-40ff-8621-fcdbfdd83101": {
       "attrs": {
        "height": 0.8,
        "width": 0.8,
        "x": 0.1,
        "y": 0.1
       },
       "content": {
        "cell": "4ae9a30c-81bc-4396-90d8-939a8e59f287",
        "part": "whole"
       },
       "id": "e67fa4b9-f237-40ff-8621-fcdbfdd83101"
      }
     }
    }
   },
   "themes": {
    "default": "c04eebe0-c348-41e9-bcfb-a65d4bd126df",
    "theme": {
     "c04eebe0-c348-41e9-bcfb-a65d4bd126df": {
      "id": "c04eebe0-c348-41e9-bcfb-a65d4bd126df",
      "palette": {
       "19cc588f-0593-49c9-9f4b-e4d7cc113b1c": {
        "id": "19cc588f-0593-49c9-9f4b-e4d7cc113b1c",
        "rgb": [
         252,
         252,
         252
        ]
       },
       "31af15d2-7e15-44c5-ab5e-e04b16a89eff": {
        "id": "31af15d2-7e15-44c5-ab5e-e04b16a89eff",
        "rgb": [
         68,
         68,
         68
        ]
       },
       "50f92c45-a630-455b-aec3-788680ec7410": {
        "id": "50f92c45-a630-455b-aec3-788680ec7410",
        "rgb": [
         155,
         177,
         192
        ]
       },
       "c5cc3653-2ee1-402a-aba2-7caae1da4f6c": {
        "id": "c5cc3653-2ee1-402a-aba2-7caae1da4f6c",
        "rgb": [
         43,
         126,
         184
        ]
       },
       "efa7f048-9acb-414c-8b04-a26811511a21": {
        "id": "efa7f048-9acb-414c-8b04-a26811511a21",
        "rgb": [
         25.118061674008803,
         73.60176211453744,
         107.4819383259912
        ]
       }
      },
      "rules": {
       "blockquote": {
        "color": "50f92c45-a630-455b-aec3-788680ec7410"
       },
       "code": {
        "font-family": "Anonymous Pro"
       },
       "h1": {
        "color": "c5cc3653-2ee1-402a-aba2-7caae1da4f6c",
        "font-family": "Lato",
        "font-size": 8
       },
       "h2": {
        "color": "c5cc3653-2ee1-402a-aba2-7caae1da4f6c",
        "font-family": "Lato",
        "font-size": 6
       },
       "h3": {
        "color": "50f92c45-a630-455b-aec3-788680ec7410",
        "font-family": "Lato",
        "font-size": 5.5
       },
       "h4": {
        "color": "c5cc3653-2ee1-402a-aba2-7caae1da4f6c",
        "font-family": "Lato",
        "font-size": 5
       },
       "h5": {
        "font-family": "Lato"
       },
       "h6": {
        "font-family": "Lato"
       },
       "h7": {
        "font-family": "Lato"
       },
       "pre": {
        "font-family": "Anonymous Pro",
        "font-size": 4
       }
      },
      "text-base": {
       "font-family": "Merriweather",
       "font-size": 4
      }
     },
     "f0b95bb9-67a7-4d14-bf09-657a5b556dbe": {
      "id": "f0b95bb9-67a7-4d14-bf09-657a5b556dbe",
      "palette": {
       "19cc588f-0593-49c9-9f4b-e4d7cc113b1c": {
        "id": "19cc588f-0593-49c9-9f4b-e4d7cc113b1c",
        "rgb": [
         252,
         252,
         252
        ]
       },
       "31af15d2-7e15-44c5-ab5e-e04b16a89eff": {
        "id": "31af15d2-7e15-44c5-ab5e-e04b16a89eff",
        "rgb": [
         68,
         68,
         68
        ]
       },
       "50f92c45-a630-455b-aec3-788680ec7410": {
        "id": "50f92c45-a630-455b-aec3-788680ec7410",
        "rgb": [
         155,
         177,
         192
        ]
       },
       "c5cc3653-2ee1-402a-aba2-7caae1da4f6c": {
        "id": "c5cc3653-2ee1-402a-aba2-7caae1da4f6c",
        "rgb": [
         43,
         126,
         184
        ]
       },
       "efa7f048-9acb-414c-8b04-a26811511a21": {
        "id": "efa7f048-9acb-414c-8b04-a26811511a21",
        "rgb": [
         25.118061674008803,
         73.60176211453744,
         107.4819383259912
        ]
       }
      },
      "rules": {
       "blockquote": {
        "color": "50f92c45-a630-455b-aec3-788680ec7410"
       },
       "code": {
        "font-family": "Anonymous Pro"
       },
       "h1": {
        "color": "c5cc3653-2ee1-402a-aba2-7caae1da4f6c",
        "font-family": "Lato",
        "font-size": 8
       },
       "h2": {
        "color": "c5cc3653-2ee1-402a-aba2-7caae1da4f6c",
        "font-family": "Lato",
        "font-size": 6
       },
       "h3": {
        "color": "50f92c45-a630-455b-aec3-788680ec7410",
        "font-family": "Lato",
        "font-size": 5.5
       },
       "h4": {
        "color": "c5cc3653-2ee1-402a-aba2-7caae1da4f6c",
        "font-family": "Lato",
        "font-size": 5
       },
       "h5": {
        "font-family": "Lato"
       },
       "h6": {
        "font-family": "Lato"
       },
       "h7": {
        "font-family": "Lato"
       },
       "pre": {
        "font-family": "Anonymous Pro",
        "font-size": 4
       }
      },
      "text-base": {
       "font-family": "Merriweather",
       "font-size": 4
      }
     }
    }
   }
  }
 },
 "nbformat": 4,
 "nbformat_minor": 4
}
