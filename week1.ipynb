{
 "cells": [
  {
   "cell_type": "markdown",
   "metadata": {
    "id": "Fjxrb9gRqm-l"
   },
   "source": [
    "## Домашнее задание\n",
    "\n",
    "__Упражнение 1 -  Numpy__\n",
    "1. Пусть у двух матриц совпадает количество строк. Объедините их в одну горизонтально (объедините столбцы этих матриц)"
   ]
  },
  {
   "cell_type": "code",
   "execution_count": null,
   "metadata": {
    "colab": {
     "base_uri": "https://localhost:8080/"
    },
    "id": "E2Ehwo4S3pHo",
    "outputId": "b218133c-b702-43bf-fb0c-d71922118942"
   },
   "outputs": [
    {
     "data": {
      "text/plain": [
       "array([[ 1,  2,  3,  1,  2,  3],\n",
       "       [ 4,  5,  6,  4,  5,  6],\n",
       "       [ 7,  8,  9,  7,  8,  9],\n",
       "       [10, 11, 12, 10, 11, 12]])"
      ]
     },
     "execution_count": 2,
     "metadata": {},
     "output_type": "execute_result"
    }
   ],
   "source": [
    "import numpy as np\n",
    "\n",
    "a = np.array([\n",
    "    [1, 2, 3],\n",
    "    [4, 5, 6],\n",
    "    [7, 8, 9],\n",
    "    [10, 11, 12]\n",
    "])\n",
    "\n",
    "b = np.array([\n",
    "    [1, 2, 3],\n",
    "    [4, 5, 6],\n",
    "    [7, 8, 9],\n",
    "    [10, 11, 12]\n",
    "])\n",
    "\n",
    "np.concatenate((a, b), axis=1)"
   ]
  },
  {
   "cell_type": "markdown",
   "metadata": {
    "id": "Fjxrb9gRqm-l"
   },
   "source": [
    "2. Пусть дана пuтру-матрица $M$ и два массива индексов $a, b$ одинаковой длины. Постройте массив элементов $M[a[0], b[0]], M[a[1], b[1]], \\ldots$ Указание: для выполнения этой операции не требуется никаких именных функций."
   ]
  },
  {
   "cell_type": "code",
   "execution_count": null,
   "metadata": {
    "colab": {
     "base_uri": "https://localhost:8080/"
    },
    "id": "rw-1MTN-5NgE",
    "outputId": "d0306176-cabd-4209-8796-5d8a539a707a"
   },
   "outputs": [
    {
     "data": {
      "text/plain": [
       "array([1, 6, 8])"
      ]
     },
     "execution_count": 4,
     "metadata": {},
     "output_type": "execute_result"
    }
   ],
   "source": [
    "import numpy as np\n",
    "\n",
    "M = np.array([\n",
    "    [1, 2, 3],\n",
    "    [4, 5, 6],\n",
    "    [7, 8, 9],\n",
    "    [10, 11, 12]\n",
    "])\n",
    "\n",
    "a = np.array([0, 1, 2])\n",
    "b = np.array([0, 2, 1])\n",
    "\n",
    "M[a, b]"
   ]
  },
  {
   "cell_type": "markdown",
   "metadata": {
    "id": "Fjxrb9gRqm-l"
   },
   "source": [
    "3. Подсчитайте след матрицы и количество ненулевых элементов на ее диагонали"
   ]
  },
  {
   "cell_type": "code",
   "execution_count": null,
   "metadata": {
    "colab": {
     "base_uri": "https://localhost:8080/"
    },
    "id": "Nfz7Q3gw5e3J",
    "outputId": "7549b7c6-9a0b-409f-a7fd-965f9b2e6536"
   },
   "outputs": [
    {
     "data": {
      "text/plain": [
       "(15, 3)"
      ]
     },
     "execution_count": 5,
     "metadata": {},
     "output_type": "execute_result"
    }
   ],
   "source": [
    "import numpy as np\n",
    "\n",
    "M = np.array([\n",
    "    [1, 2, 3],\n",
    "    [4, 5, 6],\n",
    "    [7, 8, 9],\n",
    "    [10, 11, 12]\n",
    "])\n",
    "\n",
    "np.trace(M), (np.diag(M) != 0).sum()"
   ]
  },
  {
   "cell_type": "markdown",
   "metadata": {
    "id": "Fjxrb9gRqm-l"
   },
   "source": [
    "4. Даны два произвольных numpy-массива одинаковой размерности $(n, m)$. Замените нулями те элементы второго массива, для которых на соответствующем месте в первом массиве находятся отрицательные числа"
   ]
  },
  {
   "cell_type": "code",
   "execution_count": null,
   "metadata": {
    "colab": {
     "base_uri": "https://localhost:8080/"
    },
    "id": "b5aaeYzI6sLZ",
    "outputId": "29060b76-5abd-4758-b808-64d73e0b194f"
   },
   "outputs": [
    {
     "data": {
      "text/plain": [
       "(array([[-1.03242518, -1.12945869, -4.42455869,  2.87769996],\n",
       "        [-2.74983555,  2.87308315, -0.0900397 ,  1.27820502],\n",
       "        [-2.32220939,  1.24047555, -0.56476775, -4.95311639]]),\n",
       " array([[ 2.06933001, -0.36759099, -4.56805401, -4.92446806],\n",
       "        [-0.07221152,  4.77179047, -0.89288261,  1.30901548],\n",
       "        [ 0.35906604,  2.7633232 ,  4.86510459,  3.95389443]]),\n",
       " array([[ 0.        ,  0.        ,  0.        , -4.92446806],\n",
       "        [ 0.        ,  4.77179047,  0.        ,  1.30901548],\n",
       "        [ 0.        ,  2.7633232 ,  0.        ,  0.        ]]))"
      ]
     },
     "execution_count": 1,
     "metadata": {},
     "output_type": "execute_result"
    }
   ],
   "source": [
    "import numpy as np\n",
    "\n",
    "n, m = 3, 4\n",
    "k = 10\n",
    "\n",
    "a = k / 2 - k * np.random.rand(n, m)\n",
    "b = k / 2 - k * np.random.rand(n, m)\n",
    "b1 = np.copy(b)\n",
    "\n",
    "b1[a < 0] = 0\n",
    "a, b, b1"
   ]
  },
  {
   "cell_type": "markdown",
   "metadata": {
    "id": "Fjxrb9gRqm-l"
   },
   "source": [
    "5. Даны две матрицы с одинаковым количеством строк и количеством столбцов $n$ и $m$ соответственно. Постройте матрицу $n \\times m$ всевозможных произведений столбцов друг на друга (в смысле скалярного произведения)."
   ]
  },
  {
   "cell_type": "code",
   "execution_count": 4,
   "metadata": {
    "colab": {
     "base_uri": "https://localhost:8080/"
    },
    "id": "34gm3_2A7Oik",
    "outputId": "9b892d45-5705-4788-f48b-9491a6607269"
   },
   "outputs": [
    {
     "data": {
      "text/plain": [
       "(array([[0.99639744, 0.57585736, 0.82482935, 0.6521795 ],\n",
       "        [0.08649003, 0.19452495, 0.8172756 , 0.2417152 ],\n",
       "        [0.22435347, 0.25757447, 0.15600252, 0.82359162]]),\n",
       " array([[0.99639744, 0.08649003, 0.22435347],\n",
       "        [0.57585736, 0.19452495, 0.25757447],\n",
       "        [0.82482935, 0.8172756 , 0.15600252],\n",
       "        [0.6521795 , 0.2417152 , 0.82359162]]),\n",
       " array([[0.29321443, 0.24487806, 0.02097794, 0.45678414],\n",
       "        [0.80663634, 0.64100929, 0.80252283, 0.24135232],\n",
       "        [0.23235007, 0.92862654, 0.79571156, 0.96287677]]),\n",
       " array([[0.41405266, 0.50777737, 0.26883324, 0.69203786],\n",
       "        [0.38560803, 0.50489762, 0.373146  , 0.55800404],\n",
       "        [0.93734327, 0.87073195, 0.79731856, 0.72423153],\n",
       "        [0.57756628, 1.07945517, 0.86300472, 1.14926102]]))"
      ]
     },
     "execution_count": 4,
     "metadata": {},
     "output_type": "execute_result"
    }
   ],
   "source": [
    "import numpy as np\n",
    "\n",
    "n, m = 3, 4\n",
    "a = np.random.rand(n, m)\n",
    "b = np.random.rand(n, m)\n",
    "\n",
    "a, a.transpose(), b, a.transpose() @ b"
   ]
  },
  {
   "cell_type": "markdown",
   "metadata": {
    "id": "Fjxrb9gRqm-l"
   },
   "source": [
    "__Упражнение 2 -  Matplotlib__\n",
    "1. Постройте таблицу $2 \\times 2$ из четырех графиков (см. функцию plt.subplots)"
   ]
  },
  {
   "cell_type": "code",
   "execution_count": null,
   "metadata": {
    "colab": {
     "base_uri": "https://localhost:8080/",
     "height": 448
    },
    "id": "famoWMQj8Hk4",
    "outputId": "e4cb72a7-6b73-434a-d94f-8516506a55c5"
   },
   "outputs": [
    {
     "data": {
      "text/plain": [
       "[<matplotlib.lines.Line2D at 0x7ecd7cc2acb0>]"
      ]
     },
     "execution_count": 24,
     "metadata": {},
     "output_type": "execute_result"
    },
    {
     "data": {
      "image/png": "[encoded data removed]",
      "text/plain": [
       "<Figure size 640x480 with 4 Axes>"
      ]
     },
     "metadata": {},
     "output_type": "display_data"
    }
   ],
   "source": [
    "import matplotlib.pyplot as plt\n",
    "import numpy as np\n",
    "\n",
    "x = np.linspace(0, 1, 100)\n",
    "\n",
    "fig, axs = plt.subplots(2, 2)\n",
    "axs[0][0].plot(x, np.sin(x))\n",
    "axs[1][0].plot(x, np.cos(x))\n",
    "axs[0][1].plot(x, np.tan(x))\n",
    "axs[1][1].plot(x, np.tanh(x))"
   ]
  },
  {
   "cell_type": "markdown",
   "metadata": {
    "id": "Fjxrb9gRqm-l"
   },
   "source": [
    "   \n",
    "2. Постройте график с крестами ошибок"
   ]
  },
  {
   "cell_type": "code",
   "execution_count": null,
   "metadata": {
    "colab": {
     "base_uri": "https://localhost:8080/",
     "height": 448
    },
    "id": "SfI5HJU_KkMi",
    "outputId": "fcbf6d3d-0a49-443a-c44c-dada851078f7"
   },
   "outputs": [
    {
     "data": {
      "text/plain": [
       "<ErrorbarContainer object of 3 artists>"
      ]
     },
     "execution_count": 18,
     "metadata": {},
     "output_type": "execute_result"
    },
    {
     "data": {
      "image/png": "[encoded data removed]",
      "text/plain": [
       "<Figure size 640x480 with 1 Axes>"
      ]
     },
     "metadata": {},
     "output_type": "display_data"
    }
   ],
   "source": [
    "import matplotlib.pyplot as plt\n",
    "import numpy as np\n",
    "\n",
    "x = np.linspace(0, 10, 20)\n",
    "y = 10 * np.sin(x)\n",
    "xerr = np.random.rand(len(x))\n",
    "yerr = np.random.rand(len(x))\n",
    "\n",
    "plt.errorbar(x, y, yerr=yerr, xerr=xerr, linestyle='None')"
   ]
  },
  {
   "cell_type": "markdown",
   "metadata": {
    "id": "Fjxrb9gRqm-l"
   },
   "source": [
    "3. Постройте график в логарифмическом масштабе без явного вычисления логарифмов"
   ]
  },
  {
   "cell_type": "code",
   "execution_count": null,
   "metadata": {
    "colab": {
     "base_uri": "https://localhost:8080/",
     "height": 430
    },
    "id": "uEDDC40XMBzb",
    "outputId": "edd287e9-ddad-471b-f623-939faf426a7f"
   },
   "outputs": [
    {
     "data": {
      "image/png": "[encoded data removed]",
      "text/plain": [
       "<Figure size 640x480 with 1 Axes>"
      ]
     },
     "metadata": {},
     "output_type": "display_data"
    }
   ],
   "source": [
    "import matplotlib.pyplot as plt\n",
    "import numpy as np\n",
    "\n",
    "x = np.linspace(0, 10, 20)\n",
    "y = np.exp(x)\n",
    "plt.plot(x, y)\n",
    "plt.yscale('log')"
   ]
  },
  {
   "cell_type": "markdown",
   "metadata": {
    "id": "Fjxrb9gRqm-l"
   },
   "source": [
    "__Упражнение 3 -  Погрешности__\n",
    "\n",
    "1. Оценить погрешность в определении корней уравнения $a y^3+d=0$, если величины $a=1$ и $d=8$ заданы с точностью $\\Delta(a)=10^{-3}$ и $\\Delta(d)=10^{-3}$."
   ]
  },
  {
   "cell_type": "markdown",
   "metadata": {
    "id": "j2dTdpUlih-I"
   },
   "source": [
    "$$\n",
    "y = -\\sqrt[3] \\frac d a\n",
    "\\qquad a = 1\n",
    "\\qquad d = 8\n",
    "\\qquad \\Delta a = \\Delta d = 10^{-3}\n",
    "\\\\\n",
    "\\Delta y\n",
    "= \\frac 1 3 {\\Bigl(\\frac d a \\Bigr)}^{-\\frac 2 3} \\Delta \\Bigl(\\frac d a \\Bigr)\n",
    "= \\frac 1 3 \\sqrt[3] \\frac d a \\delta \\Bigl(\\frac d a \\Bigr)\n",
    "= \\frac 1 3 \\sqrt[3] \\frac d a (\\delta d + \\delta a)\n",
    "= \\frac 2 3 * \\frac 9 8 * 10^{-3}\n",
    "= 0.75 * 10^{-3}\n",
    "$$"
   ]
  },
  {
   "cell_type": "markdown",
   "metadata": {
    "id": "Fjxrb9gRqm-l"
   },
   "source": [
    "2. Определить оптимальный шаг численного дифференцирования $h_{\\text{opt}}$ при использовании для вычисления производной приближенной формулы\n",
    "\n",
    "$$\n",
    "u^{\\prime}(x) \\approx \\frac{u(x-2 h)-8 u(x-h)+8 u(x+h)-u(x+2 h)}{12 h},\n",
    "$$"
   ]
  },
  {
   "cell_type": "markdown",
   "metadata": {
    "id": "Fjxrb9gRqm-l"
   },
   "source": [
    "Какой порядок аппроксимации имеет эта формула? Известно, что, $\\left|u^{(5)}(t)\\right| \\leq M_5$, а значения функций вычисляются с точностью $\\Delta u$."
   ]
  },
  {
   "cell_type": "markdown",
   "metadata": {
    "id": "vfoiESMBmcW1"
   },
   "source": [
    "$$\n",
    "u(x - 2h) = u\n",
    "- 2hu' + 2h^2u''\n",
    "- \\frac 4 3 h^3u''' + \\frac 2 3 h^4u^{(4)}\n",
    "- \\frac 1 {5!} {(2h)}^5 u^{(5)}(\\zeta_1) \\qquad \\zeta_1 \\in [x - 2h; x]\n",
    "\\\\\n",
    "8u(x - h) = 8u\n",
    "- 8hu' + 4h^2u''\n",
    "- \\frac 4 3 h^3u''' + \\frac 1 3 h^4u^{(4)}\n",
    "- \\frac 1 {5!} h^5 u^{(5)}(\\zeta_2) \\qquad \\zeta_2 \\in [x - h; x]\n",
    "\\\\\n",
    "8u(x + h) = 8u\n",
    "+ 8hu' + 4h^2u''\n",
    "+ \\frac 4 3 h^3u''' + \\frac 1 3 h^4u^{(4)}\n",
    "+ \\frac 1 {5!} h^5 u^{(5)}(\\zeta_3) \\qquad \\zeta_3 \\in [x; x + h]\n",
    "\\\\\n",
    "u(x + 2h) = u\n",
    "+ 2hu' + 2h^2u''\n",
    "+ \\frac 4 3 h^3u''' + \\frac 2 3 h^4u^{(4)}\n",
    "+ \\frac 1 {5!} {(2h)}^5 u^{(5)}(\\zeta_4) \\qquad \\zeta_4 \\in [x; x + 2h]\n",
    "\\\\\n",
    "u'_i = \\frac {u(x - 2h) - 8u(x - h) + 8u(x + h) - u(x + 2h)} {12h}\n",
    "\\\\\n",
    "u'_i = \\frac {12hu' + \\frac {h^5} {5!}\n",
    "(-32 u^{(5)}(\\zeta_1) + 8 u^{(5)}(\\zeta_2)\n",
    "+ 8 u^{(5)}(\\zeta_3) - 32 u^{(5)}(\\zeta_4))} {12h}\n",
    "\\\\\n",
    "u'_i = u' + h^4 * \\frac {-4 u^{(5)}(\\zeta_1)\n",
    "+ u^{(5)}(\\zeta_2) + u^{(5)}(\\zeta_3) - 4 u^{(5)}(\\zeta_4)} {12 * 5 * 3}\n",
    "\\\\\n",
    "u'_i = u' + O(h^4)$$\n",
    "порядок аппроксимации 4\n",
    "$$\n",
    "\\varepsilon_{method} = \\Bigl| h^4 * \\frac {-4 u^{(5)}(\\zeta_1)\n",
    "+ u^{(5)}(\\zeta_2) + u^{(5)}(\\zeta_3) - 4 u^{(5)}(\\zeta_4)} {12 * 5 * 3} \\Bigr|\n",
    "\\le \\frac {M_5 h^4} {18}\n",
    "\\\\\n",
    "\\varepsilon_{round} = \\frac {3 \\Delta u} {2h}\n",
    "\\\\\n",
    "\\varepsilon_{total} = \\varepsilon_{method} + \\varepsilon_{round}\n",
    "= \\frac {M_5 h^4} {18} + \\frac {3 \\Delta u} {2h}\n",
    "\\\\\n",
    "0 = \\varepsilon'_h = \\frac {2M_5 h^3} 9 - \\frac {3 \\Delta u} {2 h^2}\n",
    "\\\\\n",
    "h^* = \\sqrt[5] \\frac {27 \\Delta u} {4 M_5}\n",
    "$$"
   ]
  },
  {
   "cell_type": "markdown",
   "metadata": {
    "id": "Fjxrb9gRqm-l"
   },
   "source": [
    "__Упражнение 4 -  Погрешность определения корня уравнения__\n",
    "\n",
    "С каким числом верных знаков (или относительной погрешностью) должен быть известен свободный член в уравнении $x^2-2 x+0.999993751=0$, чтобы корни имели четыре верных знака?"
   ]
  },
  {
   "cell_type": "markdown",
   "metadata": {},
   "source": [
    "$$ x^2 - 2x + a = 0 $$\n",
    "$$ D/4 = 1 - a $$ \n",
    "$$ x = -1 \\pm \\sqrt{ 1 - a } $$\n",
    "$$ \\delta x = \\frac {\\Delta \\sqrt { 1 - a }} {1 + \\sqrt {1 - a}}\n",
    "= \\frac {\\Delta a} {2 \\sqrt {1 - a} * (1 + \\sqrt {1 - a})}\n",
    "= \\frac {a \\delta a} {2 \\sqrt {1 - a} * (1 + \\sqrt {1 - a})}\n",
    "$$\n",
    "$$ \\delta a = \\frac {2 \\delta x \\sqrt {1 - a} * (1 + \\sqrt {1 - a})} a $$"
   ]
  },
  {
   "cell_type": "code",
   "execution_count": 216,
   "metadata": {},
   "outputs": [
    {
     "data": {
      "text/plain": [
       "(0.0005,\n",
       " 0.0024997999920021033,\n",
       " 1.002499799992002,\n",
       " 2.5060646524000318e-06,\n",
       " -1.002499799992002,\n",
       " -1.0026457513110607,\n",
       " -1.0010000000000143)"
      ]
     },
     "execution_count": 216,
     "metadata": {},
     "output_type": "execute_result"
    }
   ],
   "source": [
    "from math import sqrt\n",
    "a = 0.999993751\n",
    "dx = 5e-4\n",
    "sa = sqrt(1 - a)\n",
    "dx, sa, 1 + sa, 2 * dx * (sa + 1 - a) / a, -1 - sa, -1 - sqrt(1 - 0.999993), -1 - sqrt(1 - 0.999999)"
   ]
  },
  {
   "cell_type": "markdown",
   "metadata": {},
   "source": [
    "Необходимо указать верно 6 знаков"
   ]
  },
  {
   "cell_type": "markdown",
   "metadata": {
    "id": "Fjxrb9gRqm-l"
   },
   "source": [
    "__Упражнение 5 -  Рост погрешности в последовательности__\n",
    "\n",
    "Пусть задана последовательность чисел $x_n, n=0,1,2, \\ldots$, причем $5 x_{n+1}-x_n=4$, а $x_0$ известно с относительной погрешностью $10^{-6}$. При каких значениях $x_0$ относительная погрешность при вычислении $x_n$ будет быстро возрастать с ростом $n$ ?"
   ]
  },
  {
   "cell_type": "markdown",
   "metadata": {},
   "source": [
    "$$ x_n = 1 + (x_0 - 1) * 5 ^{-n} $$\n",
    "$$ \\delta x_0 = 10 ^ {-6} $$\n",
    "$$ \\delta x_n = \\frac {\\Delta (1 + (x_0 - 1) * 5 ^ {-n})} {1 + (x_0 - 1) * 5 ^ {-n}}\n",
    "= \\frac {\\Delta(x_0) + (x_0 - 1) * \\Delta(5 ^ {-n}) * 5^n} {5^n + x_0 - 1}\n",
    "= \\frac {x_0 * \\delta x_0 + (x_0 - 1) * \\delta(5 ^ {-n})} {5^n + x_0 - 1}\n",
    "$$\n",
    "Не при каких"
   ]
  },
  {
   "cell_type": "code",
   "execution_count": 10,
   "metadata": {},
   "outputs": [
    {
     "data": {
      "application/vnd.jupyter.widget-view+json": {
       "model_id": "eb2b9af9902849d59ee59921e8aaa06b",
       "version_major": 2,
       "version_minor": 0
      },
      "text/plain": [
       "interactive(children=(IntSlider(value=100, description='n_max', min=1), FloatSlider(value=1.1, description='x0…"
      ]
     },
     "metadata": {},
     "output_type": "display_data"
    },
    {
     "data": {
      "text/plain": [
       "<function __main__.plot_sequence(n_max, x0)>"
      ]
     },
     "execution_count": 10,
     "metadata": {},
     "output_type": "execute_result"
    }
   ],
   "source": [
    "import matplotlib.pyplot as plt\n",
    "import numpy as np\n",
    "from ipywidgets import interact\n",
    "import ipywidgets as widgets\n",
    "\n",
    "def plot_sequence(n_max, x0):\n",
    "    n = np.arange(n_max)\n",
    "    x = 1 + (x0 - 1) * 0.2 ** n\n",
    "    plt.plot(n, x, linestyle='none', marker='.')\n",
    "\n",
    "n = widgets.IntSlider(value=100, min=1, max=100, step=1, description='n_max')\n",
    "x0 = widgets.FloatSlider(value=1.1, min=-10, max=10, step=0.1, description='x0')\n",
    "interact(plot_sequence, n_max=n, x0=x0)"
   ]
  },
  {
   "cell_type": "markdown",
   "metadata": {
    "id": "Fjxrb9gRqm-l"
   },
   "source": [
    "__Упражнение 6* -  Вигнеровский полукруг__\n",
    "\n",
    "1. Сгенерируйте случайную матрицу $N \\times N$, в которой каждый элемент взят из гауссова нормального распределения с фиксированными параметрами. Сделайте из этой матрицы симметричную, добавив к ней ее транспонированную. Постройте гистограмму собственных значений получившейся матрицы (подберите достаточно большое $N$ и удачное количество бинов). Повторите эксперимент $M$ раз ( $M \\sim 50$, здесь цикл разрешается) и отобразите разброс высоты каждого бина гистограммы с помощью креста ошибок."
   ]
  },
  {
   "cell_type": "markdown",
   "metadata": {
    "id": "Fjxrb9gRqm-l"
   },
   "source": [
    "2. (Wigner surmise) Постройте гистограмму расстояний $\\rho$ между ближайшими собственными числами матрицы. Для этого для случайной симметричной матрицы отсортируйте ее собственные числа $\\lambda_i$ и посчитайте все $\\rho_i=\\lambda_{i+1}-\\lambda_i$. Для улучшения качества можно повторить эксперимент $m$ раз и объединить все наборы $\\left\\{\\rho_i\\right\\}$."
   ]
  },
  {
   "cell_type": "markdown",
   "metadata": {
    "id": "Fjxrb9gRqm-l"
   },
   "source": [
    "3. Случайная величина $\\rho$ из предыдущего пункта имеет плотность вероятности $f(\\rho)$. Построенная в п. 2 гистограмма должна приближаться к функции $f(\\rho)$ при больших $N$ и $m$. Пользуясь гистограммой, определите поведение (асимптотику) $f(\\rho)$ на маленьких и больших $\\rho$. На основании этого предложите вид функциональной зависимости, который может приблизить $f(\\rho)$. Достаточно предложить функцию $\\tilde{f}_{c_1, c_2, \\ldots}(\\rho)$, где $c_1, c_2, \\ldots$ некоторое (небольшое) количество параметров, так что $\\tilde{f}(\\rho)$ неплохо приближает гистограмму при некоторых $c_i$.\n",
    "4. Повторите предыдущие пункты для случайной гауссовой эрмитовой матрицы. Для того, чтобы ее сгенерировать, можно сначала сгенерировать случайную гауссову комплексную матрицу, а затем сложить ее с эрмитово сопряженной для нее."
   ]
  },
  {
   "cell_type": "code",
   "execution_count": 23,
   "metadata": {
    "id": "evK-PDdzM06p"
   },
   "outputs": [],
   "source": [
    "import numpy as np\n",
    "\n",
    "def eigenvalues(x):\n",
    "    return np.linalg.eig(x)[0]\n",
    "\n",
    "def differences(x):\n",
    "    return np.diff(np.sort(eigenvalues(x)))\n",
    "\n",
    "def symmetric(rng, N):\n",
    "    x = rng.standard_normal(N * N).reshape((N, N))\n",
    "    x += x.transpose()\n",
    "    return np.matrix(x)\n",
    "\n",
    "def hermitian(rng, N):\n",
    "    a = rng.standard_normal(N * N).reshape((N, N))\n",
    "    b = 2j * np.pi * rng.random(N * N).reshape((N, N))\n",
    "    x = np.matrix(a * np.exp(b))\n",
    "    return x + x.H\n",
    "\n",
    "def experiment(N, generator, function, M=1, rng=None):\n",
    "    if rng is None:\n",
    "      rng = np.random.default_rng()\n",
    "    bins = int(np.sqrt(10 * N))\n",
    "    rang = (-bins, bins) if function == eigenvalues else (0, 0.5)\n",
    "    hist = np.zeros(bins)\n",
    "    for _ in range(M):\n",
    "        x = generator(rng, N)\n",
    "        x = function(x)\n",
    "        if x.dtype == complex:\n",
    "            x = np.abs(x)\n",
    "        hist += np.histogram(x, bins=bins, range=rang)[0]\n",
    "    x = np.linspace(rang[0], rang[1], bins)\n",
    "    return x, hist"
   ]
  },
  {
   "cell_type": "code",
   "execution_count": 29,
   "metadata": {
    "colab": {
     "base_uri": "https://localhost:8080/",
     "height": 448
    },
    "id": "WbMIcCEYIuZi",
    "outputId": "b86109a3-29f6-4b21-ee25-c26c4162c15e"
   },
   "outputs": [
    {
     "name": "stderr",
     "output_type": "stream",
     "text": [
      "C:\\Users\\pinbraerts\\AppData\\Local\\Temp\\ipykernel_10444\\2914816004.py:11: DeprecationWarning: Conversion of an array with ndim > 0 to a scalar is deprecated, and will error in future. Ensure you extract a single element from your array before performing this operation. (Deprecated NumPy 1.25.)\n",
      "  plt.plot(x, landau(x, x0, s / 2), label='Landau')\n"
     ]
    },
    {
     "data": {
      "text/plain": [
       "<matplotlib.legend.Legend at 0x1e8c4f75750>"
      ]
     },
     "execution_count": 29,
     "metadata": {},
     "output_type": "execute_result"
    },
    {
     "data": {
      "image/png": "[encoded data removed]",
      "text/plain": [
       "<Figure size 640x480 with 1 Axes>"
      ]
     },
     "metadata": {},
     "output_type": "display_data"
    }
   ],
   "source": [
    "import matplotlib.pyplot as plt\n",
    "from pylandau import landau\n",
    "import numpy as np\n",
    "\n",
    "x = np.linspace(0, 0.6, 100)\n",
    "s = 0.1\n",
    "x0 = 0.2\n",
    "bw      = lambda x: 1 / (x * x + 1)\n",
    "gauss   = lambda x: np.exp(-x * x)\n",
    "maxwell = lambda x: x ** 2 * gauss(x)\n",
    "plt.plot(x, landau(x, x0, s / 2), label='Landau')\n",
    "plt.plot(x, gauss((x - x0) / s), label='Gauss')\n",
    "plt.plot(x, np.e * maxwell(1 + (x - x0) / s / 2), label='Maxwell')\n",
    "plt.plot(x, bw((x - x0) / s), label='Breit-Wigner')\n",
    "plt.plot(x, bw((x * x - x0 * x0) / 2 / s / x0), label='Breit-Wigner (relativistic)')\n",
    "plt.legend()"
   ]
  },
  {
   "cell_type": "code",
   "execution_count": 25,
   "metadata": {
    "colab": {
     "base_uri": "https://localhost:8080/",
     "height": 843
    },
    "id": "7ZZo84LTL-zF",
    "outputId": "c2969d52-8de3-41fc-9443-c04309f815b0"
   },
   "outputs": [],
   "source": [
    "N = 1000\n",
    "M = 50\n",
    "hist = [0, 0, 0, 0]\n",
    "hist[0] = experiment(N, symmetric, eigenvalues, M)\n",
    "hist[1] = experiment(N, symmetric, differences, M)\n",
    "hist[2] = experiment(N, hermitian, eigenvalues, M)\n",
    "hist[3] = experiment(N, hermitian, differences, M)"
   ]
  },
  {
   "cell_type": "code",
   "execution_count": 205,
   "metadata": {
    "colab": {
     "base_uri": "https://localhost:8080/",
     "height": 843
    },
    "id": "7ZZo84LTL-zF",
    "outputId": "c2969d52-8de3-41fc-9443-c04309f815b0"
   },
   "outputs": [
    {
     "data": {
      "image/png": "[encoded data removed]",
      "text/plain": [
       "<Figure size 960x720 with 4 Axes>"
      ]
     },
     "metadata": {},
     "output_type": "display_data"
    }
   ],
   "source": [
    "from pylandau import landau\n",
    "from scipy.optimize import curve_fit\n",
    "import numpy as np\n",
    "import matplotlib.pyplot as plt\n",
    "from math import factorial\n",
    "\n",
    "gs = lambda x: np.exp(-x * x)\n",
    "mw = lambda x: x * x * gs(x)\n",
    "maxwell = lambda x, s, h: h * x * x * gs(x / s)\n",
    "pss = lambda k, s: s ** -k / factorial(k)\n",
    "poisson = lambda x, s, h: h * np.array([s ** -int(k) / factorial(int(k)) for k in x])\n",
    "lw = lambda x: x * gs(x)\n",
    "ffff = lambda x, s, h: h * x * gs(x / s)\n",
    "\n",
    "def plot_experiment(x, hist, function, ax, **kwargs):\n",
    "    yerr = np.sqrt(hist)\n",
    "    ax.errorbar(x, hist, yerr=yerr, linestyle='none', marker='none', elinewidth=0.5)\n",
    "    x2 = x * x\n",
    "    i = np.argmax(hist)\n",
    "    parameters = (0.1, hist[i])\n",
    "    if function == eigenvalues:\n",
    "        a, b = np.polyfit(x2, hist * hist, deg=1)\n",
    "        y = b + x2 * a\n",
    "        y[y < 0] = 0\n",
    "        y = np.sqrt(y)\n",
    "    else:\n",
    "        parameters, *_ = curve_fit(function, x, hist, parameters)\n",
    "        y = function(x, *parameters)\n",
    "        if function == maxwell:\n",
    "            x0 = parameters[0]\n",
    "            s = x0 * np.sqrt(3 - 8 / np.pi)\n",
    "        else:\n",
    "            x0 = parameters[0] / np.sqrt(2)\n",
    "            s = x0 * np.sqrt(4 - np.pi)\n",
    "        ax.plot([x0, x0], [0, hist[np.abs(x - x0).argmin()]], color='black', label='$x_0$')\n",
    "        max_half = function(x0 + s, *parameters)\n",
    "        ax.plot([x0 - s * 0.75, x0 + s], [max_half, max_half], color='grey', label='$\\sigma$')\n",
    "        parameters = (x0, s)\n",
    "    if 'title' in kwargs:\n",
    "        ax.set_title(kwargs.pop('title'))\n",
    "    ax.plot(x, y, color='red', alpha=0.5, **kwargs)\n",
    "    if 'label' in kwargs:\n",
    "        ax.legend()\n",
    "    return parameters\n",
    "\n",
    "fig, axs = plt.subplots(2, 2, dpi=150)\n",
    "plot_experiment(hist[0][0], hist[0][1], eigenvalues, axs[0][0], title='$\\mathbb{R} \\qquad eigenvalues$')\n",
    "plot_experiment(hist[1][0], hist[1][1], ffff, axs[0][1], label='$x e^{-x^2}$', title='$\\mathbb{R} \\qquad distances$')\n",
    "half = len(hist[2][0])//2\n",
    "plot_experiment(hist[2][0][half:], hist[2][1][half:], eigenvalues, axs[1][0], title='$\\mathbb{C} \\qquad eigenvalues$')\n",
    "plot_experiment(hist[3][0], hist[3][1], maxwell, axs[1][1], label='$x^2 e^{-x^2}$', title='$\\mathbb{C} \\qquad distances$')\n",
    "fig.tight_layout()"
   ]
  },
  {
   "cell_type": "markdown",
   "metadata": {},
   "source": [
    "$$ PDF(\\rho_{\\mathbb{R}}) \\propto x e^{-x^2} $$\n",
    "$$ PDF(\\rho_{\\mathbb{C}}) \\propto x ^ 2 e^{-x^2} = maxwell $$"
   ]
  },
  {
   "cell_type": "code",
   "execution_count": null,
   "metadata": {},
   "outputs": [],
   "source": []
  }
 ],
 "metadata": {
  "anaconda-cloud": {},
  "celltoolbar": "Слайд-шоу",
  "colab": {
   "include_colab_link": true,
   "provenance": []
  },
  "kernelspec": {
   "display_name": "Python 3 (ipykernel)",
   "language": "python",
   "name": "python3"
  },
  "language_info": {
   "codemirror_mode": {
    "name": "ipython",
    "version": 3
   },
   "file_extension": ".py",
   "mimetype": "text/x-python",
   "name": "python",
   "nbconvert_exporter": "python",
   "pygments_lexer": "ipython3",
   "version": "3.11.1"
  },
  "livereveal": {
   "scroll": true,
   "theme": "simple",
   "transition": "convex"
  },
  "nbpresent": {
   "slides": {
    "1ffee25c-251f-4cbf-af3d-a1d5521081b9": {
     "id": "1ffee25c-251f-4cbf-af3d-a1d5521081b9",
     "prev": "eb43fa9f-eb7c-417b-ab1a-99371ff452e2",
     "regions": {
      "2e1a7b46-c253-4096-a0a5-dfbc6cfb086e": {
       "attrs": {
        "height": 0.8,
        "width": 0.8,
        "x": 0.1,
        "y": 0.1
       },
       "content": {
        "cell": "bf40e897-f1f8-4e69-b826-fe53fb761aad",
        "part": "whole"
       },
       "id": "2e1a7b46-c253-4096-a0a5-dfbc6cfb086e"
      }
     }
    },
    "37c43f64-6426-4a98-8de1-a6ca1dd72190": {
     "id": "37c43f64-6426-4a98-8de1-a6ca1dd72190",
     "prev": "d2b700ea-e44e-4bed-9ce4-ddf1532b44cb",
     "regions": {
      "45a20e24-b33f-4c55-8df2-e96075b5e2af": {
       "attrs": {
        "height": 0.8,
        "width": 0.8,
        "x": 0.1,
        "y": 0.1
       },
       "content": {
        "cell": "e730e690-97c9-4acd-bf81-4c5ab0bbd48e",
        "part": "whole"
       },
       "id": "45a20e24-b33f-4c55-8df2-e96075b5e2af"
      }
     }
    },
    "5bf0841a-23d1-413e-a557-911111e3e336": {
     "id": "5bf0841a-23d1-413e-a557-911111e3e336",
     "prev": "ebd3a807-2380-4bd6-8e58-c9424f3ed713",
     "regions": {
      "3c8adac9-5366-49e9-96ab-965c77e83485": {
       "attrs": {
        "height": 0.8,
        "width": 0.8,
        "x": 0.1,
        "y": 0.1
       },
       "content": {
        "cell": "2e08a439-2699-4ecf-9189-dfbbf745ad4e",
        "part": "whole"
       },
       "id": "3c8adac9-5366-49e9-96ab-965c77e83485"
      }
     }
    },
    "60ffd9bc-f20d-41e5-8771-5f11695177c6": {
     "id": "60ffd9bc-f20d-41e5-8771-5f11695177c6",
     "prev": "97575fe4-de27-4833-b616-7479f99519d0",
     "regions": {
      "807a955a-60c8-4f03-8734-54dfd52113d6": {
       "attrs": {
        "height": 0.8,
        "width": 0.8,
        "x": 0.1,
        "y": 0.1
       },
       "content": {
        "cell": "795c8121-f820-4edc-aeba-fc399b38f4b2",
        "part": "whole"
       },
       "id": "807a955a-60c8-4f03-8734-54dfd52113d6"
      }
     }
    },
    "623d8bc9-43df-451f-b862-76c2b54708ea": {
     "id": "623d8bc9-43df-451f-b862-76c2b54708ea",
     "prev": "eded54a5-7710-4ab6-8229-3ca4029d1ae7",
     "regions": {
      "42b1d4d4-2905-454b-b564-92f58dec8f81": {
       "attrs": {
        "height": 0.8,
        "width": 0.8,
        "x": 0.1,
        "y": 0.1
       },
       "content": {
        "cell": "16fd05b0-8ac8-4da2-8980-54d0d253d110",
        "part": "whole"
       },
       "id": "42b1d4d4-2905-454b-b564-92f58dec8f81"
      }
     }
    },
    "6dabcfe1-1c90-4893-8f01-c39e431f00bb": {
     "id": "6dabcfe1-1c90-4893-8f01-c39e431f00bb",
     "prev": "37c43f64-6426-4a98-8de1-a6ca1dd72190",
     "regions": {
      "1126b4c4-7df3-4db1-962b-abe099db9928": {
       "attrs": {
        "height": 0.8,
        "width": 0.8,
        "x": 0.1,
        "y": 0.1
       },
       "content": {
        "cell": "54519c05-1028-4e5c-a2d2-e21f821e99aa",
        "part": "whole"
       },
       "id": "1126b4c4-7df3-4db1-962b-abe099db9928"
      }
     }
    },
    "91753ba8-05fe-465f-806d-0faf4a21a031": {
     "id": "91753ba8-05fe-465f-806d-0faf4a21a031",
     "prev": "5bf0841a-23d1-413e-a557-911111e3e336",
     "regions": {
      "eb271beb-70d0-452e-b896-43695be4ae85": {
       "attrs": {
        "height": 0.8,
        "width": 0.8,
        "x": 0.1,
        "y": 0.1
       },
       "content": {
        "cell": "31cc3d04-22a5-4773-b4e1-abfb09f8bbc2",
        "part": "whole"
       },
       "id": "eb271beb-70d0-452e-b896-43695be4ae85"
      }
     }
    },
    "97575fe4-de27-4833-b616-7479f99519d0": {
     "id": "97575fe4-de27-4833-b616-7479f99519d0",
     "prev": "b8aebb38-1266-40c2-928a-026f9d33ec5c",
     "regions": {
      "01deb5d1-73e8-4d64-b93e-e7646647af3b": {
       "attrs": {
        "height": 0.8,
        "width": 0.8,
        "x": 0.1,
        "y": 0.1
       },
       "content": {
        "cell": "7f2bdffe-4f2a-446b-8805-d4fd262fced1",
        "part": "whole"
       },
       "id": "01deb5d1-73e8-4d64-b93e-e7646647af3b"
      }
     }
    },
    "9cc88d72-9ac9-4c24-96d5-abc94cea6e92": {
     "id": "9cc88d72-9ac9-4c24-96d5-abc94cea6e92",
     "prev": "1ffee25c-251f-4cbf-af3d-a1d5521081b9",
     "regions": {
      "78febecd-5100-493b-8f0d-0cc35ceae42e": {
       "attrs": {
        "height": 0.8,
        "width": 0.8,
        "x": 0.1,
        "y": 0.1
       },
       "content": {
        "cell": "bef00443-818c-4614-aa63-8a2e117462ec",
        "part": "whole"
       },
       "id": "78febecd-5100-493b-8f0d-0cc35ceae42e"
      }
     }
    },
    "a5df524d-67a8-4ae1-8258-9231728bdd14": {
     "id": "a5df524d-67a8-4ae1-8258-9231728bdd14",
     "prev": "623d8bc9-43df-451f-b862-76c2b54708ea",
     "regions": {
      "68e876ca-f943-4b2e-8268-439db992b310": {
       "attrs": {
        "height": 0.8,
        "width": 0.8,
        "x": 0.1,
        "y": 0.1
       },
       "content": {
        "cell": "40af6766-3ae3-4acc-8417-439eb8968553",
        "part": "whole"
       },
       "id": "68e876ca-f943-4b2e-8268-439db992b310"
      }
     }
    },
    "b62355d8-8b93-4dfc-8016-6548952c0f8c": {
     "id": "b62355d8-8b93-4dfc-8016-6548952c0f8c",
     "prev": "f59840cf-124e-4d10-8b89-3aafe98f38ba",
     "regions": {
      "381cc6bd-bde3-4d58-8277-99fbd69c7a4f": {
       "attrs": {
        "height": 0.8,
        "width": 0.8,
        "x": 0.1,
        "y": 0.1
       },
       "content": {
        "cell": "b92c1827-c799-44b9-b770-f45e95c917da",
        "part": "whole"
       },
       "id": "381cc6bd-bde3-4d58-8277-99fbd69c7a4f"
      }
     }
    },
    "b8aebb38-1266-40c2-928a-026f9d33ec5c": {
     "id": "b8aebb38-1266-40c2-928a-026f9d33ec5c",
     "prev": "9cc88d72-9ac9-4c24-96d5-abc94cea6e92",
     "regions": {
      "1bc2d24e-0782-443b-83a4-bc683c5ac6cb": {
       "attrs": {
        "height": 0.8,
        "width": 0.8,
        "x": 0.1,
        "y": 0.1
       },
       "content": {
        "cell": "cbb3d96a-fdd6-436e-86b6-1be446b43e84",
        "part": "whole"
       },
       "id": "1bc2d24e-0782-443b-83a4-bc683c5ac6cb"
      }
     }
    },
    "d2b700ea-e44e-4bed-9ce4-ddf1532b44cb": {
     "id": "d2b700ea-e44e-4bed-9ce4-ddf1532b44cb",
     "prev": "a5df524d-67a8-4ae1-8258-9231728bdd14",
     "regions": {
      "474bc80d-f262-4e62-afae-4565c0979e03": {
       "attrs": {
        "height": 0.8,
        "width": 0.8,
        "x": 0.1,
        "y": 0.1
       },
       "content": {
        "cell": "a67001a3-e51e-4a22-bdcd-249cde5581c1",
        "part": "whole"
       },
       "id": "474bc80d-f262-4e62-afae-4565c0979e03"
      }
     }
    },
    "d989978f-1d85-4802-953f-0e82f1a0fd51": {
     "id": "d989978f-1d85-4802-953f-0e82f1a0fd51",
     "prev": null,
     "regions": {
      "e3ddb97a-209b-4c70-91d7-df0cadcefb0d": {
       "attrs": {
        "height": 0.8,
        "width": 0.8,
        "x": 0.1,
        "y": 0.1
       },
       "content": {
        "cell": "13101ac1-2637-4d0f-9f1f-cd32215b02c3",
        "part": "whole"
       },
       "id": "e3ddb97a-209b-4c70-91d7-df0cadcefb0d"
      }
     }
    },
    "eb43fa9f-eb7c-417b-ab1a-99371ff452e2": {
     "id": "eb43fa9f-eb7c-417b-ab1a-99371ff452e2",
     "prev": "b62355d8-8b93-4dfc-8016-6548952c0f8c",
     "regions": {
      "b9415d21-f857-4a93-a788-c7dc51dedea0": {
       "attrs": {
        "height": 0.8,
        "width": 0.8,
        "x": 0.1,
        "y": 0.1
       },
       "content": {
        "cell": "e29b9590-fc86-46fd-83be-3ff48c7a8df4",
        "part": "whole"
       },
       "id": "b9415d21-f857-4a93-a788-c7dc51dedea0"
      }
     }
    },
    "ebd3a807-2380-4bd6-8e58-c9424f3ed713": {
     "id": "ebd3a807-2380-4bd6-8e58-c9424f3ed713",
     "prev": "f3fb61c6-f807-4942-8c41-0e80240a5146",
     "regions": {
      "7eaeb4e2-d47e-43e4-92c4-ed8cc1e9aac7": {
       "attrs": {
        "height": 0.8,
        "width": 0.8,
        "x": 0.1,
        "y": 0.1
       },
       "content": {
        "cell": "412353c7-42b2-42c7-8702-69568c809a97",
        "part": "whole"
       },
       "id": "7eaeb4e2-d47e-43e4-92c4-ed8cc1e9aac7"
      }
     }
    },
    "eded54a5-7710-4ab6-8229-3ca4029d1ae7": {
     "id": "eded54a5-7710-4ab6-8229-3ca4029d1ae7",
     "prev": "91753ba8-05fe-465f-806d-0faf4a21a031",
     "regions": {
      "816c3f73-4147-4cdb-b7d1-f5f82fa6003b": {
       "attrs": {
        "height": 0.8,
        "width": 0.8,
        "x": 0.1,
        "y": 0.1
       },
       "content": {
        "cell": "fa2d4b89-0d7a-41f1-8635-c5905d106cf3",
        "part": "whole"
       },
       "id": "816c3f73-4147-4cdb-b7d1-f5f82fa6003b"
      }
     }
    },
    "f3fb61c6-f807-4942-8c41-0e80240a5146": {
     "id": "f3fb61c6-f807-4942-8c41-0e80240a5146",
     "prev": "d989978f-1d85-4802-953f-0e82f1a0fd51",
     "regions": {
      "4f7abbfb-161b-44ce-bdab-05ef0b2a5542": {
       "attrs": {
        "height": 0.8,
        "width": 0.8,
        "x": 0.1,
        "y": 0.1
       },
       "content": {
        "cell": "8ce7bf3f-66e0-4462-a540-e87bceeadb7f",
        "part": "whole"
       },
       "id": "4f7abbfb-161b-44ce-bdab-05ef0b2a5542"
      }
     }
    },
    "f59840cf-124e-4d10-8b89-3aafe98f38ba": {
     "id": "f59840cf-124e-4d10-8b89-3aafe98f38ba",
     "prev": "6dabcfe1-1c90-4893-8f01-c39e431f00bb",
     "regions": {
      "e67fa4b9-f237-40ff-8621-fcdbfdd83101": {
       "attrs": {
        "height": 0.8,
        "width": 0.8,
        "x": 0.1,
        "y": 0.1
       },
       "content": {
        "cell": "4ae9a30c-81bc-4396-90d8-939a8e59f287",
        "part": "whole"
       },
       "id": "e67fa4b9-f237-40ff-8621-fcdbfdd83101"
      }
     }
    }
   },
   "themes": {
    "default": "c04eebe0-c348-41e9-bcfb-a65d4bd126df",
    "theme": {
     "c04eebe0-c348-41e9-bcfb-a65d4bd126df": {
      "id": "c04eebe0-c348-41e9-bcfb-a65d4bd126df",
      "palette": {
       "19cc588f-0593-49c9-9f4b-e4d7cc113b1c": {
        "id": "19cc588f-0593-49c9-9f4b-e4d7cc113b1c",
        "rgb": [
         252,
         252,
         252
        ]
       },
       "31af15d2-7e15-44c5-ab5e-e04b16a89eff": {
        "id": "31af15d2-7e15-44c5-ab5e-e04b16a89eff",
        "rgb": [
         68,
         68,
         68
        ]
       },
       "50f92c45-a630-455b-aec3-788680ec7410": {
        "id": "50f92c45-a630-455b-aec3-788680ec7410",
        "rgb": [
         155,
         177,
         192
        ]
       },
       "c5cc3653-2ee1-402a-aba2-7caae1da4f6c": {
        "id": "c5cc3653-2ee1-402a-aba2-7caae1da4f6c",
        "rgb": [
         43,
         126,
         184
        ]
       },
       "efa7f048-9acb-414c-8b04-a26811511a21": {
        "id": "efa7f048-9acb-414c-8b04-a26811511a21",
        "rgb": [
         25.118061674008803,
         73.60176211453744,
         107.4819383259912
        ]
       }
      },
      "rules": {
       "blockquote": {
        "color": "50f92c45-a630-455b-aec3-788680ec7410"
       },
       "code": {
        "font-family": "Anonymous Pro"
       },
       "h1": {
        "color": "c5cc3653-2ee1-402a-aba2-7caae1da4f6c",
        "font-family": "Lato",
        "font-size": 8
       },
       "h2": {
        "color": "c5cc3653-2ee1-402a-aba2-7caae1da4f6c",
        "font-family": "Lato",
        "font-size": 6
       },
       "h3": {
        "color": "50f92c45-a630-455b-aec3-788680ec7410",
        "font-family": "Lato",
        "font-size": 5.5
       },
       "h4": {
        "color": "c5cc3653-2ee1-402a-aba2-7caae1da4f6c",
        "font-family": "Lato",
        "font-size": 5
       },
       "h5": {
        "font-family": "Lato"
       },
       "h6": {
        "font-family": "Lato"
       },
       "h7": {
        "font-family": "Lato"
       },
       "pre": {
        "font-family": "Anonymous Pro",
        "font-size": 4
       }
      },
      "text-base": {
       "font-family": "Merriweather",
       "font-size": 4
      }
     },
     "f0b95bb9-67a7-4d14-bf09-657a5b556dbe": {
      "id": "f0b95bb9-67a7-4d14-bf09-657a5b556dbe",
      "palette": {
       "19cc588f-0593-49c9-9f4b-e4d7cc113b1c": {
        "id": "19cc588f-0593-49c9-9f4b-e4d7cc113b1c",
        "rgb": [
         252,
         252,
         252
        ]
       },
       "31af15d2-7e15-44c5-ab5e-e04b16a89eff": {
        "id": "31af15d2-7e15-44c5-ab5e-e04b16a89eff",
        "rgb": [
         68,
         68,
         68
        ]
       },
       "50f92c45-a630-455b-aec3-788680ec7410": {
        "id": "50f92c45-a630-455b-aec3-788680ec7410",
        "rgb": [
         155,
         177,
         192
        ]
       },
       "c5cc3653-2ee1-402a-aba2-7caae1da4f6c": {
        "id": "c5cc3653-2ee1-402a-aba2-7caae1da4f6c",
        "rgb": [
         43,
         126,
         184
        ]
       },
       "efa7f048-9acb-414c-8b04-a26811511a21": {
        "id": "efa7f048-9acb-414c-8b04-a26811511a21",
        "rgb": [
         25.118061674008803,
         73.60176211453744,
         107.4819383259912
        ]
       }
      },
      "rules": {
       "blockquote": {
        "color": "50f92c45-a630-455b-aec3-788680ec7410"
       },
       "code": {
        "font-family": "Anonymous Pro"
       },
       "h1": {
        "color": "c5cc3653-2ee1-402a-aba2-7caae1da4f6c",
        "font-family": "Lato",
        "font-size": 8
       },
       "h2": {
        "color": "c5cc3653-2ee1-402a-aba2-7caae1da4f6c",
        "font-family": "Lato",
        "font-size": 6
       },
       "h3": {
        "color": "50f92c45-a630-455b-aec3-788680ec7410",
        "font-family": "Lato",
        "font-size": 5.5
       },
       "h4": {
        "color": "c5cc3653-2ee1-402a-aba2-7caae1da4f6c",
        "font-family": "Lato",
        "font-size": 5
       },
       "h5": {
        "font-family": "Lato"
       },
       "h6": {
        "font-family": "Lato"
       },
       "h7": {
        "font-family": "Lato"
       },
       "pre": {
        "font-family": "Anonymous Pro",
        "font-size": 4
       }
      },
      "text-base": {
       "font-family": "Merriweather",
       "font-size": 4
      }
     }
    }
   }
  }
 },
 "nbformat": 4,
 "nbformat_minor": 4
}
